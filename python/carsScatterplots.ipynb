{
 "cells": [
  {
   "cell_type": "markdown",
   "metadata": {},
   "source": [
    "# Assignment 3: Scatterplots\n",
    "\n",
    "Imogen Cleaver-Stigum\n",
    "\n",
    "CS 573 Data Visualization\n",
    "\n",
    "Due 26 Feb 2021"
   ]
  },
  {
   "cell_type": "code",
   "execution_count": 1,
   "metadata": {},
   "outputs": [
    {
     "data": {
      "text/html": [
       "<div>\n",
       "<style scoped>\n",
       "    .dataframe tbody tr th:only-of-type {\n",
       "        vertical-align: middle;\n",
       "    }\n",
       "\n",
       "    .dataframe tbody tr th {\n",
       "        vertical-align: top;\n",
       "    }\n",
       "\n",
       "    .dataframe thead th {\n",
       "        text-align: right;\n",
       "    }\n",
       "</style>\n",
       "<table border=\"1\" class=\"dataframe\">\n",
       "  <thead>\n",
       "    <tr style=\"text-align: right;\">\n",
       "      <th></th>\n",
       "      <th>Unnamed: 0</th>\n",
       "      <th>Car</th>\n",
       "      <th>Manufacturer</th>\n",
       "      <th>MPG</th>\n",
       "      <th>Cylinders</th>\n",
       "      <th>Displacement</th>\n",
       "      <th>Horsepower</th>\n",
       "      <th>Weight</th>\n",
       "      <th>Acceleration</th>\n",
       "      <th>Model.Year</th>\n",
       "      <th>Origin</th>\n",
       "    </tr>\n",
       "  </thead>\n",
       "  <tbody>\n",
       "    <tr>\n",
       "      <th>0</th>\n",
       "      <td>5</td>\n",
       "      <td>torino</td>\n",
       "      <td>ford</td>\n",
       "      <td>17.0</td>\n",
       "      <td>8</td>\n",
       "      <td>302</td>\n",
       "      <td>140.0</td>\n",
       "      <td>3449</td>\n",
       "      <td>10.5</td>\n",
       "      <td>70</td>\n",
       "      <td>American</td>\n",
       "    </tr>\n",
       "    <tr>\n",
       "      <th>1</th>\n",
       "      <td>6</td>\n",
       "      <td>galaxie 500</td>\n",
       "      <td>ford</td>\n",
       "      <td>15.0</td>\n",
       "      <td>8</td>\n",
       "      <td>429</td>\n",
       "      <td>198.0</td>\n",
       "      <td>4341</td>\n",
       "      <td>10.0</td>\n",
       "      <td>70</td>\n",
       "      <td>American</td>\n",
       "    </tr>\n",
       "    <tr>\n",
       "      <th>2</th>\n",
       "      <td>13</td>\n",
       "      <td>torino (sw)</td>\n",
       "      <td>ford</td>\n",
       "      <td>NaN</td>\n",
       "      <td>8</td>\n",
       "      <td>351</td>\n",
       "      <td>153.0</td>\n",
       "      <td>4034</td>\n",
       "      <td>11.0</td>\n",
       "      <td>70</td>\n",
       "      <td>American</td>\n",
       "    </tr>\n",
       "    <tr>\n",
       "      <th>3</th>\n",
       "      <td>18</td>\n",
       "      <td>mustang boss 302</td>\n",
       "      <td>ford</td>\n",
       "      <td>NaN</td>\n",
       "      <td>8</td>\n",
       "      <td>302</td>\n",
       "      <td>140.0</td>\n",
       "      <td>3353</td>\n",
       "      <td>8.0</td>\n",
       "      <td>70</td>\n",
       "      <td>American</td>\n",
       "    </tr>\n",
       "    <tr>\n",
       "      <th>4</th>\n",
       "      <td>21</td>\n",
       "      <td>corona mark ii</td>\n",
       "      <td>toyota</td>\n",
       "      <td>24.0</td>\n",
       "      <td>4</td>\n",
       "      <td>113</td>\n",
       "      <td>95.0</td>\n",
       "      <td>2372</td>\n",
       "      <td>15.0</td>\n",
       "      <td>70</td>\n",
       "      <td>Japanese</td>\n",
       "    </tr>\n",
       "  </tbody>\n",
       "</table>\n",
       "</div>"
      ],
      "text/plain": [
       "   Unnamed: 0               Car Manufacturer   MPG  Cylinders  Displacement  \\\n",
       "0           5            torino         ford  17.0          8           302   \n",
       "1           6       galaxie 500         ford  15.0          8           429   \n",
       "2          13       torino (sw)         ford   NaN          8           351   \n",
       "3          18  mustang boss 302         ford   NaN          8           302   \n",
       "4          21    corona mark ii       toyota  24.0          4           113   \n",
       "\n",
       "   Horsepower  Weight  Acceleration  Model.Year    Origin  \n",
       "0       140.0    3449          10.5          70  American  \n",
       "1       198.0    4341          10.0          70  American  \n",
       "2       153.0    4034          11.0          70  American  \n",
       "3       140.0    3353           8.0          70  American  \n",
       "4        95.0    2372          15.0          70  Japanese  "
      ]
     },
     "execution_count": 1,
     "metadata": {},
     "output_type": "execute_result"
    }
   ],
   "source": [
    "import numpy as np\n",
    "import pandas as pd\n",
    "\n",
    "cars = pd.read_csv(r'C:\\Users\\imoge\\02-datavis-7ways\\cars-sample.csv')\n",
    "cars.head()"
   ]
  },
  {
   "cell_type": "markdown",
   "metadata": {},
   "source": [
    "Get some nice colors "
   ]
  },
  {
   "cell_type": "code",
   "execution_count": 2,
   "metadata": {},
   "outputs": [
    {
     "data": {
      "text/plain": [
       "array(['bmw', 'ford', 'honda', 'mercedes', 'toyota'], dtype=object)"
      ]
     },
     "execution_count": 2,
     "metadata": {},
     "output_type": "execute_result"
    }
   ],
   "source": [
    "manu = np.unique(cars['Manufacturer'])\n",
    "manu"
   ]
  },
  {
   "cell_type": "code",
   "execution_count": 3,
   "metadata": {},
   "outputs": [
    {
     "data": {
      "text/plain": [
       "5"
      ]
     },
     "execution_count": 3,
     "metadata": {},
     "output_type": "execute_result"
    }
   ],
   "source": [
    "len(manu)"
   ]
  },
  {
   "cell_type": "code",
   "execution_count": 4,
   "metadata": {},
   "outputs": [],
   "source": [
    "colors = ['tab:pink', 'tab:olive', 'tab:grey', 'tab:brown', 'tab:cyan']\n",
    "#             bmw        ford        honda       mercedes     toyota\n",
    "car_colors = ['#000000']*len(cars)\n",
    "for i in range(len(cars)):\n",
    "    for j in range(len(manu)):\n",
    "        if cars['Manufacturer'][i] == manu[j]:\n",
    "            car_colors[i] = colors[j]"
   ]
  },
  {
   "cell_type": "markdown",
   "metadata": {},
   "source": [
    "# Matplotlib"
   ]
  },
  {
   "cell_type": "code",
   "execution_count": 9,
   "metadata": {},
   "outputs": [
    {
     "data": {
      "image/png": "[encoded data removed]",
      "text/plain": [
       "<Figure size 432x288 with 1 Axes>"
      ]
     },
     "metadata": {
      "needs_background": "light"
     },
     "output_type": "display_data"
    }
   ],
   "source": [
    "import matplotlib.pyplot as plt\n",
    "\n",
    "plt.scatter(cars['Weight'], cars['MPG'], alpha=0.5, s=cars['Weight']/40, c=car_colors, marker='o')\n",
    "plt.title('Cars Weight vs MPG')\n",
    "plt.xlabel('Weight')\n",
    "plt.ylabel('MPG')\n",
    "plt.show()"
   ]
  },
  {
   "cell_type": "markdown",
   "metadata": {},
   "source": [
    "# Seaborn"
   ]
  },
  {
   "cell_type": "code",
   "execution_count": 18,
   "metadata": {},
   "outputs": [
    {
     "data": {
      "text/plain": [
       "Text(0.5, 1.0, 'Cars Weight vs MPG')"
      ]
     },
     "execution_count": 18,
     "metadata": {},
     "output_type": "execute_result"
    },
    {
     "data": {
      "image/png": "[encoded data removed]",
      "text/plain": [
       "<Figure size 468x468 with 1 Axes>"
      ]
     },
     "metadata": {},
     "output_type": "display_data"
    }
   ],
   "source": [
    "import seaborn as sns\n",
    "import matplotlib.pyplot as plt\n",
    "\n",
    "sns.set_style('ticks')\n",
    "# sns.set_style(\"dark\")\n",
    "f, ax = plt.subplots(figsize=(6.5, 6.5))\n",
    "sns.despine(f, left=True, bottom=True)\n",
    "sns.scatterplot(x=cars['Weight'], y=cars['MPG'],\n",
    "                hue=car_colors, size=cars['Weight'],\n",
    "                alpha=.5)\n",
    "ax.set_title('Cars Weight vs MPG')"
   ]
  },
  {
   "cell_type": "markdown",
   "metadata": {},
   "source": [
    "# Plotly"
   ]
  },
  {
   "cell_type": "code",
   "execution_count": 6,
   "metadata": {},
   "outputs": [
    {
     "data": {
      "application/vnd.plotly.v1+json": {
       "config": {
        "plotlyServerURL": "https://plot.ly"
       },
       "data": [
        {
         "customdata": [
          [
           140,
           "torino"
          ],
          [
           198,
           "galaxie 500"
          ],
          [
           153,
           "torino (sw)"
          ],
          [
           140,
           "mustang boss 302"
          ],
          [
           85,
           "maverick"
          ],
          [
           215,
           "f250"
          ],
          [
           null,
           "pinto"
          ],
          [
           88,
           "torino 500"
          ],
          [
           153,
           "galaxie 500"
          ],
          [
           170,
           "country squire (sw)"
          ],
          [
           88,
           "mustang"
          ],
          [
           86,
           "pinto runabout"
          ],
          [
           153,
           "galaxie 500"
          ],
          [
           140,
           "gran torino (sw)"
          ],
          [
           86,
           "pinto (sw)"
          ],
          [
           137,
           "gran torino"
          ],
          [
           158,
           "ltd"
          ],
          [
           88,
           "maverick"
          ],
          [
           167,
           "country"
          ],
          [
           85,
           "pinto"
          ],
          [
           null,
           "maverick"
          ],
          [
           80,
           "pinto"
          ],
          [
           140,
           "gran torino"
          ],
          [
           140,
           "gran torino (sw)"
          ],
          [
           72,
           "maverick"
          ],
          [
           148,
           "ltd"
          ],
          [
           129,
           "mustang ii"
          ],
          [
           83,
           "pinto"
          ],
          [
           97,
           "pinto"
          ],
          [
           152,
           "gran torino"
          ],
          [
           81,
           "maverick"
          ],
          [
           78,
           "granada ghia"
          ],
          [
           72,
           "pinto"
          ],
          [
           130,
           "f108"
          ],
          [
           98,
           "granada"
          ],
          [
           149,
           "thunderbird"
          ],
          [
           89,
           "mustang ii 2+2"
          ],
          [
           66,
           "fiesta"
          ],
          [
           85,
           "fairmont (auto)"
          ],
          [
           88,
           "fairmont (man)"
          ],
          [
           139,
           "futura"
          ],
          [
           88,
           "fairmont 4"
          ],
          [
           129,
           "ltd landau"
          ],
          [
           142,
           "country squire (sw)"
          ],
          [
           88,
           "fairmont"
          ],
          [
           null,
           "mustang cobra"
          ],
          [
           65,
           "escort 4w"
          ],
          [
           65,
           "escort 2h"
          ],
          [
           88,
           "granada gl"
          ],
          [
           92,
           "fairmont futura"
          ],
          [
           112,
           "granada l"
          ],
          [
           86,
           "mustang gl"
          ],
          [
           79,
           "ranger"
          ]
         ],
         "hovertemplate": "Manufacturer=ford<br>Weight=%{marker.size}<br>MPG=%{y}<br>Horsepower=%{customdata[0]}<br>Car=%{customdata[1]}<extra></extra>",
         "legendgroup": "ford",
         "marker": {
          "color": "#636efa",
          "size": [
           3449,
           4341,
           4034,
           3353,
           2587,
           4615,
           2046,
           3302,
           4154,
           4746,
           3139,
           2226,
           4129,
           4294,
           2395,
           4042,
           4363,
           3021,
           4906,
           2310,
           2875,
           2451,
           4141,
           4638,
           3158,
           4657,
           3169,
           2639,
           2984,
           4215,
           3012,
           3574,
           2565,
           3870,
           3525,
           4335,
           2755,
           1800,
           2965,
           2720,
           3205,
           2890,
           3725,
           4054,
           2870,
           2905,
           2045,
           2380,
           3060,
           2865,
           2835,
           2790,
           2625
          ],
          "sizemode": "area",
          "sizeref": 12.265,
          "symbol": "circle"
         },
         "mode": "markers",
         "name": "ford",
         "orientation": "v",
         "showlegend": true,
         "type": "scatter",
         "x": [
          3449,
          4341,
          4034,
          3353,
          2587,
          4615,
          2046,
          3302,
          4154,
          4746,
          3139,
          2226,
          4129,
          4294,
          2395,
          4042,
          4363,
          3021,
          4906,
          2310,
          2875,
          2451,
          4141,
          4638,
          3158,
          4657,
          3169,
          2639,
          2984,
          4215,
          3012,
          3574,
          2565,
          3870,
          3525,
          4335,
          2755,
          1800,
          2965,
          2720,
          3205,
          2890,
          3725,
          4054,
          2870,
          2905,
          2045,
          2380,
          3060,
          2865,
          2835,
          2790,
          2625
         ],
         "xaxis": "x",
         "y": [
          17,
          15,
          null,
          null,
          21,
          10,
          25,
          19,
          14,
          13,
          18,
          21,
          14,
          13,
          22,
          14,
          13,
          18,
          12,
          19,
          21,
          26,
          16,
          14,
          15,
          14,
          13,
          23,
          18,
          14.5,
          24,
          18,
          26.5,
          13,
          18.5,
          16,
          25.5,
          36.1,
          20.2,
          25.1,
          18.1,
          22.3,
          17.6,
          15.5,
          26.4,
          23.6,
          34.4,
          29.9,
          20.2,
          24,
          22,
          27,
          28
         ],
         "yaxis": "y"
        },
        {
         "customdata": [
          [
           95,
           "corona mark ii"
          ],
          [
           95,
           "corona"
          ],
          [
           65,
           "corolla 1200"
          ],
          [
           95,
           "corona hardtop"
          ],
          [
           97,
           "corona mark ii (sw)"
          ],
          [
           88,
           "corolla 1600 (sw)"
          ],
          [
           88,
           "carina"
          ],
          [
           122,
           "mark ii"
          ],
          [
           65,
           "corolla 1200"
          ],
          [
           52,
           "corona"
          ],
          [
           75,
           "corolla"
          ],
          [
           96,
           "corona"
          ],
          [
           75,
           "corolla"
          ],
          [
           108,
           "mark ii"
          ],
          [
           75,
           "corolla liftback"
          ],
          [
           95,
           "corona"
          ],
          [
           95,
           "celica gt liftback"
          ],
          [
           60,
           "corolla tercel"
          ],
          [
           90,
           "corona liftback"
          ],
          [
           75,
           "corolla"
          ],
          [
           58,
           "starlet"
          ],
          [
           62,
           "tercel"
          ],
          [
           75,
           "corolla"
          ],
          [
           116,
           "cressida"
          ],
          [
           70,
           "corolla"
          ],
          [
           96,
           "celica gt"
          ]
         ],
         "hovertemplate": "Manufacturer=toyota<br>Weight=%{marker.size}<br>MPG=%{y}<br>Horsepower=%{customdata[0]}<br>Car=%{customdata[1]}<extra></extra>",
         "legendgroup": "toyota",
         "marker": {
          "color": "#EF553B",
          "size": [
           2372,
           2228,
           1773,
           2278,
           2506,
           2100,
           2279,
           2807,
           1836,
           1649,
           2171,
           2702,
           2155,
           2930,
           2265,
           2560,
           2515,
           1968,
           2711,
           2265,
           1755,
           2050,
           2350,
           2900,
           2245,
           2665
          ],
          "sizemode": "area",
          "sizeref": 12.265,
          "symbol": "circle"
         },
         "mode": "markers",
         "name": "toyota",
         "orientation": "v",
         "showlegend": true,
         "type": "scatter",
         "x": [
          2372,
          2228,
          1773,
          2278,
          2506,
          2100,
          2279,
          2807,
          1836,
          1649,
          2171,
          2702,
          2155,
          2930,
          2265,
          2560,
          2515,
          1968,
          2711,
          2265,
          1755,
          2050,
          2350,
          2900,
          2245,
          2665
         ],
         "xaxis": "x",
         "y": [
          24,
          25,
          31,
          24,
          23,
          27,
          20,
          20,
          32,
          31,
          29,
          24,
          28,
          19,
          26,
          27.5,
          21.1,
          38.1,
          29.8,
          32.2,
          39.1,
          37.7,
          32.4,
          25.4,
          34,
          32
         ],
         "yaxis": "y"
        },
        {
         "customdata": [
          [
           113,
           "2002"
          ],
          [
           110,
           "320i"
          ]
         ],
         "hovertemplate": "Manufacturer=bmw<br>Weight=%{marker.size}<br>MPG=%{y}<br>Horsepower=%{customdata[0]}<br>Car=%{customdata[1]}<extra></extra>",
         "legendgroup": "bmw",
         "marker": {
          "color": "#00cc96",
          "size": [
           2234,
           2600
          ],
          "sizemode": "area",
          "sizeref": 12.265,
          "symbol": "circle"
         },
         "mode": "markers",
         "name": "bmw",
         "orientation": "v",
         "showlegend": true,
         "type": "scatter",
         "x": [
          2234,
          2600
         ],
         "xaxis": "x",
         "y": [
          26,
          21.5
         ],
         "yaxis": "y"
        },
        {
         "customdata": [
          [
           97,
           "civic"
          ],
          [
           53,
           "civic cvcc"
          ],
          [
           53,
           "civic"
          ],
          [
           68,
           "accord cvcc"
          ],
          [
           60,
           "civic cvcc"
          ],
          [
           68,
           "accord lx"
          ],
          [
           67,
           "civic 1500 gl"
          ],
          [
           72,
           "accord"
          ],
          [
           60,
           "civic 1300"
          ],
          [
           75,
           "prelude"
          ],
          [
           75,
           "accord"
          ],
          [
           67,
           "civic"
          ],
          [
           67,
           "civic (auto)"
          ]
         ],
         "hovertemplate": "Manufacturer=honda<br>Weight=%{marker.size}<br>MPG=%{y}<br>Horsepower=%{customdata[0]}<br>Car=%{customdata[1]}<extra></extra>",
         "legendgroup": "honda",
         "marker": {
          "color": "#ab63fa",
          "size": [
           2489,
           1795,
           1795,
           2045,
           1800,
           2135,
           1850,
           2290,
           1760,
           2210,
           2205,
           1965,
           1965
          ],
          "sizemode": "area",
          "sizeref": 12.265,
          "symbol": "circle"
         },
         "mode": "markers",
         "name": "honda",
         "orientation": "v",
         "showlegend": true,
         "type": "scatter",
         "x": [
          2489,
          1795,
          1795,
          2045,
          1800,
          2135,
          1850,
          2290,
          1760,
          2210,
          2205,
          1965,
          1965
         ],
         "xaxis": "x",
         "y": [
          24,
          33,
          33,
          31.5,
          36.1,
          29.5,
          44.6,
          32.4,
          35.1,
          33.7,
          36,
          38,
          32
         ],
         "yaxis": "y"
        },
        {
         "customdata": [
          [
           120,
           "280s"
          ],
          [
           77,
           "300d"
          ],
          [
           67,
           "240d"
          ]
         ],
         "hovertemplate": "Manufacturer=mercedes<br>Weight=%{marker.size}<br>MPG=%{y}<br>Horsepower=%{customdata[0]}<br>Car=%{customdata[1]}<extra></extra>",
         "legendgroup": "mercedes",
         "marker": {
          "color": "#FFA15A",
          "size": [
           3820,
           3530,
           3250
          ],
          "sizemode": "area",
          "sizeref": 12.265,
          "symbol": "circle"
         },
         "mode": "markers",
         "name": "mercedes",
         "orientation": "v",
         "showlegend": true,
         "type": "scatter",
         "x": [
          3820,
          3530,
          3250
         ],
         "xaxis": "x",
         "y": [
          16.5,
          25.4,
          30
         ],
         "yaxis": "y"
        }
       ],
       "layout": {
        "legend": {
         "itemsizing": "constant",
         "title": {
          "text": "Manufacturer"
         },
         "tracegroupgap": 0
        },
        "template": {
         "data": {
          "bar": [
           {
            "error_x": {
             "color": "#2a3f5f"
            },
            "error_y": {
             "color": "#2a3f5f"
            },
            "marker": {
             "line": {
              "color": "#E5ECF6",
              "width": 0.5
             }
            },
            "type": "bar"
           }
          ],
          "barpolar": [
           {
            "marker": {
             "line": {
              "color": "#E5ECF6",
              "width": 0.5
             }
            },
            "type": "barpolar"
           }
          ],
          "carpet": [
           {
            "aaxis": {
             "endlinecolor": "#2a3f5f",
             "gridcolor": "white",
             "linecolor": "white",
             "minorgridcolor": "white",
             "startlinecolor": "#2a3f5f"
            },
            "baxis": {
             "endlinecolor": "#2a3f5f",
             "gridcolor": "white",
             "linecolor": "white",
             "minorgridcolor": "white",
             "startlinecolor": "#2a3f5f"
            },
            "type": "carpet"
           }
          ],
          "choropleth": [
           {
            "colorbar": {
             "outlinewidth": 0,
             "ticks": ""
            },
            "type": "choropleth"
           }
          ],
          "contour": [
           {
            "colorbar": {
             "outlinewidth": 0,
             "ticks": ""
            },
            "colorscale": [
             [
              0,
              "#0d0887"
             ],
             [
              0.1111111111111111,
              "#46039f"
             ],
             [
              0.2222222222222222,
              "#7201a8"
             ],
             [
              0.3333333333333333,
              "#9c179e"
             ],
             [
              0.4444444444444444,
              "#bd3786"
             ],
             [
              0.5555555555555556,
              "#d8576b"
             ],
             [
              0.6666666666666666,
              "#ed7953"
             ],
             [
              0.7777777777777778,
              "#fb9f3a"
             ],
             [
              0.8888888888888888,
              "#fdca26"
             ],
             [
              1,
              "#f0f921"
             ]
            ],
            "type": "contour"
           }
          ],
          "contourcarpet": [
           {
            "colorbar": {
             "outlinewidth": 0,
             "ticks": ""
            },
            "type": "contourcarpet"
           }
          ],
          "heatmap": [
           {
            "colorbar": {
             "outlinewidth": 0,
             "ticks": ""
            },
            "colorscale": [
             [
              0,
              "#0d0887"
             ],
             [
              0.1111111111111111,
              "#46039f"
             ],
             [
              0.2222222222222222,
              "#7201a8"
             ],
             [
              0.3333333333333333,
              "#9c179e"
             ],
             [
              0.4444444444444444,
              "#bd3786"
             ],
             [
              0.5555555555555556,
              "#d8576b"
             ],
             [
              0.6666666666666666,
              "#ed7953"
             ],
             [
              0.7777777777777778,
              "#fb9f3a"
             ],
             [
              0.8888888888888888,
              "#fdca26"
             ],
             [
              1,
              "#f0f921"
             ]
            ],
            "type": "heatmap"
           }
          ],
          "heatmapgl": [
           {
            "colorbar": {
             "outlinewidth": 0,
             "ticks": ""
            },
            "colorscale": [
             [
              0,
              "#0d0887"
             ],
             [
              0.1111111111111111,
              "#46039f"
             ],
             [
              0.2222222222222222,
              "#7201a8"
             ],
             [
              0.3333333333333333,
              "#9c179e"
             ],
             [
              0.4444444444444444,
              "#bd3786"
             ],
             [
              0.5555555555555556,
              "#d8576b"
             ],
             [
              0.6666666666666666,
              "#ed7953"
             ],
             [
              0.7777777777777778,
              "#fb9f3a"
             ],
             [
              0.8888888888888888,
              "#fdca26"
             ],
             [
              1,
              "#f0f921"
             ]
            ],
            "type": "heatmapgl"
           }
          ],
          "histogram": [
           {
            "marker": {
             "colorbar": {
              "outlinewidth": 0,
              "ticks": ""
             }
            },
            "type": "histogram"
           }
          ],
          "histogram2d": [
           {
            "colorbar": {
             "outlinewidth": 0,
             "ticks": ""
            },
            "colorscale": [
             [
              0,
              "#0d0887"
             ],
             [
              0.1111111111111111,
              "#46039f"
             ],
             [
              0.2222222222222222,
              "#7201a8"
             ],
             [
              0.3333333333333333,
              "#9c179e"
             ],
             [
              0.4444444444444444,
              "#bd3786"
             ],
             [
              0.5555555555555556,
              "#d8576b"
             ],
             [
              0.6666666666666666,
              "#ed7953"
             ],
             [
              0.7777777777777778,
              "#fb9f3a"
             ],
             [
              0.8888888888888888,
              "#fdca26"
             ],
             [
              1,
              "#f0f921"
             ]
            ],
            "type": "histogram2d"
           }
          ],
          "histogram2dcontour": [
           {
            "colorbar": {
             "outlinewidth": 0,
             "ticks": ""
            },
            "colorscale": [
             [
              0,
              "#0d0887"
             ],
             [
              0.1111111111111111,
              "#46039f"
             ],
             [
              0.2222222222222222,
              "#7201a8"
             ],
             [
              0.3333333333333333,
              "#9c179e"
             ],
             [
              0.4444444444444444,
              "#bd3786"
             ],
             [
              0.5555555555555556,
              "#d8576b"
             ],
             [
              0.6666666666666666,
              "#ed7953"
             ],
             [
              0.7777777777777778,
              "#fb9f3a"
             ],
             [
              0.8888888888888888,
              "#fdca26"
             ],
             [
              1,
              "#f0f921"
             ]
            ],
            "type": "histogram2dcontour"
           }
          ],
          "mesh3d": [
           {
            "colorbar": {
             "outlinewidth": 0,
             "ticks": ""
            },
            "type": "mesh3d"
           }
          ],
          "parcoords": [
           {
            "line": {
             "colorbar": {
              "outlinewidth": 0,
              "ticks": ""
             }
            },
            "type": "parcoords"
           }
          ],
          "pie": [
           {
            "automargin": true,
            "type": "pie"
           }
          ],
          "scatter": [
           {
            "marker": {
             "colorbar": {
              "outlinewidth": 0,
              "ticks": ""
             }
            },
            "type": "scatter"
           }
          ],
          "scatter3d": [
           {
            "line": {
             "colorbar": {
              "outlinewidth": 0,
              "ticks": ""
             }
            },
            "marker": {
             "colorbar": {
              "outlinewidth": 0,
              "ticks": ""
             }
            },
            "type": "scatter3d"
           }
          ],
          "scattercarpet": [
           {
            "marker": {
             "colorbar": {
              "outlinewidth": 0,
              "ticks": ""
             }
            },
            "type": "scattercarpet"
           }
          ],
          "scattergeo": [
           {
            "marker": {
             "colorbar": {
              "outlinewidth": 0,
              "ticks": ""
             }
            },
            "type": "scattergeo"
           }
          ],
          "scattergl": [
           {
            "marker": {
             "colorbar": {
              "outlinewidth": 0,
              "ticks": ""
             }
            },
            "type": "scattergl"
           }
          ],
          "scattermapbox": [
           {
            "marker": {
             "colorbar": {
              "outlinewidth": 0,
              "ticks": ""
             }
            },
            "type": "scattermapbox"
           }
          ],
          "scatterpolar": [
           {
            "marker": {
             "colorbar": {
              "outlinewidth": 0,
              "ticks": ""
             }
            },
            "type": "scatterpolar"
           }
          ],
          "scatterpolargl": [
           {
            "marker": {
             "colorbar": {
              "outlinewidth": 0,
              "ticks": ""
             }
            },
            "type": "scatterpolargl"
           }
          ],
          "scatterternary": [
           {
            "marker": {
             "colorbar": {
              "outlinewidth": 0,
              "ticks": ""
             }
            },
            "type": "scatterternary"
           }
          ],
          "surface": [
           {
            "colorbar": {
             "outlinewidth": 0,
             "ticks": ""
            },
            "colorscale": [
             [
              0,
              "#0d0887"
             ],
             [
              0.1111111111111111,
              "#46039f"
             ],
             [
              0.2222222222222222,
              "#7201a8"
             ],
             [
              0.3333333333333333,
              "#9c179e"
             ],
             [
              0.4444444444444444,
              "#bd3786"
             ],
             [
              0.5555555555555556,
              "#d8576b"
             ],
             [
              0.6666666666666666,
              "#ed7953"
             ],
             [
              0.7777777777777778,
              "#fb9f3a"
             ],
             [
              0.8888888888888888,
              "#fdca26"
             ],
             [
              1,
              "#f0f921"
             ]
            ],
            "type": "surface"
           }
          ],
          "table": [
           {
            "cells": {
             "fill": {
              "color": "#EBF0F8"
             },
             "line": {
              "color": "white"
             }
            },
            "header": {
             "fill": {
              "color": "#C8D4E3"
             },
             "line": {
              "color": "white"
             }
            },
            "type": "table"
           }
          ]
         },
         "layout": {
          "annotationdefaults": {
           "arrowcolor": "#2a3f5f",
           "arrowhead": 0,
           "arrowwidth": 1
          },
          "autotypenumbers": "strict",
          "coloraxis": {
           "colorbar": {
            "outlinewidth": 0,
            "ticks": ""
           }
          },
          "colorscale": {
           "diverging": [
            [
             0,
             "#8e0152"
            ],
            [
             0.1,
             "#c51b7d"
            ],
            [
             0.2,
             "#de77ae"
            ],
            [
             0.3,
             "#f1b6da"
            ],
            [
             0.4,
             "#fde0ef"
            ],
            [
             0.5,
             "#f7f7f7"
            ],
            [
             0.6,
             "#e6f5d0"
            ],
            [
             0.7,
             "#b8e186"
            ],
            [
             0.8,
             "#7fbc41"
            ],
            [
             0.9,
             "#4d9221"
            ],
            [
             1,
             "#276419"
            ]
           ],
           "sequential": [
            [
             0,
             "#0d0887"
            ],
            [
             0.1111111111111111,
             "#46039f"
            ],
            [
             0.2222222222222222,
             "#7201a8"
            ],
            [
             0.3333333333333333,
             "#9c179e"
            ],
            [
             0.4444444444444444,
             "#bd3786"
            ],
            [
             0.5555555555555556,
             "#d8576b"
            ],
            [
             0.6666666666666666,
             "#ed7953"
            ],
            [
             0.7777777777777778,
             "#fb9f3a"
            ],
            [
             0.8888888888888888,
             "#fdca26"
            ],
            [
             1,
             "#f0f921"
            ]
           ],
           "sequentialminus": [
            [
             0,
             "#0d0887"
            ],
            [
             0.1111111111111111,
             "#46039f"
            ],
            [
             0.2222222222222222,
             "#7201a8"
            ],
            [
             0.3333333333333333,
             "#9c179e"
            ],
            [
             0.4444444444444444,
             "#bd3786"
            ],
            [
             0.5555555555555556,
             "#d8576b"
            ],
            [
             0.6666666666666666,
             "#ed7953"
            ],
            [
             0.7777777777777778,
             "#fb9f3a"
            ],
            [
             0.8888888888888888,
             "#fdca26"
            ],
            [
             1,
             "#f0f921"
            ]
           ]
          },
          "colorway": [
           "#636efa",
           "#EF553B",
           "#00cc96",
           "#ab63fa",
           "#FFA15A",
           "#19d3f3",
           "#FF6692",
           "#B6E880",
           "#FF97FF",
           "#FECB52"
          ],
          "font": {
           "color": "#2a3f5f"
          },
          "geo": {
           "bgcolor": "white",
           "lakecolor": "white",
           "landcolor": "#E5ECF6",
           "showlakes": true,
           "showland": true,
           "subunitcolor": "white"
          },
          "hoverlabel": {
           "align": "left"
          },
          "hovermode": "closest",
          "mapbox": {
           "style": "light"
          },
          "paper_bgcolor": "white",
          "plot_bgcolor": "#E5ECF6",
          "polar": {
           "angularaxis": {
            "gridcolor": "white",
            "linecolor": "white",
            "ticks": ""
           },
           "bgcolor": "#E5ECF6",
           "radialaxis": {
            "gridcolor": "white",
            "linecolor": "white",
            "ticks": ""
           }
          },
          "scene": {
           "xaxis": {
            "backgroundcolor": "#E5ECF6",
            "gridcolor": "white",
            "gridwidth": 2,
            "linecolor": "white",
            "showbackground": true,
            "ticks": "",
            "zerolinecolor": "white"
           },
           "yaxis": {
            "backgroundcolor": "#E5ECF6",
            "gridcolor": "white",
            "gridwidth": 2,
            "linecolor": "white",
            "showbackground": true,
            "ticks": "",
            "zerolinecolor": "white"
           },
           "zaxis": {
            "backgroundcolor": "#E5ECF6",
            "gridcolor": "white",
            "gridwidth": 2,
            "linecolor": "white",
            "showbackground": true,
            "ticks": "",
            "zerolinecolor": "white"
           }
          },
          "shapedefaults": {
           "line": {
            "color": "#2a3f5f"
           }
          },
          "ternary": {
           "aaxis": {
            "gridcolor": "white",
            "linecolor": "white",
            "ticks": ""
           },
           "baxis": {
            "gridcolor": "white",
            "linecolor": "white",
            "ticks": ""
           },
           "bgcolor": "#E5ECF6",
           "caxis": {
            "gridcolor": "white",
            "linecolor": "white",
            "ticks": ""
           }
          },
          "title": {
           "x": 0.05
          },
          "xaxis": {
           "automargin": true,
           "gridcolor": "white",
           "linecolor": "white",
           "ticks": "",
           "title": {
            "standoff": 15
           },
           "zerolinecolor": "white",
           "zerolinewidth": 2
          },
          "yaxis": {
           "automargin": true,
           "gridcolor": "white",
           "linecolor": "white",
           "ticks": "",
           "title": {
            "standoff": 15
           },
           "zerolinecolor": "white",
           "zerolinewidth": 2
          }
         }
        },
        "title": {
         "text": "Cars Weight vs MPG"
        },
        "xaxis": {
         "anchor": "y",
         "domain": [
          0,
          1
         ],
         "title": {
          "text": "Weight"
         }
        },
        "yaxis": {
         "anchor": "x",
         "domain": [
          0,
          1
         ],
         "title": {
          "text": "MPG"
         }
        }
       }
      },
      "text/html": [
       "<div>                            <div id=\"ed1f4ec2-2d6a-4197-b22f-7111ca674994\" class=\"plotly-graph-div\" style=\"height:525px; width:100%;\"></div>            <script type=\"text/javascript\">                require([\"plotly\"], function(Plotly) {                    window.PLOTLYENV=window.PLOTLYENV || {};                                    if (document.getElementById(\"ed1f4ec2-2d6a-4197-b22f-7111ca674994\")) {                    Plotly.newPlot(                        \"ed1f4ec2-2d6a-4197-b22f-7111ca674994\",                        [{\"customdata\": [[140.0, \"torino\"], [198.0, \"galaxie 500\"], [153.0, \"torino (sw)\"], [140.0, \"mustang boss 302\"], [85.0, \"maverick\"], [215.0, \"f250\"], [null, \"pinto\"], [88.0, \"torino 500\"], [153.0, \"galaxie 500\"], [170.0, \"country squire (sw)\"], [88.0, \"mustang\"], [86.0, \"pinto runabout\"], [153.0, \"galaxie 500\"], [140.0, \"gran torino (sw)\"], [86.0, \"pinto (sw)\"], [137.0, \"gran torino\"], [158.0, \"ltd\"], [88.0, \"maverick\"], [167.0, \"country\"], [85.0, \"pinto\"], [null, \"maverick\"], [80.0, \"pinto\"], [140.0, \"gran torino\"], [140.0, \"gran torino (sw)\"], [72.0, \"maverick\"], [148.0, \"ltd\"], [129.0, \"mustang ii\"], [83.0, \"pinto\"], [97.0, \"pinto\"], [152.0, \"gran torino\"], [81.0, \"maverick\"], [78.0, \"granada ghia\"], [72.0, \"pinto\"], [130.0, \"f108\"], [98.0, \"granada\"], [149.0, \"thunderbird\"], [89.0, \"mustang ii 2+2\"], [66.0, \"fiesta\"], [85.0, \"fairmont (auto)\"], [88.0, \"fairmont (man)\"], [139.0, \"futura\"], [88.0, \"fairmont 4\"], [129.0, \"ltd landau\"], [142.0, \"country squire (sw)\"], [88.0, \"fairmont\"], [null, \"mustang cobra\"], [65.0, \"escort 4w\"], [65.0, \"escort 2h\"], [88.0, \"granada gl\"], [92.0, \"fairmont futura\"], [112.0, \"granada l\"], [86.0, \"mustang gl\"], [79.0, \"ranger\"]], \"hovertemplate\": \"Manufacturer=ford<br>Weight=%{marker.size}<br>MPG=%{y}<br>Horsepower=%{customdata[0]}<br>Car=%{customdata[1]}<extra></extra>\", \"legendgroup\": \"ford\", \"marker\": {\"color\": \"#636efa\", \"size\": [3449, 4341, 4034, 3353, 2587, 4615, 2046, 3302, 4154, 4746, 3139, 2226, 4129, 4294, 2395, 4042, 4363, 3021, 4906, 2310, 2875, 2451, 4141, 4638, 3158, 4657, 3169, 2639, 2984, 4215, 3012, 3574, 2565, 3870, 3525, 4335, 2755, 1800, 2965, 2720, 3205, 2890, 3725, 4054, 2870, 2905, 2045, 2380, 3060, 2865, 2835, 2790, 2625], \"sizemode\": \"area\", \"sizeref\": 12.265, \"symbol\": \"circle\"}, \"mode\": \"markers\", \"name\": \"ford\", \"orientation\": \"v\", \"showlegend\": true, \"type\": \"scatter\", \"x\": [3449, 4341, 4034, 3353, 2587, 4615, 2046, 3302, 4154, 4746, 3139, 2226, 4129, 4294, 2395, 4042, 4363, 3021, 4906, 2310, 2875, 2451, 4141, 4638, 3158, 4657, 3169, 2639, 2984, 4215, 3012, 3574, 2565, 3870, 3525, 4335, 2755, 1800, 2965, 2720, 3205, 2890, 3725, 4054, 2870, 2905, 2045, 2380, 3060, 2865, 2835, 2790, 2625], \"xaxis\": \"x\", \"y\": [17.0, 15.0, null, null, 21.0, 10.0, 25.0, 19.0, 14.0, 13.0, 18.0, 21.0, 14.0, 13.0, 22.0, 14.0, 13.0, 18.0, 12.0, 19.0, 21.0, 26.0, 16.0, 14.0, 15.0, 14.0, 13.0, 23.0, 18.0, 14.5, 24.0, 18.0, 26.5, 13.0, 18.5, 16.0, 25.5, 36.1, 20.2, 25.1, 18.1, 22.3, 17.6, 15.5, 26.4, 23.6, 34.4, 29.9, 20.2, 24.0, 22.0, 27.0, 28.0], \"yaxis\": \"y\"}, {\"customdata\": [[95.0, \"corona mark ii\"], [95.0, \"corona\"], [65.0, \"corolla 1200\"], [95.0, \"corona hardtop\"], [97.0, \"corona mark ii (sw)\"], [88.0, \"corolla 1600 (sw)\"], [88.0, \"carina\"], [122.0, \"mark ii\"], [65.0, \"corolla 1200\"], [52.0, \"corona\"], [75.0, \"corolla\"], [96.0, \"corona\"], [75.0, \"corolla\"], [108.0, \"mark ii\"], [75.0, \"corolla liftback\"], [95.0, \"corona\"], [95.0, \"celica gt liftback\"], [60.0, \"corolla tercel\"], [90.0, \"corona liftback\"], [75.0, \"corolla\"], [58.0, \"starlet\"], [62.0, \"tercel\"], [75.0, \"corolla\"], [116.0, \"cressida\"], [70.0, \"corolla\"], [96.0, \"celica gt\"]], \"hovertemplate\": \"Manufacturer=toyota<br>Weight=%{marker.size}<br>MPG=%{y}<br>Horsepower=%{customdata[0]}<br>Car=%{customdata[1]}<extra></extra>\", \"legendgroup\": \"toyota\", \"marker\": {\"color\": \"#EF553B\", \"size\": [2372, 2228, 1773, 2278, 2506, 2100, 2279, 2807, 1836, 1649, 2171, 2702, 2155, 2930, 2265, 2560, 2515, 1968, 2711, 2265, 1755, 2050, 2350, 2900, 2245, 2665], \"sizemode\": \"area\", \"sizeref\": 12.265, \"symbol\": \"circle\"}, \"mode\": \"markers\", \"name\": \"toyota\", \"orientation\": \"v\", \"showlegend\": true, \"type\": \"scatter\", \"x\": [2372, 2228, 1773, 2278, 2506, 2100, 2279, 2807, 1836, 1649, 2171, 2702, 2155, 2930, 2265, 2560, 2515, 1968, 2711, 2265, 1755, 2050, 2350, 2900, 2245, 2665], \"xaxis\": \"x\", \"y\": [24.0, 25.0, 31.0, 24.0, 23.0, 27.0, 20.0, 20.0, 32.0, 31.0, 29.0, 24.0, 28.0, 19.0, 26.0, 27.5, 21.1, 38.1, 29.8, 32.2, 39.1, 37.7, 32.4, 25.4, 34.0, 32.0], \"yaxis\": \"y\"}, {\"customdata\": [[113.0, \"2002\"], [110.0, \"320i\"]], \"hovertemplate\": \"Manufacturer=bmw<br>Weight=%{marker.size}<br>MPG=%{y}<br>Horsepower=%{customdata[0]}<br>Car=%{customdata[1]}<extra></extra>\", \"legendgroup\": \"bmw\", \"marker\": {\"color\": \"#00cc96\", \"size\": [2234, 2600], \"sizemode\": \"area\", \"sizeref\": 12.265, \"symbol\": \"circle\"}, \"mode\": \"markers\", \"name\": \"bmw\", \"orientation\": \"v\", \"showlegend\": true, \"type\": \"scatter\", \"x\": [2234, 2600], \"xaxis\": \"x\", \"y\": [26.0, 21.5], \"yaxis\": \"y\"}, {\"customdata\": [[97.0, \"civic\"], [53.0, \"civic cvcc\"], [53.0, \"civic\"], [68.0, \"accord cvcc\"], [60.0, \"civic cvcc\"], [68.0, \"accord lx\"], [67.0, \"civic 1500 gl\"], [72.0, \"accord\"], [60.0, \"civic 1300\"], [75.0, \"prelude\"], [75.0, \"accord\"], [67.0, \"civic\"], [67.0, \"civic (auto)\"]], \"hovertemplate\": \"Manufacturer=honda<br>Weight=%{marker.size}<br>MPG=%{y}<br>Horsepower=%{customdata[0]}<br>Car=%{customdata[1]}<extra></extra>\", \"legendgroup\": \"honda\", \"marker\": {\"color\": \"#ab63fa\", \"size\": [2489, 1795, 1795, 2045, 1800, 2135, 1850, 2290, 1760, 2210, 2205, 1965, 1965], \"sizemode\": \"area\", \"sizeref\": 12.265, \"symbol\": \"circle\"}, \"mode\": \"markers\", \"name\": \"honda\", \"orientation\": \"v\", \"showlegend\": true, \"type\": \"scatter\", \"x\": [2489, 1795, 1795, 2045, 1800, 2135, 1850, 2290, 1760, 2210, 2205, 1965, 1965], \"xaxis\": \"x\", \"y\": [24.0, 33.0, 33.0, 31.5, 36.1, 29.5, 44.6, 32.4, 35.1, 33.7, 36.0, 38.0, 32.0], \"yaxis\": \"y\"}, {\"customdata\": [[120.0, \"280s\"], [77.0, \"300d\"], [67.0, \"240d\"]], \"hovertemplate\": \"Manufacturer=mercedes<br>Weight=%{marker.size}<br>MPG=%{y}<br>Horsepower=%{customdata[0]}<br>Car=%{customdata[1]}<extra></extra>\", \"legendgroup\": \"mercedes\", \"marker\": {\"color\": \"#FFA15A\", \"size\": [3820, 3530, 3250], \"sizemode\": \"area\", \"sizeref\": 12.265, \"symbol\": \"circle\"}, \"mode\": \"markers\", \"name\": \"mercedes\", \"orientation\": \"v\", \"showlegend\": true, \"type\": \"scatter\", \"x\": [3820, 3530, 3250], \"xaxis\": \"x\", \"y\": [16.5, 25.4, 30.0], \"yaxis\": \"y\"}],                        {\"legend\": {\"itemsizing\": \"constant\", \"title\": {\"text\": \"Manufacturer\"}, \"tracegroupgap\": 0}, \"template\": {\"data\": {\"bar\": [{\"error_x\": {\"color\": \"#2a3f5f\"}, \"error_y\": {\"color\": \"#2a3f5f\"}, \"marker\": {\"line\": {\"color\": \"#E5ECF6\", \"width\": 0.5}}, \"type\": \"bar\"}], \"barpolar\": [{\"marker\": {\"line\": {\"color\": \"#E5ECF6\", \"width\": 0.5}}, \"type\": \"barpolar\"}], \"carpet\": [{\"aaxis\": {\"endlinecolor\": \"#2a3f5f\", \"gridcolor\": \"white\", \"linecolor\": \"white\", \"minorgridcolor\": \"white\", \"startlinecolor\": \"#2a3f5f\"}, \"baxis\": {\"endlinecolor\": \"#2a3f5f\", \"gridcolor\": \"white\", \"linecolor\": \"white\", \"minorgridcolor\": \"white\", \"startlinecolor\": \"#2a3f5f\"}, \"type\": \"carpet\"}], \"choropleth\": [{\"colorbar\": {\"outlinewidth\": 0, \"ticks\": \"\"}, \"type\": \"choropleth\"}], \"contour\": [{\"colorbar\": {\"outlinewidth\": 0, \"ticks\": \"\"}, \"colorscale\": [[0.0, \"#0d0887\"], [0.1111111111111111, \"#46039f\"], [0.2222222222222222, \"#7201a8\"], [0.3333333333333333, \"#9c179e\"], [0.4444444444444444, \"#bd3786\"], [0.5555555555555556, \"#d8576b\"], [0.6666666666666666, \"#ed7953\"], [0.7777777777777778, \"#fb9f3a\"], [0.8888888888888888, \"#fdca26\"], [1.0, \"#f0f921\"]], \"type\": \"contour\"}], \"contourcarpet\": [{\"colorbar\": {\"outlinewidth\": 0, \"ticks\": \"\"}, \"type\": \"contourcarpet\"}], \"heatmap\": [{\"colorbar\": {\"outlinewidth\": 0, \"ticks\": \"\"}, \"colorscale\": [[0.0, \"#0d0887\"], [0.1111111111111111, \"#46039f\"], [0.2222222222222222, \"#7201a8\"], [0.3333333333333333, \"#9c179e\"], [0.4444444444444444, \"#bd3786\"], [0.5555555555555556, \"#d8576b\"], [0.6666666666666666, \"#ed7953\"], [0.7777777777777778, \"#fb9f3a\"], [0.8888888888888888, \"#fdca26\"], [1.0, \"#f0f921\"]], \"type\": \"heatmap\"}], \"heatmapgl\": [{\"colorbar\": {\"outlinewidth\": 0, \"ticks\": \"\"}, \"colorscale\": [[0.0, \"#0d0887\"], [0.1111111111111111, \"#46039f\"], [0.2222222222222222, \"#7201a8\"], [0.3333333333333333, \"#9c179e\"], [0.4444444444444444, \"#bd3786\"], [0.5555555555555556, \"#d8576b\"], [0.6666666666666666, \"#ed7953\"], [0.7777777777777778, \"#fb9f3a\"], [0.8888888888888888, \"#fdca26\"], [1.0, \"#f0f921\"]], \"type\": \"heatmapgl\"}], \"histogram\": [{\"marker\": {\"colorbar\": {\"outlinewidth\": 0, \"ticks\": \"\"}}, \"type\": \"histogram\"}], \"histogram2d\": [{\"colorbar\": {\"outlinewidth\": 0, \"ticks\": \"\"}, \"colorscale\": [[0.0, \"#0d0887\"], [0.1111111111111111, \"#46039f\"], [0.2222222222222222, \"#7201a8\"], [0.3333333333333333, \"#9c179e\"], [0.4444444444444444, \"#bd3786\"], [0.5555555555555556, \"#d8576b\"], [0.6666666666666666, \"#ed7953\"], [0.7777777777777778, \"#fb9f3a\"], [0.8888888888888888, \"#fdca26\"], [1.0, \"#f0f921\"]], \"type\": \"histogram2d\"}], \"histogram2dcontour\": [{\"colorbar\": {\"outlinewidth\": 0, \"ticks\": \"\"}, \"colorscale\": [[0.0, \"#0d0887\"], [0.1111111111111111, \"#46039f\"], [0.2222222222222222, \"#7201a8\"], [0.3333333333333333, \"#9c179e\"], [0.4444444444444444, \"#bd3786\"], [0.5555555555555556, \"#d8576b\"], [0.6666666666666666, \"#ed7953\"], [0.7777777777777778, \"#fb9f3a\"], [0.8888888888888888, \"#fdca26\"], [1.0, \"#f0f921\"]], \"type\": \"histogram2dcontour\"}], \"mesh3d\": [{\"colorbar\": {\"outlinewidth\": 0, \"ticks\": \"\"}, \"type\": \"mesh3d\"}], \"parcoords\": [{\"line\": {\"colorbar\": {\"outlinewidth\": 0, \"ticks\": \"\"}}, \"type\": \"parcoords\"}], \"pie\": [{\"automargin\": true, \"type\": \"pie\"}], \"scatter\": [{\"marker\": {\"colorbar\": {\"outlinewidth\": 0, \"ticks\": \"\"}}, \"type\": \"scatter\"}], \"scatter3d\": [{\"line\": {\"colorbar\": {\"outlinewidth\": 0, \"ticks\": \"\"}}, \"marker\": {\"colorbar\": {\"outlinewidth\": 0, \"ticks\": \"\"}}, \"type\": \"scatter3d\"}], \"scattercarpet\": [{\"marker\": {\"colorbar\": {\"outlinewidth\": 0, \"ticks\": \"\"}}, \"type\": \"scattercarpet\"}], \"scattergeo\": [{\"marker\": {\"colorbar\": {\"outlinewidth\": 0, \"ticks\": \"\"}}, \"type\": \"scattergeo\"}], \"scattergl\": [{\"marker\": {\"colorbar\": {\"outlinewidth\": 0, \"ticks\": \"\"}}, \"type\": \"scattergl\"}], \"scattermapbox\": [{\"marker\": {\"colorbar\": {\"outlinewidth\": 0, \"ticks\": \"\"}}, \"type\": \"scattermapbox\"}], \"scatterpolar\": [{\"marker\": {\"colorbar\": {\"outlinewidth\": 0, \"ticks\": \"\"}}, \"type\": \"scatterpolar\"}], \"scatterpolargl\": [{\"marker\": {\"colorbar\": {\"outlinewidth\": 0, \"ticks\": \"\"}}, \"type\": \"scatterpolargl\"}], \"scatterternary\": [{\"marker\": {\"colorbar\": {\"outlinewidth\": 0, \"ticks\": \"\"}}, \"type\": \"scatterternary\"}], \"surface\": [{\"colorbar\": {\"outlinewidth\": 0, \"ticks\": \"\"}, \"colorscale\": [[0.0, \"#0d0887\"], [0.1111111111111111, \"#46039f\"], [0.2222222222222222, \"#7201a8\"], [0.3333333333333333, \"#9c179e\"], [0.4444444444444444, \"#bd3786\"], [0.5555555555555556, \"#d8576b\"], [0.6666666666666666, \"#ed7953\"], [0.7777777777777778, \"#fb9f3a\"], [0.8888888888888888, \"#fdca26\"], [1.0, \"#f0f921\"]], \"type\": \"surface\"}], \"table\": [{\"cells\": {\"fill\": {\"color\": \"#EBF0F8\"}, \"line\": {\"color\": \"white\"}}, \"header\": {\"fill\": {\"color\": \"#C8D4E3\"}, \"line\": {\"color\": \"white\"}}, \"type\": \"table\"}]}, \"layout\": {\"annotationdefaults\": {\"arrowcolor\": \"#2a3f5f\", \"arrowhead\": 0, \"arrowwidth\": 1}, \"autotypenumbers\": \"strict\", \"coloraxis\": {\"colorbar\": {\"outlinewidth\": 0, \"ticks\": \"\"}}, \"colorscale\": {\"diverging\": [[0, \"#8e0152\"], [0.1, \"#c51b7d\"], [0.2, \"#de77ae\"], [0.3, \"#f1b6da\"], [0.4, \"#fde0ef\"], [0.5, \"#f7f7f7\"], [0.6, \"#e6f5d0\"], [0.7, \"#b8e186\"], [0.8, \"#7fbc41\"], [0.9, \"#4d9221\"], [1, \"#276419\"]], \"sequential\": [[0.0, \"#0d0887\"], [0.1111111111111111, \"#46039f\"], [0.2222222222222222, \"#7201a8\"], [0.3333333333333333, \"#9c179e\"], [0.4444444444444444, \"#bd3786\"], [0.5555555555555556, \"#d8576b\"], [0.6666666666666666, \"#ed7953\"], [0.7777777777777778, \"#fb9f3a\"], [0.8888888888888888, \"#fdca26\"], [1.0, \"#f0f921\"]], \"sequentialminus\": [[0.0, \"#0d0887\"], [0.1111111111111111, \"#46039f\"], [0.2222222222222222, \"#7201a8\"], [0.3333333333333333, \"#9c179e\"], [0.4444444444444444, \"#bd3786\"], [0.5555555555555556, \"#d8576b\"], [0.6666666666666666, \"#ed7953\"], [0.7777777777777778, \"#fb9f3a\"], [0.8888888888888888, \"#fdca26\"], [1.0, \"#f0f921\"]]}, \"colorway\": [\"#636efa\", \"#EF553B\", \"#00cc96\", \"#ab63fa\", \"#FFA15A\", \"#19d3f3\", \"#FF6692\", \"#B6E880\", \"#FF97FF\", \"#FECB52\"], \"font\": {\"color\": \"#2a3f5f\"}, \"geo\": {\"bgcolor\": \"white\", \"lakecolor\": \"white\", \"landcolor\": \"#E5ECF6\", \"showlakes\": true, \"showland\": true, \"subunitcolor\": \"white\"}, \"hoverlabel\": {\"align\": \"left\"}, \"hovermode\": \"closest\", \"mapbox\": {\"style\": \"light\"}, \"paper_bgcolor\": \"white\", \"plot_bgcolor\": \"#E5ECF6\", \"polar\": {\"angularaxis\": {\"gridcolor\": \"white\", \"linecolor\": \"white\", \"ticks\": \"\"}, \"bgcolor\": \"#E5ECF6\", \"radialaxis\": {\"gridcolor\": \"white\", \"linecolor\": \"white\", \"ticks\": \"\"}}, \"scene\": {\"xaxis\": {\"backgroundcolor\": \"#E5ECF6\", \"gridcolor\": \"white\", \"gridwidth\": 2, \"linecolor\": \"white\", \"showbackground\": true, \"ticks\": \"\", \"zerolinecolor\": \"white\"}, \"yaxis\": {\"backgroundcolor\": \"#E5ECF6\", \"gridcolor\": \"white\", \"gridwidth\": 2, \"linecolor\": \"white\", \"showbackground\": true, \"ticks\": \"\", \"zerolinecolor\": \"white\"}, \"zaxis\": {\"backgroundcolor\": \"#E5ECF6\", \"gridcolor\": \"white\", \"gridwidth\": 2, \"linecolor\": \"white\", \"showbackground\": true, \"ticks\": \"\", \"zerolinecolor\": \"white\"}}, \"shapedefaults\": {\"line\": {\"color\": \"#2a3f5f\"}}, \"ternary\": {\"aaxis\": {\"gridcolor\": \"white\", \"linecolor\": \"white\", \"ticks\": \"\"}, \"baxis\": {\"gridcolor\": \"white\", \"linecolor\": \"white\", \"ticks\": \"\"}, \"bgcolor\": \"#E5ECF6\", \"caxis\": {\"gridcolor\": \"white\", \"linecolor\": \"white\", \"ticks\": \"\"}}, \"title\": {\"x\": 0.05}, \"xaxis\": {\"automargin\": true, \"gridcolor\": \"white\", \"linecolor\": \"white\", \"ticks\": \"\", \"title\": {\"standoff\": 15}, \"zerolinecolor\": \"white\", \"zerolinewidth\": 2}, \"yaxis\": {\"automargin\": true, \"gridcolor\": \"white\", \"linecolor\": \"white\", \"ticks\": \"\", \"title\": {\"standoff\": 15}, \"zerolinecolor\": \"white\", \"zerolinewidth\": 2}}}, \"title\": {\"text\": \"Cars Weight vs MPG\"}, \"xaxis\": {\"anchor\": \"y\", \"domain\": [0.0, 1.0], \"title\": {\"text\": \"Weight\"}}, \"yaxis\": {\"anchor\": \"x\", \"domain\": [0.0, 1.0], \"title\": {\"text\": \"MPG\"}}},                        {\"responsive\": true}                    ).then(function(){\n",
       "                            \n",
       "var gd = document.getElementById('ed1f4ec2-2d6a-4197-b22f-7111ca674994');\n",
       "var x = new MutationObserver(function (mutations, observer) {{\n",
       "        var display = window.getComputedStyle(gd).display;\n",
       "        if (!display || display === 'none') {{\n",
       "            console.log([gd, 'removed!']);\n",
       "            Plotly.purge(gd);\n",
       "            observer.disconnect();\n",
       "        }}\n",
       "}});\n",
       "\n",
       "// Listen for the removal of the full notebook cells\n",
       "var notebookContainer = gd.closest('#notebook-container');\n",
       "if (notebookContainer) {{\n",
       "    x.observe(notebookContainer, {childList: true});\n",
       "}}\n",
       "\n",
       "// Listen for the clearing of the current output cell\n",
       "var outputEl = gd.closest('.output');\n",
       "if (outputEl) {{\n",
       "    x.observe(outputEl, {childList: true});\n",
       "}}\n",
       "\n",
       "                        })                };                });            </script>        </div>"
      ]
     },
     "metadata": {},
     "output_type": "display_data"
    }
   ],
   "source": [
    "import plotly.express as px\n",
    "fig = px.scatter(cars, x=\"Weight\", y=\"MPG\", color=\"Manufacturer\",\n",
    "                 size='Weight', hover_data=['Horsepower', 'Car'], title='Cars Weight vs MPG')\n",
    "fig.show()"
   ]
  },
  {
   "cell_type": "markdown",
   "metadata": {},
   "source": [
    "# Altair"
   ]
  },
  {
   "cell_type": "code",
   "execution_count": 35,
   "metadata": {},
   "outputs": [
    {
     "data": {
      "text/html": [
       "\n",
       "<div id=\"altair-viz-603422ed13b54e6e81213318f1f3e44b\"></div>\n",
       "<script type=\"text/javascript\">\n",
       "  (function(spec, embedOpt){\n",
       "    let outputDiv = document.currentScript.previousElementSibling;\n",
       "    if (outputDiv.id !== \"altair-viz-603422ed13b54e6e81213318f1f3e44b\") {\n",
       "      outputDiv = document.getElementById(\"altair-viz-603422ed13b54e6e81213318f1f3e44b\");\n",
       "    }\n",
       "    const paths = {\n",
       "      \"vega\": \"https://cdn.jsdelivr.net/npm//vega@5?noext\",\n",
       "      \"vega-lib\": \"https://cdn.jsdelivr.net/npm//vega-lib?noext\",\n",
       "      \"vega-lite\": \"https://cdn.jsdelivr.net/npm//vega-lite@4.8.1?noext\",\n",
       "      \"vega-embed\": \"https://cdn.jsdelivr.net/npm//vega-embed@6?noext\",\n",
       "    };\n",
       "\n",
       "    function loadScript(lib) {\n",
       "      return new Promise(function(resolve, reject) {\n",
       "        var s = document.createElement('script');\n",
       "        s.src = paths[lib];\n",
       "        s.async = true;\n",
       "        s.onload = () => resolve(paths[lib]);\n",
       "        s.onerror = () => reject(`Error loading script: ${paths[lib]}`);\n",
       "        document.getElementsByTagName(\"head\")[0].appendChild(s);\n",
       "      });\n",
       "    }\n",
       "\n",
       "    function showError(err) {\n",
       "      outputDiv.innerHTML = `<div class=\"error\" style=\"color:red;\">${err}</div>`;\n",
       "      throw err;\n",
       "    }\n",
       "\n",
       "    function displayChart(vegaEmbed) {\n",
       "      vegaEmbed(outputDiv, spec, embedOpt)\n",
       "        .catch(err => showError(`Javascript Error: ${err.message}<br>This usually means there's a typo in your chart specification. See the javascript console for the full traceback.`));\n",
       "    }\n",
       "\n",
       "    if(typeof define === \"function\" && define.amd) {\n",
       "      requirejs.config({paths});\n",
       "      require([\"vega-embed\"], displayChart, err => showError(`Error loading script: ${err.message}`));\n",
       "    } else if (typeof vegaEmbed === \"function\") {\n",
       "      displayChart(vegaEmbed);\n",
       "    } else {\n",
       "      loadScript(\"vega\")\n",
       "        .then(() => loadScript(\"vega-lite\"))\n",
       "        .then(() => loadScript(\"vega-embed\"))\n",
       "        .catch(showError)\n",
       "        .then(() => displayChart(vegaEmbed));\n",
       "    }\n",
       "  })({\"config\": {\"view\": {\"continuousWidth\": 400, \"continuousHeight\": 300}}, \"data\": {\"name\": \"data-cb3e5ae836495aecb1c946493dae0b76\"}, \"mark\": \"circle\", \"encoding\": {\"color\": {\"type\": \"nominal\", \"field\": \"Manufacturer\"}, \"size\": {\"type\": \"quantitative\", \"field\": \"Weight\"}, \"x\": {\"type\": \"quantitative\", \"field\": \"Weight\", \"scale\": {\"domain\": [1500, 5000]}}, \"y\": {\"type\": \"quantitative\", \"field\": \"MPG\", \"scale\": {\"domain\": [8, 47]}}}, \"selection\": {\"selector002\": {\"type\": \"interval\", \"bind\": \"scales\", \"encodings\": [\"x\", \"y\"]}}, \"title\": \"Cars Weight vs MPG\", \"transform\": [{\"window\": [{\"op\": \"mean\", \"field\": \"temp_max\", \"as\": \"rolling_mean\"}], \"frame\": [-15, 15]}], \"$schema\": \"https://vega.github.io/schema/vega-lite/v4.8.1.json\", \"datasets\": {\"data-cb3e5ae836495aecb1c946493dae0b76\": [{\"Unnamed: 0\": 5, \"Car\": \"torino\", \"Manufacturer\": \"ford\", \"MPG\": 17.0, \"Cylinders\": 8, \"Displacement\": 302, \"Horsepower\": 140.0, \"Weight\": 3449, \"Acceleration\": 10.5, \"Model.Year\": 70, \"Origin\": \"American\"}, {\"Unnamed: 0\": 6, \"Car\": \"galaxie 500\", \"Manufacturer\": \"ford\", \"MPG\": 15.0, \"Cylinders\": 8, \"Displacement\": 429, \"Horsepower\": 198.0, \"Weight\": 4341, \"Acceleration\": 10.0, \"Model.Year\": 70, \"Origin\": \"American\"}, {\"Unnamed: 0\": 13, \"Car\": \"torino (sw)\", \"Manufacturer\": \"ford\", \"MPG\": null, \"Cylinders\": 8, \"Displacement\": 351, \"Horsepower\": 153.0, \"Weight\": 4034, \"Acceleration\": 11.0, \"Model.Year\": 70, \"Origin\": \"American\"}, {\"Unnamed: 0\": 18, \"Car\": \"mustang boss 302\", \"Manufacturer\": \"ford\", \"MPG\": null, \"Cylinders\": 8, \"Displacement\": 302, \"Horsepower\": 140.0, \"Weight\": 3353, \"Acceleration\": 8.0, \"Model.Year\": 70, \"Origin\": \"American\"}, {\"Unnamed: 0\": 21, \"Car\": \"corona mark ii\", \"Manufacturer\": \"toyota\", \"MPG\": 24.0, \"Cylinders\": 4, \"Displacement\": 113, \"Horsepower\": 95.0, \"Weight\": 2372, \"Acceleration\": 15.0, \"Model.Year\": 70, \"Origin\": \"Japanese\"}, {\"Unnamed: 0\": 24, \"Car\": \"maverick\", \"Manufacturer\": \"ford\", \"MPG\": 21.0, \"Cylinders\": 6, \"Displacement\": 200, \"Horsepower\": 85.0, \"Weight\": 2587, \"Acceleration\": 16.0, \"Model.Year\": 70, \"Origin\": \"American\"}, {\"Unnamed: 0\": 30, \"Car\": \"2002\", \"Manufacturer\": \"bmw\", \"MPG\": 26.0, \"Cylinders\": 4, \"Displacement\": 121, \"Horsepower\": 113.0, \"Weight\": 2234, \"Acceleration\": 12.5, \"Model.Year\": 70, \"Origin\": \"European\"}, {\"Unnamed: 0\": 32, \"Car\": \"f250\", \"Manufacturer\": \"ford\", \"MPG\": 10.0, \"Cylinders\": 8, \"Displacement\": 360, \"Horsepower\": 215.0, \"Weight\": 4615, \"Acceleration\": 14.0, \"Model.Year\": 70, \"Origin\": \"American\"}, {\"Unnamed: 0\": 38, \"Car\": \"corona\", \"Manufacturer\": \"toyota\", \"MPG\": 25.0, \"Cylinders\": 4, \"Displacement\": 113, \"Horsepower\": 95.0, \"Weight\": 2228, \"Acceleration\": 14.0, \"Model.Year\": 71, \"Origin\": \"Japanese\"}, {\"Unnamed: 0\": 39, \"Car\": \"pinto\", \"Manufacturer\": \"ford\", \"MPG\": 25.0, \"Cylinders\": 4, \"Displacement\": 98, \"Horsepower\": null, \"Weight\": 2046, \"Acceleration\": 19.0, \"Model.Year\": 71, \"Origin\": \"American\"}, {\"Unnamed: 0\": 44, \"Car\": \"torino 500\", \"Manufacturer\": \"ford\", \"MPG\": 19.0, \"Cylinders\": 6, \"Displacement\": 250, \"Horsepower\": 88.0, \"Weight\": 3302, \"Acceleration\": 15.5, \"Model.Year\": 71, \"Origin\": \"American\"}, {\"Unnamed: 0\": 48, \"Car\": \"galaxie 500\", \"Manufacturer\": \"ford\", \"MPG\": 14.0, \"Cylinders\": 8, \"Displacement\": 351, \"Horsepower\": 153.0, \"Weight\": 4154, \"Acceleration\": 13.5, \"Model.Year\": 71, \"Origin\": \"American\"}, {\"Unnamed: 0\": 51, \"Car\": \"country squire (sw)\", \"Manufacturer\": \"ford\", \"MPG\": 13.0, \"Cylinders\": 8, \"Displacement\": 400, \"Horsepower\": 170.0, \"Weight\": 4746, \"Acceleration\": 12.0, \"Model.Year\": 71, \"Origin\": \"American\"}, {\"Unnamed: 0\": 56, \"Car\": \"mustang\", \"Manufacturer\": \"ford\", \"MPG\": 18.0, \"Cylinders\": 6, \"Displacement\": 250, \"Horsepower\": 88.0, \"Weight\": 3139, \"Acceleration\": 14.5, \"Model.Year\": 71, \"Origin\": \"American\"}, {\"Unnamed: 0\": 61, \"Car\": \"corolla 1200\", \"Manufacturer\": \"toyota\", \"MPG\": 31.0, \"Cylinders\": 4, \"Displacement\": 71, \"Horsepower\": 65.0, \"Weight\": 1773, \"Acceleration\": 19.0, \"Model.Year\": 71, \"Origin\": \"Japanese\"}, {\"Unnamed: 0\": 65, \"Car\": \"corona hardtop\", \"Manufacturer\": \"toyota\", \"MPG\": 24.0, \"Cylinders\": 4, \"Displacement\": 113, \"Horsepower\": 95.0, \"Weight\": 2278, \"Acceleration\": 15.5, \"Model.Year\": 72, \"Origin\": \"Japanese\"}, {\"Unnamed: 0\": 69, \"Car\": \"pinto runabout\", \"Manufacturer\": \"ford\", \"MPG\": 21.0, \"Cylinders\": 4, \"Displacement\": 122, \"Horsepower\": 86.0, \"Weight\": 2226, \"Acceleration\": 16.5, \"Model.Year\": 72, \"Origin\": \"American\"}, {\"Unnamed: 0\": 73, \"Car\": \"galaxie 500\", \"Manufacturer\": \"ford\", \"MPG\": 14.0, \"Cylinders\": 8, \"Displacement\": 351, \"Horsepower\": 153.0, \"Weight\": 4129, \"Acceleration\": 13.0, \"Model.Year\": 72, \"Origin\": \"American\"}, {\"Unnamed: 0\": 82, \"Car\": \"gran torino (sw)\", \"Manufacturer\": \"ford\", \"MPG\": 13.0, \"Cylinders\": 8, \"Displacement\": 302, \"Horsepower\": 140.0, \"Weight\": 4294, \"Acceleration\": 16.0, \"Model.Year\": 72, \"Origin\": \"American\"}, {\"Unnamed: 0\": 88, \"Car\": \"pinto (sw)\", \"Manufacturer\": \"ford\", \"MPG\": 22.0, \"Cylinders\": 4, \"Displacement\": 122, \"Horsepower\": 86.0, \"Weight\": 2395, \"Acceleration\": 16.0, \"Model.Year\": 72, \"Origin\": \"American\"}, {\"Unnamed: 0\": 90, \"Car\": \"corona mark ii (sw)\", \"Manufacturer\": \"toyota\", \"MPG\": 23.0, \"Cylinders\": 4, \"Displacement\": 120, \"Horsepower\": 97.0, \"Weight\": 2506, \"Acceleration\": 14.5, \"Model.Year\": 72, \"Origin\": \"Japanese\"}, {\"Unnamed: 0\": 92, \"Car\": \"corolla 1600 (sw)\", \"Manufacturer\": \"toyota\", \"MPG\": 27.0, \"Cylinders\": 4, \"Displacement\": 97, \"Horsepower\": 88.0, \"Weight\": 2100, \"Acceleration\": 16.5, \"Model.Year\": 72, \"Origin\": \"Japanese\"}, {\"Unnamed: 0\": 96, \"Car\": \"gran torino\", \"Manufacturer\": \"ford\", \"MPG\": 14.0, \"Cylinders\": 8, \"Displacement\": 302, \"Horsepower\": 137.0, \"Weight\": 4042, \"Acceleration\": 14.5, \"Model.Year\": 73, \"Origin\": \"American\"}, {\"Unnamed: 0\": 100, \"Car\": \"ltd\", \"Manufacturer\": \"ford\", \"MPG\": 13.0, \"Cylinders\": 8, \"Displacement\": 351, \"Horsepower\": 158.0, \"Weight\": 4363, \"Acceleration\": 13.0, \"Model.Year\": 73, \"Origin\": \"American\"}, {\"Unnamed: 0\": 108, \"Car\": \"maverick\", \"Manufacturer\": \"ford\", \"MPG\": 18.0, \"Cylinders\": 6, \"Displacement\": 250, \"Horsepower\": 88.0, \"Weight\": 3021, \"Acceleration\": 16.5, \"Model.Year\": 73, \"Origin\": \"American\"}, {\"Unnamed: 0\": 112, \"Car\": \"country\", \"Manufacturer\": \"ford\", \"MPG\": 12.0, \"Cylinders\": 8, \"Displacement\": 400, \"Horsepower\": 167.0, \"Weight\": 4906, \"Acceleration\": 12.5, \"Model.Year\": 73, \"Origin\": \"American\"}, {\"Unnamed: 0\": 116, \"Car\": \"carina\", \"Manufacturer\": \"toyota\", \"MPG\": 20.0, \"Cylinders\": 4, \"Displacement\": 97, \"Horsepower\": 88.0, \"Weight\": 2279, \"Acceleration\": 19.0, \"Model.Year\": 73, \"Origin\": \"Japanese\"}, {\"Unnamed: 0\": 120, \"Car\": \"pinto\", \"Manufacturer\": \"ford\", \"MPG\": 19.0, \"Cylinders\": 4, \"Displacement\": 122, \"Horsepower\": 85.0, \"Weight\": 2310, \"Acceleration\": 18.5, \"Model.Year\": 73, \"Origin\": \"American\"}, {\"Unnamed: 0\": 131, \"Car\": \"mark ii\", \"Manufacturer\": \"toyota\", \"MPG\": 20.0, \"Cylinders\": 6, \"Displacement\": 156, \"Horsepower\": 122.0, \"Weight\": 2807, \"Acceleration\": 13.5, \"Model.Year\": 73, \"Origin\": \"Japanese\"}, {\"Unnamed: 0\": 134, \"Car\": \"maverick\", \"Manufacturer\": \"ford\", \"MPG\": 21.0, \"Cylinders\": 6, \"Displacement\": 200, \"Horsepower\": null, \"Weight\": 2875, \"Acceleration\": 17.0, \"Model.Year\": 74, \"Origin\": \"American\"}, {\"Unnamed: 0\": 138, \"Car\": \"pinto\", \"Manufacturer\": \"ford\", \"MPG\": 26.0, \"Cylinders\": 4, \"Displacement\": 122, \"Horsepower\": 80.0, \"Weight\": 2451, \"Acceleration\": 16.5, \"Model.Year\": 74, \"Origin\": \"American\"}, {\"Unnamed: 0\": 139, \"Car\": \"corolla 1200\", \"Manufacturer\": \"toyota\", \"MPG\": 32.0, \"Cylinders\": 4, \"Displacement\": 71, \"Horsepower\": 65.0, \"Weight\": 1836, \"Acceleration\": 21.0, \"Model.Year\": 74, \"Origin\": \"Japanese\"}, {\"Unnamed: 0\": 144, \"Car\": \"gran torino\", \"Manufacturer\": \"ford\", \"MPG\": 16.0, \"Cylinders\": 8, \"Displacement\": 302, \"Horsepower\": 140.0, \"Weight\": 4141, \"Acceleration\": 14.0, \"Model.Year\": 74, \"Origin\": \"American\"}, {\"Unnamed: 0\": 147, \"Car\": \"gran torino (sw)\", \"Manufacturer\": \"ford\", \"MPG\": 14.0, \"Cylinders\": 8, \"Displacement\": 302, \"Horsepower\": 140.0, \"Weight\": 4638, \"Acceleration\": 16.0, \"Model.Year\": 74, \"Origin\": \"American\"}, {\"Unnamed: 0\": 152, \"Car\": \"corona\", \"Manufacturer\": \"toyota\", \"MPG\": 31.0, \"Cylinders\": 4, \"Displacement\": 76, \"Horsepower\": 52.0, \"Weight\": 1649, \"Acceleration\": 16.5, \"Model.Year\": 74, \"Origin\": \"Japanese\"}, {\"Unnamed: 0\": 157, \"Car\": \"civic\", \"Manufacturer\": \"honda\", \"MPG\": 24.0, \"Cylinders\": 4, \"Displacement\": 120, \"Horsepower\": 97.0, \"Weight\": 2489, \"Acceleration\": 15.0, \"Model.Year\": 74, \"Origin\": \"Japanese\"}, {\"Unnamed: 0\": 163, \"Car\": \"maverick\", \"Manufacturer\": \"ford\", \"MPG\": 15.0, \"Cylinders\": 6, \"Displacement\": 250, \"Horsepower\": 72.0, \"Weight\": 3158, \"Acceleration\": 19.5, \"Model.Year\": 75, \"Origin\": \"American\"}, {\"Unnamed: 0\": 167, \"Car\": \"ltd\", \"Manufacturer\": \"ford\", \"MPG\": 14.0, \"Cylinders\": 8, \"Displacement\": 351, \"Horsepower\": 148.0, \"Weight\": 4657, \"Acceleration\": 13.5, \"Model.Year\": 75, \"Origin\": \"American\"}, {\"Unnamed: 0\": 174, \"Car\": \"mustang ii\", \"Manufacturer\": \"ford\", \"MPG\": 13.0, \"Cylinders\": 8, \"Displacement\": 302, \"Horsepower\": 129.0, \"Weight\": 3169, \"Acceleration\": 12.0, \"Model.Year\": 75, \"Origin\": \"American\"}, {\"Unnamed: 0\": 175, \"Car\": \"corolla\", \"Manufacturer\": \"toyota\", \"MPG\": 29.0, \"Cylinders\": 4, \"Displacement\": 97, \"Horsepower\": 75.0, \"Weight\": 2171, \"Acceleration\": 16.0, \"Model.Year\": 75, \"Origin\": \"Japanese\"}, {\"Unnamed: 0\": 176, \"Car\": \"pinto\", \"Manufacturer\": \"ford\", \"MPG\": 23.0, \"Cylinders\": 4, \"Displacement\": 140, \"Horsepower\": 83.0, \"Weight\": 2639, \"Acceleration\": 17.0, \"Model.Year\": 75, \"Origin\": \"American\"}, {\"Unnamed: 0\": 179, \"Car\": \"corona\", \"Manufacturer\": \"toyota\", \"MPG\": 24.0, \"Cylinders\": 4, \"Displacement\": 134, \"Horsepower\": 96.0, \"Weight\": 2702, \"Acceleration\": 13.5, \"Model.Year\": 75, \"Origin\": \"Japanese\"}, {\"Unnamed: 0\": 182, \"Car\": \"pinto\", \"Manufacturer\": \"ford\", \"MPG\": 18.0, \"Cylinders\": 6, \"Displacement\": 171, \"Horsepower\": 97.0, \"Weight\": 2984, \"Acceleration\": 14.5, \"Model.Year\": 75, \"Origin\": \"American\"}, {\"Unnamed: 0\": 189, \"Car\": \"civic cvcc\", \"Manufacturer\": \"honda\", \"MPG\": 33.0, \"Cylinders\": 4, \"Displacement\": 91, \"Horsepower\": 53.0, \"Weight\": 1795, \"Acceleration\": 17.5, \"Model.Year\": 75, \"Origin\": \"Japanese\"}, {\"Unnamed: 0\": 198, \"Car\": \"gran torino\", \"Manufacturer\": \"ford\", \"MPG\": 14.5, \"Cylinders\": 8, \"Displacement\": 351, \"Horsepower\": 152.0, \"Weight\": 4215, \"Acceleration\": 12.8, \"Model.Year\": 76, \"Origin\": \"American\"}, {\"Unnamed: 0\": 201, \"Car\": \"maverick\", \"Manufacturer\": \"ford\", \"MPG\": 24.0, \"Cylinders\": 6, \"Displacement\": 200, \"Horsepower\": 81.0, \"Weight\": 3012, \"Acceleration\": 17.6, \"Model.Year\": 76, \"Origin\": \"American\"}, {\"Unnamed: 0\": 206, \"Car\": \"civic\", \"Manufacturer\": \"honda\", \"MPG\": 33.0, \"Cylinders\": 4, \"Displacement\": 91, \"Horsepower\": 53.0, \"Weight\": 1795, \"Acceleration\": 17.4, \"Model.Year\": 76, \"Origin\": \"Japanese\"}, {\"Unnamed: 0\": 208, \"Car\": \"granada ghia\", \"Manufacturer\": \"ford\", \"MPG\": 18.0, \"Cylinders\": 6, \"Displacement\": 250, \"Horsepower\": 78.0, \"Weight\": 3574, \"Acceleration\": 21.0, \"Model.Year\": 76, \"Origin\": \"American\"}, {\"Unnamed: 0\": 213, \"Car\": \"corolla\", \"Manufacturer\": \"toyota\", \"MPG\": 28.0, \"Cylinders\": 4, \"Displacement\": 97, \"Horsepower\": 75.0, \"Weight\": 2155, \"Acceleration\": 16.4, \"Model.Year\": 76, \"Origin\": \"Japanese\"}, {\"Unnamed: 0\": 214, \"Car\": \"pinto\", \"Manufacturer\": \"ford\", \"MPG\": 26.5, \"Cylinders\": 4, \"Displacement\": 140, \"Horsepower\": 72.0, \"Weight\": 2565, \"Acceleration\": 13.6, \"Model.Year\": 76, \"Origin\": \"American\"}, {\"Unnamed: 0\": 218, \"Car\": \"mark ii\", \"Manufacturer\": \"toyota\", \"MPG\": 19.0, \"Cylinders\": 6, \"Displacement\": 156, \"Horsepower\": 108.0, \"Weight\": 2930, \"Acceleration\": 15.5, \"Model.Year\": 76, \"Origin\": \"Japanese\"}, {\"Unnamed: 0\": 219, \"Car\": \"280s\", \"Manufacturer\": \"mercedes\", \"MPG\": 16.5, \"Cylinders\": 6, \"Displacement\": 168, \"Horsepower\": 120.0, \"Weight\": 3820, \"Acceleration\": 16.7, \"Model.Year\": 76, \"Origin\": \"European\"}, {\"Unnamed: 0\": 222, \"Car\": \"f108\", \"Manufacturer\": \"ford\", \"MPG\": 13.0, \"Cylinders\": 8, \"Displacement\": 302, \"Horsepower\": 130.0, \"Weight\": 3870, \"Acceleration\": 15.0, \"Model.Year\": 76, \"Origin\": \"American\"}, {\"Unnamed: 0\": 224, \"Car\": \"accord cvcc\", \"Manufacturer\": \"honda\", \"MPG\": 31.5, \"Cylinders\": 4, \"Displacement\": 98, \"Horsepower\": 68.0, \"Weight\": 2045, \"Acceleration\": 18.5, \"Model.Year\": 77, \"Origin\": \"Japanese\"}, {\"Unnamed: 0\": 236, \"Car\": \"granada\", \"Manufacturer\": \"ford\", \"MPG\": 18.5, \"Cylinders\": 6, \"Displacement\": 250, \"Horsepower\": 98.0, \"Weight\": 3525, \"Acceleration\": 19.0, \"Model.Year\": 77, \"Origin\": \"American\"}, {\"Unnamed: 0\": 240, \"Car\": \"thunderbird\", \"Manufacturer\": \"ford\", \"MPG\": 16.0, \"Cylinders\": 8, \"Displacement\": 351, \"Horsepower\": 149.0, \"Weight\": 4335, \"Acceleration\": 14.5, \"Model.Year\": 77, \"Origin\": \"American\"}, {\"Unnamed: 0\": 243, \"Car\": \"corolla liftback\", \"Manufacturer\": \"toyota\", \"MPG\": 26.0, \"Cylinders\": 4, \"Displacement\": 97, \"Horsepower\": 75.0, \"Weight\": 2265, \"Acceleration\": 18.2, \"Model.Year\": 77, \"Origin\": \"Japanese\"}, {\"Unnamed: 0\": 244, \"Car\": \"mustang ii 2+2\", \"Manufacturer\": \"ford\", \"MPG\": 25.5, \"Cylinders\": 4, \"Displacement\": 140, \"Horsepower\": 89.0, \"Weight\": 2755, \"Acceleration\": 15.8, \"Model.Year\": 77, \"Origin\": \"American\"}, {\"Unnamed: 0\": 250, \"Car\": \"320i\", \"Manufacturer\": \"bmw\", \"MPG\": 21.5, \"Cylinders\": 4, \"Displacement\": 121, \"Horsepower\": 110.0, \"Weight\": 2600, \"Acceleration\": 12.8, \"Model.Year\": 77, \"Origin\": \"European\"}, {\"Unnamed: 0\": 253, \"Car\": \"fiesta\", \"Manufacturer\": \"ford\", \"MPG\": 36.1, \"Cylinders\": 4, \"Displacement\": 98, \"Horsepower\": 66.0, \"Weight\": 1800, \"Acceleration\": 14.4, \"Model.Year\": 78, \"Origin\": \"American\"}, {\"Unnamed: 0\": 256, \"Car\": \"civic cvcc\", \"Manufacturer\": \"honda\", \"MPG\": 36.1, \"Cylinders\": 4, \"Displacement\": 91, \"Horsepower\": 60.0, \"Weight\": 1800, \"Acceleration\": 16.4, \"Model.Year\": 78, \"Origin\": \"Japanese\"}, {\"Unnamed: 0\": 262, \"Car\": \"fairmont (auto)\", \"Manufacturer\": \"ford\", \"MPG\": 20.2, \"Cylinders\": 6, \"Displacement\": 200, \"Horsepower\": 85.0, \"Weight\": 2965, \"Acceleration\": 15.8, \"Model.Year\": 78, \"Origin\": \"American\"}, {\"Unnamed: 0\": 263, \"Car\": \"fairmont (man)\", \"Manufacturer\": \"ford\", \"MPG\": 25.1, \"Cylinders\": 4, \"Displacement\": 140, \"Horsepower\": 88.0, \"Weight\": 2720, \"Acceleration\": 15.4, \"Model.Year\": 78, \"Origin\": \"American\"}, {\"Unnamed: 0\": 272, \"Car\": \"futura\", \"Manufacturer\": \"ford\", \"MPG\": 18.1, \"Cylinders\": 8, \"Displacement\": 302, \"Horsepower\": 139.0, \"Weight\": 3205, \"Acceleration\": 11.2, \"Model.Year\": 78, \"Origin\": \"American\"}, {\"Unnamed: 0\": 275, \"Car\": \"corona\", \"Manufacturer\": \"toyota\", \"MPG\": 27.5, \"Cylinders\": 4, \"Displacement\": 134, \"Horsepower\": 95.0, \"Weight\": 2560, \"Acceleration\": 14.2, \"Model.Year\": 78, \"Origin\": \"Japanese\"}, {\"Unnamed: 0\": 278, \"Car\": \"celica gt liftback\", \"Manufacturer\": \"toyota\", \"MPG\": 21.1, \"Cylinders\": 4, \"Displacement\": 134, \"Horsepower\": 95.0, \"Weight\": 2515, \"Acceleration\": 14.8, \"Model.Year\": 78, \"Origin\": \"Japanese\"}, {\"Unnamed: 0\": 287, \"Car\": \"accord lx\", \"Manufacturer\": \"honda\", \"MPG\": 29.5, \"Cylinders\": 4, \"Displacement\": 98, \"Horsepower\": 68.0, \"Weight\": 2135, \"Acceleration\": 16.6, \"Model.Year\": 78, \"Origin\": \"Japanese\"}, {\"Unnamed: 0\": 290, \"Car\": \"fairmont 4\", \"Manufacturer\": \"ford\", \"MPG\": 22.3, \"Cylinders\": 4, \"Displacement\": 140, \"Horsepower\": 88.0, \"Weight\": 2890, \"Acceleration\": 17.3, \"Model.Year\": 79, \"Origin\": \"American\"}, {\"Unnamed: 0\": 294, \"Car\": \"ltd landau\", \"Manufacturer\": \"ford\", \"MPG\": 17.6, \"Cylinders\": 8, \"Displacement\": 302, \"Horsepower\": 129.0, \"Weight\": 3725, \"Acceleration\": 13.4, \"Model.Year\": 79, \"Origin\": \"American\"}, {\"Unnamed: 0\": 298, \"Car\": \"country squire (sw)\", \"Manufacturer\": \"ford\", \"MPG\": 15.5, \"Cylinders\": 8, \"Displacement\": 351, \"Horsepower\": 142.0, \"Weight\": 4054, \"Acceleration\": 14.3, \"Model.Year\": 79, \"Origin\": \"American\"}, {\"Unnamed: 0\": 305, \"Car\": \"300d\", \"Manufacturer\": \"mercedes\", \"MPG\": 25.4, \"Cylinders\": 5, \"Displacement\": 183, \"Horsepower\": 77.0, \"Weight\": 3530, \"Acceleration\": 20.1, \"Model.Year\": 79, \"Origin\": \"European\"}, {\"Unnamed: 0\": 318, \"Car\": \"corolla tercel\", \"Manufacturer\": \"toyota\", \"MPG\": 38.1, \"Cylinders\": 4, \"Displacement\": 89, \"Horsepower\": 60.0, \"Weight\": 1968, \"Acceleration\": 18.8, \"Model.Year\": 80, \"Origin\": \"Japanese\"}, {\"Unnamed: 0\": 322, \"Car\": \"fairmont\", \"Manufacturer\": \"ford\", \"MPG\": 26.4, \"Cylinders\": 4, \"Displacement\": 140, \"Horsepower\": 88.0, \"Weight\": 2870, \"Acceleration\": 18.1, \"Model.Year\": 80, \"Origin\": \"American\"}, {\"Unnamed: 0\": 326, \"Car\": \"corona liftback\", \"Manufacturer\": \"toyota\", \"MPG\": 29.8, \"Cylinders\": 4, \"Displacement\": 134, \"Horsepower\": 90.0, \"Weight\": 2711, \"Acceleration\": 15.5, \"Model.Year\": 80, \"Origin\": \"Japanese\"}, {\"Unnamed: 0\": 329, \"Car\": \"corolla\", \"Manufacturer\": \"toyota\", \"MPG\": 32.2, \"Cylinders\": 4, \"Displacement\": 108, \"Horsepower\": 75.0, \"Weight\": 2265, \"Acceleration\": 15.2, \"Model.Year\": 80, \"Origin\": \"Japanese\"}, {\"Unnamed: 0\": 336, \"Car\": \"240d\", \"Manufacturer\": \"mercedes\", \"MPG\": 30.0, \"Cylinders\": 4, \"Displacement\": 146, \"Horsepower\": 67.0, \"Weight\": 3250, \"Acceleration\": 21.8, \"Model.Year\": 80, \"Origin\": \"European\"}, {\"Unnamed: 0\": 337, \"Car\": \"civic 1500 gl\", \"Manufacturer\": \"honda\", \"MPG\": 44.6, \"Cylinders\": 4, \"Displacement\": 91, \"Horsepower\": 67.0, \"Weight\": 1850, \"Acceleration\": 13.8, \"Model.Year\": 80, \"Origin\": \"Japanese\"}, {\"Unnamed: 0\": 344, \"Car\": \"mustang cobra\", \"Manufacturer\": \"ford\", \"MPG\": 23.6, \"Cylinders\": 4, \"Displacement\": 140, \"Horsepower\": null, \"Weight\": 2905, \"Acceleration\": 14.3, \"Model.Year\": 80, \"Origin\": \"American\"}, {\"Unnamed: 0\": 345, \"Car\": \"accord\", \"Manufacturer\": \"honda\", \"MPG\": 32.4, \"Cylinders\": 4, \"Displacement\": 107, \"Horsepower\": 72.0, \"Weight\": 2290, \"Acceleration\": 17.0, \"Model.Year\": 80, \"Origin\": \"Japanese\"}, {\"Unnamed: 0\": 351, \"Car\": \"starlet\", \"Manufacturer\": \"toyota\", \"MPG\": 39.1, \"Cylinders\": 4, \"Displacement\": 79, \"Horsepower\": 58.0, \"Weight\": 1755, \"Acceleration\": 16.9, \"Model.Year\": 81, \"Origin\": \"Japanese\"}, {\"Unnamed: 0\": 353, \"Car\": \"civic 1300\", \"Manufacturer\": \"honda\", \"MPG\": 35.1, \"Cylinders\": 4, \"Displacement\": 81, \"Horsepower\": 60.0, \"Weight\": 1760, \"Acceleration\": 16.1, \"Model.Year\": 81, \"Origin\": \"Japanese\"}, {\"Unnamed: 0\": 356, \"Car\": \"tercel\", \"Manufacturer\": \"toyota\", \"MPG\": 37.7, \"Cylinders\": 4, \"Displacement\": 89, \"Horsepower\": 62.0, \"Weight\": 2050, \"Acceleration\": 17.3, \"Model.Year\": 81, \"Origin\": \"Japanese\"}, {\"Unnamed: 0\": 359, \"Car\": \"escort 4w\", \"Manufacturer\": \"ford\", \"MPG\": 34.4, \"Cylinders\": 4, \"Displacement\": 98, \"Horsepower\": 65.0, \"Weight\": 2045, \"Acceleration\": 16.2, \"Model.Year\": 81, \"Origin\": \"American\"}, {\"Unnamed: 0\": 360, \"Car\": \"escort 2h\", \"Manufacturer\": \"ford\", \"MPG\": 29.9, \"Cylinders\": 4, \"Displacement\": 98, \"Horsepower\": 65.0, \"Weight\": 2380, \"Acceleration\": 20.7, \"Model.Year\": 81, \"Origin\": \"American\"}, {\"Unnamed: 0\": 363, \"Car\": \"prelude\", \"Manufacturer\": \"honda\", \"MPG\": 33.7, \"Cylinders\": 4, \"Displacement\": 107, \"Horsepower\": 75.0, \"Weight\": 2210, \"Acceleration\": 14.4, \"Model.Year\": 81, \"Origin\": \"Japanese\"}, {\"Unnamed: 0\": 364, \"Car\": \"corolla\", \"Manufacturer\": \"toyota\", \"MPG\": 32.4, \"Cylinders\": 4, \"Displacement\": 108, \"Horsepower\": 75.0, \"Weight\": 2350, \"Acceleration\": 16.8, \"Model.Year\": 81, \"Origin\": \"Japanese\"}, {\"Unnamed: 0\": 370, \"Car\": \"cressida\", \"Manufacturer\": \"toyota\", \"MPG\": 25.4, \"Cylinders\": 6, \"Displacement\": 168, \"Horsepower\": 116.0, \"Weight\": 2900, \"Acceleration\": 12.6, \"Model.Year\": 81, \"Origin\": \"Japanese\"}, {\"Unnamed: 0\": 374, \"Car\": \"granada gl\", \"Manufacturer\": \"ford\", \"MPG\": 20.2, \"Cylinders\": 6, \"Displacement\": 200, \"Horsepower\": 88.0, \"Weight\": 3060, \"Acceleration\": 17.1, \"Model.Year\": 81, \"Origin\": \"American\"}, {\"Unnamed: 0\": 382, \"Car\": \"fairmont futura\", \"Manufacturer\": \"ford\", \"MPG\": 24.0, \"Cylinders\": 4, \"Displacement\": 140, \"Horsepower\": 92.0, \"Weight\": 2865, \"Acceleration\": 16.4, \"Model.Year\": 82, \"Origin\": \"American\"}, {\"Unnamed: 0\": 390, \"Car\": \"accord\", \"Manufacturer\": \"honda\", \"MPG\": 36.0, \"Cylinders\": 4, \"Displacement\": 107, \"Horsepower\": 75.0, \"Weight\": 2205, \"Acceleration\": 14.5, \"Model.Year\": 82, \"Origin\": \"Japanese\"}, {\"Unnamed: 0\": 391, \"Car\": \"corolla\", \"Manufacturer\": \"toyota\", \"MPG\": 34.0, \"Cylinders\": 4, \"Displacement\": 108, \"Horsepower\": 70.0, \"Weight\": 2245, \"Acceleration\": 16.9, \"Model.Year\": 82, \"Origin\": \"Japanese\"}, {\"Unnamed: 0\": 392, \"Car\": \"civic\", \"Manufacturer\": \"honda\", \"MPG\": 38.0, \"Cylinders\": 4, \"Displacement\": 91, \"Horsepower\": 67.0, \"Weight\": 1965, \"Acceleration\": 15.0, \"Model.Year\": 82, \"Origin\": \"Japanese\"}, {\"Unnamed: 0\": 393, \"Car\": \"civic (auto)\", \"Manufacturer\": \"honda\", \"MPG\": 32.0, \"Cylinders\": 4, \"Displacement\": 91, \"Horsepower\": 67.0, \"Weight\": 1965, \"Acceleration\": 15.7, \"Model.Year\": 82, \"Origin\": \"Japanese\"}, {\"Unnamed: 0\": 398, \"Car\": \"granada l\", \"Manufacturer\": \"ford\", \"MPG\": 22.0, \"Cylinders\": 6, \"Displacement\": 232, \"Horsepower\": 112.0, \"Weight\": 2835, \"Acceleration\": 14.7, \"Model.Year\": 82, \"Origin\": \"American\"}, {\"Unnamed: 0\": 399, \"Car\": \"celica gt\", \"Manufacturer\": \"toyota\", \"MPG\": 32.0, \"Cylinders\": 4, \"Displacement\": 144, \"Horsepower\": 96.0, \"Weight\": 2665, \"Acceleration\": 13.9, \"Model.Year\": 82, \"Origin\": \"Japanese\"}, {\"Unnamed: 0\": 402, \"Car\": \"mustang gl\", \"Manufacturer\": \"ford\", \"MPG\": 27.0, \"Cylinders\": 4, \"Displacement\": 140, \"Horsepower\": 86.0, \"Weight\": 2790, \"Acceleration\": 15.6, \"Model.Year\": 82, \"Origin\": \"American\"}, {\"Unnamed: 0\": 405, \"Car\": \"ranger\", \"Manufacturer\": \"ford\", \"MPG\": 28.0, \"Cylinders\": 4, \"Displacement\": 120, \"Horsepower\": 79.0, \"Weight\": 2625, \"Acceleration\": 18.6, \"Model.Year\": 82, \"Origin\": \"American\"}]}}, {\"mode\": \"vega-lite\"});\n",
       "</script>"
      ],
      "text/plain": [
       "alt.Chart(...)"
      ]
     },
     "execution_count": 35,
     "metadata": {},
     "output_type": "execute_result"
    }
   ],
   "source": [
    "import altair as alt\n",
    "\n",
    "alt.Chart(cars).mark_circle().encode(\n",
    "    alt.X('Weight',\n",
    "        scale=alt.Scale(domain=(1500, 5000))\n",
    "    ),\n",
    "    alt.Y('MPG',\n",
    "        scale=alt.Scale(domain=(8, 47))\n",
    "    ),\n",
    "    color='Manufacturer',\n",
    "    size='Weight'\n",
    ").interactive().properties(\n",
    "    title='Cars Weight vs MPG'\n",
    ").transform_window(\n",
    "    rolling_mean='mean(temp_max)',\n",
    "    frame=[-15, 15]\n",
    ")"
   ]
  }
 ],
 "metadata": {
  "kernelspec": {
   "display_name": "Python 3",
   "language": "python",
   "name": "python3"
  },
  "language_info": {
   "codemirror_mode": {
    "name": "ipython",
    "version": 3
   },
   "file_extension": ".py",
   "mimetype": "text/x-python",
   "name": "python",
   "nbconvert_exporter": "python",
   "pygments_lexer": "ipython3",
   "version": "3.6.2"
  }
 },
 "nbformat": 4,
 "nbformat_minor": 4
}

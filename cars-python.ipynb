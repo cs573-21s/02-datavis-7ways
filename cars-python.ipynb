{
 "cells": [
  {
   "cell_type": "markdown",
   "metadata": {},
   "source": [
    "# Plotly"
   ]
  },
  {
   "cell_type": "markdown",
   "metadata": {},
   "source": [
    "Sources\n",
    "- https://plotly.com/python/bubble-charts/\n",
    "- https://dylancastillo.co/4-ways-to-improve-your-plotly-graphs/"
   ]
  },
  {
   "cell_type": "code",
   "execution_count": 1,
   "metadata": {},
   "outputs": [
    {
     "output_type": "execute_result",
     "data": {
      "text/plain": [
       "   Unnamed: 0             Car Manufacturer   MPG  Cylinders  Displacement  \\\n",
       "0           5          Torino         Ford  17.0          8           302   \n",
       "1           6     Galaxie 500         Ford  15.0          8           429   \n",
       "2          21  Corona Mark Ii       Toyota  24.0          4           113   \n",
       "3          24        Maverick         Ford  21.0          6           200   \n",
       "4          30            2002          Bmw  26.0          4           121   \n",
       "\n",
       "   Horsepower  Weight  WeightCategory  Acceleration  ModelYear  ModelYearAbbr  \\\n",
       "0         140    3449            3000          10.5       1970             70   \n",
       "1         198    4341            4000          10.0       1970             70   \n",
       "2          95    2372            2000          15.0       1970             70   \n",
       "3          85    2587            2000          16.0       1970             70   \n",
       "4         113    2234            2000          12.5       1970             70   \n",
       "\n",
       "     Origin  \n",
       "0  American  \n",
       "1  American  \n",
       "2  Japanese  \n",
       "3  American  \n",
       "4  European  "
      ],
      "text/html": "<div>\n<style scoped>\n    .dataframe tbody tr th:only-of-type {\n        vertical-align: middle;\n    }\n\n    .dataframe tbody tr th {\n        vertical-align: top;\n    }\n\n    .dataframe thead th {\n        text-align: right;\n    }\n</style>\n<table border=\"1\" class=\"dataframe\">\n  <thead>\n    <tr style=\"text-align: right;\">\n      <th></th>\n      <th>Unnamed: 0</th>\n      <th>Car</th>\n      <th>Manufacturer</th>\n      <th>MPG</th>\n      <th>Cylinders</th>\n      <th>Displacement</th>\n      <th>Horsepower</th>\n      <th>Weight</th>\n      <th>WeightCategory</th>\n      <th>Acceleration</th>\n      <th>ModelYear</th>\n      <th>ModelYearAbbr</th>\n      <th>Origin</th>\n    </tr>\n  </thead>\n  <tbody>\n    <tr>\n      <th>0</th>\n      <td>5</td>\n      <td>Torino</td>\n      <td>Ford</td>\n      <td>17.0</td>\n      <td>8</td>\n      <td>302</td>\n      <td>140</td>\n      <td>3449</td>\n      <td>3000</td>\n      <td>10.5</td>\n      <td>1970</td>\n      <td>70</td>\n      <td>American</td>\n    </tr>\n    <tr>\n      <th>1</th>\n      <td>6</td>\n      <td>Galaxie 500</td>\n      <td>Ford</td>\n      <td>15.0</td>\n      <td>8</td>\n      <td>429</td>\n      <td>198</td>\n      <td>4341</td>\n      <td>4000</td>\n      <td>10.0</td>\n      <td>1970</td>\n      <td>70</td>\n      <td>American</td>\n    </tr>\n    <tr>\n      <th>2</th>\n      <td>21</td>\n      <td>Corona Mark Ii</td>\n      <td>Toyota</td>\n      <td>24.0</td>\n      <td>4</td>\n      <td>113</td>\n      <td>95</td>\n      <td>2372</td>\n      <td>2000</td>\n      <td>15.0</td>\n      <td>1970</td>\n      <td>70</td>\n      <td>Japanese</td>\n    </tr>\n    <tr>\n      <th>3</th>\n      <td>24</td>\n      <td>Maverick</td>\n      <td>Ford</td>\n      <td>21.0</td>\n      <td>6</td>\n      <td>200</td>\n      <td>85</td>\n      <td>2587</td>\n      <td>2000</td>\n      <td>16.0</td>\n      <td>1970</td>\n      <td>70</td>\n      <td>American</td>\n    </tr>\n    <tr>\n      <th>4</th>\n      <td>30</td>\n      <td>2002</td>\n      <td>Bmw</td>\n      <td>26.0</td>\n      <td>4</td>\n      <td>121</td>\n      <td>113</td>\n      <td>2234</td>\n      <td>2000</td>\n      <td>12.5</td>\n      <td>1970</td>\n      <td>70</td>\n      <td>European</td>\n    </tr>\n  </tbody>\n</table>\n</div>"
     },
     "metadata": {},
     "execution_count": 1
    }
   ],
   "source": [
    "import plotly.express as px\n",
    "import pandas as pd\n",
    "\n",
    "df = pd.read_csv('cars_cleaned.csv')\n",
    "\n",
    "df.head()"
   ]
  },
  {
   "cell_type": "code",
   "execution_count": 94,
   "metadata": {},
   "outputs": [
    {
     "output_type": "display_data",
     "data": {
      "application/vnd.plotly.v1+json": {
       "config": {
        "displayModeBar": false,
        "plotlyServerURL": "https://plot.ly"
       },
       "data": [
        {
         "customdata": [
          [
           3000,
           8,
           302,
           140,
           10.5,
           1970
          ],
          [
           4000,
           8,
           429,
           198,
           10,
           1970
          ],
          [
           2000,
           6,
           200,
           85,
           16,
           1970
          ],
          [
           4000,
           8,
           360,
           215,
           14,
           1970
          ],
          [
           3000,
           6,
           250,
           88,
           15.5,
           1971
          ],
          [
           4000,
           8,
           351,
           153,
           13.5,
           1971
          ],
          [
           4000,
           8,
           400,
           170,
           12,
           1971
          ],
          [
           3000,
           6,
           250,
           88,
           14.5,
           1971
          ],
          [
           2000,
           4,
           122,
           86,
           16.5,
           1972
          ],
          [
           4000,
           8,
           351,
           153,
           13,
           1972
          ],
          [
           4000,
           8,
           302,
           140,
           16,
           1972
          ],
          [
           2000,
           4,
           122,
           86,
           16,
           1972
          ],
          [
           4000,
           8,
           302,
           137,
           14.5,
           1973
          ],
          [
           4000,
           8,
           351,
           158,
           13,
           1973
          ],
          [
           3000,
           6,
           250,
           88,
           16.5,
           1973
          ],
          [
           4000,
           8,
           400,
           167,
           12.5,
           1973
          ],
          [
           2000,
           4,
           122,
           85,
           18.5,
           1973
          ],
          [
           2000,
           4,
           122,
           80,
           16.5,
           1974
          ],
          [
           4000,
           8,
           302,
           140,
           14,
           1974
          ],
          [
           4000,
           8,
           302,
           140,
           16,
           1974
          ],
          [
           3000,
           6,
           250,
           72,
           19.5,
           1975
          ],
          [
           4000,
           8,
           351,
           148,
           13.5,
           1975
          ],
          [
           3000,
           8,
           302,
           129,
           12,
           1975
          ],
          [
           2000,
           4,
           140,
           83,
           17,
           1975
          ],
          [
           2000,
           6,
           171,
           97,
           14.5,
           1975
          ],
          [
           4000,
           8,
           351,
           152,
           12.8,
           1976
          ],
          [
           3000,
           6,
           200,
           81,
           17.6,
           1976
          ],
          [
           3000,
           6,
           250,
           78,
           21,
           1976
          ],
          [
           2000,
           4,
           140,
           72,
           13.6,
           1976
          ],
          [
           3000,
           8,
           302,
           130,
           15,
           1976
          ],
          [
           3000,
           6,
           250,
           98,
           19,
           1977
          ],
          [
           4000,
           8,
           351,
           149,
           14.5,
           1977
          ],
          [
           2000,
           4,
           140,
           89,
           15.8,
           1977
          ],
          [
           1000,
           4,
           98,
           66,
           14.4,
           1978
          ],
          [
           2000,
           6,
           200,
           85,
           15.8,
           1978
          ],
          [
           2000,
           4,
           140,
           88,
           15.4,
           1978
          ],
          [
           3000,
           8,
           302,
           139,
           11.2,
           1978
          ],
          [
           2000,
           4,
           140,
           88,
           17.3,
           1979
          ],
          [
           3000,
           8,
           302,
           129,
           13.4,
           1979
          ],
          [
           4000,
           8,
           351,
           142,
           14.3,
           1979
          ],
          [
           2000,
           4,
           140,
           88,
           18.1,
           1980
          ],
          [
           2000,
           4,
           98,
           65,
           16.2,
           1981
          ],
          [
           2000,
           4,
           98,
           65,
           20.7,
           1981
          ],
          [
           3000,
           6,
           200,
           88,
           17.1,
           1981
          ],
          [
           2000,
           4,
           140,
           92,
           16.4,
           1982
          ],
          [
           2000,
           6,
           232,
           112,
           14.7,
           1982
          ],
          [
           2000,
           4,
           140,
           86,
           15.6,
           1982
          ],
          [
           2000,
           4,
           120,
           79,
           18.6,
           1982
          ]
         ],
         "hovertemplate": "<b>%{hovertext}</b><br><br>Manufacturer=Ford<br>Weight=%{x}<br>MPG=%{y}<br>Cylinders=%{customdata[1]}<br>Displacement=%{customdata[2]}<br>Horsepower=%{customdata[3]}<br>Acceleration=%{customdata[4]}<br>ModelYear=%{customdata[5]}<extra></extra>",
         "hovertext": [
          "Torino",
          "Galaxie 500",
          "Maverick",
          "F250",
          "Torino 500",
          "Galaxie 500",
          "Country Squire (Sw)",
          "Mustang",
          "Pinto Runabout",
          "Galaxie 500",
          "Gran Torino (Sw)",
          "Pinto (Sw)",
          "Gran Torino",
          "Ltd",
          "Maverick",
          "Country",
          "Pinto",
          "Pinto",
          "Gran Torino",
          "Gran Torino (Sw)",
          "Maverick",
          "Ltd",
          "Mustang Ii",
          "Pinto",
          "Pinto",
          "Gran Torino",
          "Maverick",
          "Granada Ghia",
          "Pinto",
          "F108",
          "Granada",
          "Thunderbird",
          "Mustang Ii 2+2",
          "Fiesta",
          "Fairmont (Auto)",
          "Fairmont (Man)",
          "Futura",
          "Fairmont 4",
          "Ltd Landau",
          "Country Squire (Sw)",
          "Fairmont",
          "Escort 4W",
          "Escort 2H",
          "Granada Gl",
          "Fairmont Futura",
          "Granada L",
          "Mustang Gl",
          "Ranger"
         ],
         "legendgroup": "Ford",
         "marker": {
          "color": "rgb(127, 60, 141)",
          "opacity": 0.5,
          "size": [
           3000,
           4000,
           2000,
           4000,
           3000,
           4000,
           4000,
           3000,
           2000,
           4000,
           4000,
           2000,
           4000,
           4000,
           3000,
           4000,
           2000,
           2000,
           4000,
           4000,
           3000,
           4000,
           3000,
           2000,
           2000,
           4000,
           3000,
           3000,
           2000,
           3000,
           3000,
           4000,
           2000,
           1000,
           2000,
           2000,
           3000,
           2000,
           3000,
           4000,
           2000,
           2000,
           2000,
           3000,
           2000,
           2000,
           2000,
           2000
          ],
          "sizemode": "area",
          "sizeref": 27.77777777777778,
          "symbol": "circle"
         },
         "mode": "markers",
         "name": "Ford",
         "orientation": "v",
         "showlegend": true,
         "type": "scatter",
         "x": [
          3449,
          4341,
          2587,
          4615,
          3302,
          4154,
          4746,
          3139,
          2226,
          4129,
          4294,
          2395,
          4042,
          4363,
          3021,
          4906,
          2310,
          2451,
          4141,
          4638,
          3158,
          4657,
          3169,
          2639,
          2984,
          4215,
          3012,
          3574,
          2565,
          3870,
          3525,
          4335,
          2755,
          1800,
          2965,
          2720,
          3205,
          2890,
          3725,
          4054,
          2870,
          2045,
          2380,
          3060,
          2865,
          2835,
          2790,
          2625
         ],
         "xaxis": "x",
         "y": [
          17,
          15,
          21,
          10,
          19,
          14,
          13,
          18,
          21,
          14,
          13,
          22,
          14,
          13,
          18,
          12,
          19,
          26,
          16,
          14,
          15,
          14,
          13,
          23,
          18,
          14.5,
          24,
          18,
          26.5,
          13,
          18.5,
          16,
          25.5,
          36.1,
          20.2,
          25.1,
          18.1,
          22.3,
          17.6,
          15.5,
          26.4,
          34.4,
          29.9,
          20.2,
          24,
          22,
          27,
          28
         ],
         "yaxis": "y"
        },
        {
         "customdata": [
          [
           2000,
           4,
           113,
           95,
           15,
           1970
          ],
          [
           2000,
           4,
           113,
           95,
           14,
           1971
          ],
          [
           1000,
           4,
           71,
           65,
           19,
           1971
          ],
          [
           2000,
           4,
           113,
           95,
           15.5,
           1972
          ],
          [
           2000,
           4,
           120,
           97,
           14.5,
           1972
          ],
          [
           2000,
           4,
           97,
           88,
           16.5,
           1972
          ],
          [
           2000,
           4,
           97,
           88,
           19,
           1973
          ],
          [
           2000,
           6,
           156,
           122,
           13.5,
           1973
          ],
          [
           1000,
           4,
           71,
           65,
           21,
           1974
          ],
          [
           1000,
           4,
           76,
           52,
           16.5,
           1974
          ],
          [
           2000,
           4,
           97,
           75,
           16,
           1975
          ],
          [
           2000,
           4,
           134,
           96,
           13.5,
           1975
          ],
          [
           2000,
           4,
           97,
           75,
           16.4,
           1976
          ],
          [
           2000,
           6,
           156,
           108,
           15.5,
           1976
          ],
          [
           2000,
           4,
           97,
           75,
           18.2,
           1977
          ],
          [
           2000,
           4,
           134,
           95,
           14.2,
           1978
          ],
          [
           2000,
           4,
           134,
           95,
           14.8,
           1978
          ],
          [
           1000,
           4,
           89,
           60,
           18.8,
           1980
          ],
          [
           2000,
           4,
           134,
           90,
           15.5,
           1980
          ],
          [
           2000,
           4,
           108,
           75,
           15.2,
           1980
          ],
          [
           1000,
           4,
           79,
           58,
           16.9,
           1981
          ],
          [
           2000,
           4,
           89,
           62,
           17.3,
           1981
          ],
          [
           2000,
           4,
           108,
           75,
           16.8,
           1981
          ],
          [
           2000,
           6,
           168,
           116,
           12.6,
           1981
          ],
          [
           2000,
           4,
           108,
           70,
           16.9,
           1982
          ],
          [
           2000,
           4,
           144,
           96,
           13.9,
           1982
          ]
         ],
         "hovertemplate": "<b>%{hovertext}</b><br><br>Manufacturer=Toyota<br>Weight=%{x}<br>MPG=%{y}<br>Cylinders=%{customdata[1]}<br>Displacement=%{customdata[2]}<br>Horsepower=%{customdata[3]}<br>Acceleration=%{customdata[4]}<br>ModelYear=%{customdata[5]}<extra></extra>",
         "hovertext": [
          "Corona Mark Ii",
          "Corona",
          "Corolla 1200",
          "Corona Hardtop",
          "Corona Mark Ii (Sw)",
          "Corolla 1600 (Sw)",
          "Carina",
          "Mark Ii",
          "Corolla 1200",
          "Corona",
          "Corolla",
          "Corona",
          "Corolla",
          "Mark Ii",
          "Corolla Liftback",
          "Corona",
          "Celica Gt Liftback",
          "Corolla Tercel",
          "Corona Liftback",
          "Corolla",
          "Starlet",
          "Tercel",
          "Corolla",
          "Cressida",
          "Corolla",
          "Celica Gt"
         ],
         "legendgroup": "Toyota",
         "marker": {
          "color": "rgb(17, 165, 121)",
          "opacity": 0.5,
          "size": [
           2000,
           2000,
           1000,
           2000,
           2000,
           2000,
           2000,
           2000,
           1000,
           1000,
           2000,
           2000,
           2000,
           2000,
           2000,
           2000,
           2000,
           1000,
           2000,
           2000,
           1000,
           2000,
           2000,
           2000,
           2000,
           2000
          ],
          "sizemode": "area",
          "sizeref": 27.77777777777778,
          "symbol": "circle"
         },
         "mode": "markers",
         "name": "Toyota",
         "orientation": "v",
         "showlegend": true,
         "type": "scatter",
         "x": [
          2372,
          2228,
          1773,
          2278,
          2506,
          2100,
          2279,
          2807,
          1836,
          1649,
          2171,
          2702,
          2155,
          2930,
          2265,
          2560,
          2515,
          1968,
          2711,
          2265,
          1755,
          2050,
          2350,
          2900,
          2245,
          2665
         ],
         "xaxis": "x",
         "y": [
          24,
          25,
          31,
          24,
          23,
          27,
          20,
          20,
          32,
          31,
          29,
          24,
          28,
          19,
          26,
          27.5,
          21.1,
          38.1,
          29.8,
          32.2,
          39.1,
          37.7,
          32.4,
          25.4,
          34,
          32
         ],
         "yaxis": "y"
        },
        {
         "customdata": [
          [
           2000,
           4,
           121,
           113,
           12.5,
           1970
          ],
          [
           2000,
           4,
           121,
           110,
           12.8,
           1977
          ]
         ],
         "hovertemplate": "<b>%{hovertext}</b><br><br>Manufacturer=Bmw<br>Weight=%{x}<br>MPG=%{y}<br>Cylinders=%{customdata[1]}<br>Displacement=%{customdata[2]}<br>Horsepower=%{customdata[3]}<br>Acceleration=%{customdata[4]}<br>ModelYear=%{customdata[5]}<extra></extra>",
         "hovertext": [
          "2002",
          "320I"
         ],
         "legendgroup": "Bmw",
         "marker": {
          "color": "rgb(57, 105, 172)",
          "opacity": 0.5,
          "size": [
           2000,
           2000
          ],
          "sizemode": "area",
          "sizeref": 27.77777777777778,
          "symbol": "circle"
         },
         "mode": "markers",
         "name": "Bmw",
         "orientation": "v",
         "showlegend": true,
         "type": "scatter",
         "x": [
          2234,
          2600
         ],
         "xaxis": "x",
         "y": [
          26,
          21.5
         ],
         "yaxis": "y"
        },
        {
         "customdata": [
          [
           2000,
           4,
           120,
           97,
           15,
           1974
          ],
          [
           1000,
           4,
           91,
           53,
           17.5,
           1975
          ],
          [
           1000,
           4,
           91,
           53,
           17.4,
           1976
          ],
          [
           2000,
           4,
           98,
           68,
           18.5,
           1977
          ],
          [
           1000,
           4,
           91,
           60,
           16.4,
           1978
          ],
          [
           2000,
           4,
           98,
           68,
           16.6,
           1978
          ],
          [
           1000,
           4,
           91,
           67,
           13.8,
           1980
          ],
          [
           2000,
           4,
           107,
           72,
           17,
           1980
          ],
          [
           1000,
           4,
           81,
           60,
           16.1,
           1981
          ],
          [
           2000,
           4,
           107,
           75,
           14.4,
           1981
          ],
          [
           2000,
           4,
           107,
           75,
           14.5,
           1982
          ],
          [
           1000,
           4,
           91,
           67,
           15,
           1982
          ],
          [
           1000,
           4,
           91,
           67,
           15.7,
           1982
          ]
         ],
         "hovertemplate": "<b>%{hovertext}</b><br><br>Manufacturer=Honda<br>Weight=%{x}<br>MPG=%{y}<br>Cylinders=%{customdata[1]}<br>Displacement=%{customdata[2]}<br>Horsepower=%{customdata[3]}<br>Acceleration=%{customdata[4]}<br>ModelYear=%{customdata[5]}<extra></extra>",
         "hovertext": [
          "Civic",
          "Civic Cvcc",
          "Civic",
          "Accord Cvcc",
          "Civic Cvcc",
          "Accord Lx",
          "Civic 1500 Gl",
          "Accord",
          "Civic 1300",
          "Prelude",
          "Accord",
          "Civic",
          "Civic (Auto)"
         ],
         "legendgroup": "Honda",
         "marker": {
          "color": "rgb(242, 183, 1)",
          "opacity": 0.5,
          "size": [
           2000,
           1000,
           1000,
           2000,
           1000,
           2000,
           1000,
           2000,
           1000,
           2000,
           2000,
           1000,
           1000
          ],
          "sizemode": "area",
          "sizeref": 27.77777777777778,
          "symbol": "circle"
         },
         "mode": "markers",
         "name": "Honda",
         "orientation": "v",
         "showlegend": true,
         "type": "scatter",
         "x": [
          2489,
          1795,
          1795,
          2045,
          1800,
          2135,
          1850,
          2290,
          1760,
          2210,
          2205,
          1965,
          1965
         ],
         "xaxis": "x",
         "y": [
          24,
          33,
          33,
          31.5,
          36.1,
          29.5,
          44.6,
          32.4,
          35.1,
          33.7,
          36,
          38,
          32
         ],
         "yaxis": "y"
        },
        {
         "customdata": [
          [
           3000,
           6,
           168,
           120,
           16.7,
           1976
          ],
          [
           3000,
           5,
           183,
           77,
           20.1,
           1979
          ],
          [
           3000,
           4,
           146,
           67,
           21.8,
           1980
          ]
         ],
         "hovertemplate": "<b>%{hovertext}</b><br><br>Manufacturer=Mercedes<br>Weight=%{x}<br>MPG=%{y}<br>Cylinders=%{customdata[1]}<br>Displacement=%{customdata[2]}<br>Horsepower=%{customdata[3]}<br>Acceleration=%{customdata[4]}<br>ModelYear=%{customdata[5]}<extra></extra>",
         "hovertext": [
          "280S",
          "300D",
          "240D"
         ],
         "legendgroup": "Mercedes",
         "marker": {
          "color": "rgb(231, 63, 116)",
          "opacity": 0.5,
          "size": [
           3000,
           3000,
           3000
          ],
          "sizemode": "area",
          "sizeref": 27.77777777777778,
          "symbol": "circle"
         },
         "mode": "markers",
         "name": "Mercedes",
         "orientation": "v",
         "showlegend": true,
         "type": "scatter",
         "x": [
          3820,
          3530,
          3250
         ],
         "xaxis": "x",
         "y": [
          16.5,
          25.4,
          30
         ],
         "yaxis": "y"
        }
       ],
       "layout": {
        "hoverdistance": 1,
        "legend": {
         "font": {
          "color": "gray"
         },
         "itemclick": "toggle",
         "itemsizing": "constant",
         "title": {
          "font": {
           "color": "gray"
          },
          "text": "Manufacturer"
         },
         "tracegroupgap": 0
        },
        "margin": {
         "t": 60
        },
        "template": {
         "data": {
          "bar": [
           {
            "error_x": {
             "color": "#f2f5fa"
            },
            "error_y": {
             "color": "#f2f5fa"
            },
            "marker": {
             "line": {
              "color": "rgb(17,17,17)",
              "width": 0.5
             }
            },
            "type": "bar"
           }
          ],
          "barpolar": [
           {
            "marker": {
             "line": {
              "color": "rgb(17,17,17)",
              "width": 0.5
             }
            },
            "type": "barpolar"
           }
          ],
          "carpet": [
           {
            "aaxis": {
             "endlinecolor": "#A2B1C6",
             "gridcolor": "#506784",
             "linecolor": "#506784",
             "minorgridcolor": "#506784",
             "startlinecolor": "#A2B1C6"
            },
            "baxis": {
             "endlinecolor": "#A2B1C6",
             "gridcolor": "#506784",
             "linecolor": "#506784",
             "minorgridcolor": "#506784",
             "startlinecolor": "#A2B1C6"
            },
            "type": "carpet"
           }
          ],
          "choropleth": [
           {
            "colorbar": {
             "outlinewidth": 0,
             "ticks": ""
            },
            "type": "choropleth"
           }
          ],
          "contour": [
           {
            "colorbar": {
             "outlinewidth": 0,
             "ticks": ""
            },
            "colorscale": [
             [
              0,
              "#0d0887"
             ],
             [
              0.1111111111111111,
              "#46039f"
             ],
             [
              0.2222222222222222,
              "#7201a8"
             ],
             [
              0.3333333333333333,
              "#9c179e"
             ],
             [
              0.4444444444444444,
              "#bd3786"
             ],
             [
              0.5555555555555556,
              "#d8576b"
             ],
             [
              0.6666666666666666,
              "#ed7953"
             ],
             [
              0.7777777777777778,
              "#fb9f3a"
             ],
             [
              0.8888888888888888,
              "#fdca26"
             ],
             [
              1,
              "#f0f921"
             ]
            ],
            "type": "contour"
           }
          ],
          "contourcarpet": [
           {
            "colorbar": {
             "outlinewidth": 0,
             "ticks": ""
            },
            "type": "contourcarpet"
           }
          ],
          "heatmap": [
           {
            "colorbar": {
             "outlinewidth": 0,
             "ticks": ""
            },
            "colorscale": [
             [
              0,
              "#0d0887"
             ],
             [
              0.1111111111111111,
              "#46039f"
             ],
             [
              0.2222222222222222,
              "#7201a8"
             ],
             [
              0.3333333333333333,
              "#9c179e"
             ],
             [
              0.4444444444444444,
              "#bd3786"
             ],
             [
              0.5555555555555556,
              "#d8576b"
             ],
             [
              0.6666666666666666,
              "#ed7953"
             ],
             [
              0.7777777777777778,
              "#fb9f3a"
             ],
             [
              0.8888888888888888,
              "#fdca26"
             ],
             [
              1,
              "#f0f921"
             ]
            ],
            "type": "heatmap"
           }
          ],
          "heatmapgl": [
           {
            "colorbar": {
             "outlinewidth": 0,
             "ticks": ""
            },
            "colorscale": [
             [
              0,
              "#0d0887"
             ],
             [
              0.1111111111111111,
              "#46039f"
             ],
             [
              0.2222222222222222,
              "#7201a8"
             ],
             [
              0.3333333333333333,
              "#9c179e"
             ],
             [
              0.4444444444444444,
              "#bd3786"
             ],
             [
              0.5555555555555556,
              "#d8576b"
             ],
             [
              0.6666666666666666,
              "#ed7953"
             ],
             [
              0.7777777777777778,
              "#fb9f3a"
             ],
             [
              0.8888888888888888,
              "#fdca26"
             ],
             [
              1,
              "#f0f921"
             ]
            ],
            "type": "heatmapgl"
           }
          ],
          "histogram": [
           {
            "marker": {
             "colorbar": {
              "outlinewidth": 0,
              "ticks": ""
             }
            },
            "type": "histogram"
           }
          ],
          "histogram2d": [
           {
            "colorbar": {
             "outlinewidth": 0,
             "ticks": ""
            },
            "colorscale": [
             [
              0,
              "#0d0887"
             ],
             [
              0.1111111111111111,
              "#46039f"
             ],
             [
              0.2222222222222222,
              "#7201a8"
             ],
             [
              0.3333333333333333,
              "#9c179e"
             ],
             [
              0.4444444444444444,
              "#bd3786"
             ],
             [
              0.5555555555555556,
              "#d8576b"
             ],
             [
              0.6666666666666666,
              "#ed7953"
             ],
             [
              0.7777777777777778,
              "#fb9f3a"
             ],
             [
              0.8888888888888888,
              "#fdca26"
             ],
             [
              1,
              "#f0f921"
             ]
            ],
            "type": "histogram2d"
           }
          ],
          "histogram2dcontour": [
           {
            "colorbar": {
             "outlinewidth": 0,
             "ticks": ""
            },
            "colorscale": [
             [
              0,
              "#0d0887"
             ],
             [
              0.1111111111111111,
              "#46039f"
             ],
             [
              0.2222222222222222,
              "#7201a8"
             ],
             [
              0.3333333333333333,
              "#9c179e"
             ],
             [
              0.4444444444444444,
              "#bd3786"
             ],
             [
              0.5555555555555556,
              "#d8576b"
             ],
             [
              0.6666666666666666,
              "#ed7953"
             ],
             [
              0.7777777777777778,
              "#fb9f3a"
             ],
             [
              0.8888888888888888,
              "#fdca26"
             ],
             [
              1,
              "#f0f921"
             ]
            ],
            "type": "histogram2dcontour"
           }
          ],
          "mesh3d": [
           {
            "colorbar": {
             "outlinewidth": 0,
             "ticks": ""
            },
            "type": "mesh3d"
           }
          ],
          "parcoords": [
           {
            "line": {
             "colorbar": {
              "outlinewidth": 0,
              "ticks": ""
             }
            },
            "type": "parcoords"
           }
          ],
          "pie": [
           {
            "automargin": true,
            "type": "pie"
           }
          ],
          "scatter": [
           {
            "marker": {
             "line": {
              "color": "#283442"
             }
            },
            "type": "scatter"
           }
          ],
          "scatter3d": [
           {
            "line": {
             "colorbar": {
              "outlinewidth": 0,
              "ticks": ""
             }
            },
            "marker": {
             "colorbar": {
              "outlinewidth": 0,
              "ticks": ""
             }
            },
            "type": "scatter3d"
           }
          ],
          "scattercarpet": [
           {
            "marker": {
             "colorbar": {
              "outlinewidth": 0,
              "ticks": ""
             }
            },
            "type": "scattercarpet"
           }
          ],
          "scattergeo": [
           {
            "marker": {
             "colorbar": {
              "outlinewidth": 0,
              "ticks": ""
             }
            },
            "type": "scattergeo"
           }
          ],
          "scattergl": [
           {
            "marker": {
             "line": {
              "color": "#283442"
             }
            },
            "type": "scattergl"
           }
          ],
          "scattermapbox": [
           {
            "marker": {
             "colorbar": {
              "outlinewidth": 0,
              "ticks": ""
             }
            },
            "type": "scattermapbox"
           }
          ],
          "scatterpolar": [
           {
            "marker": {
             "colorbar": {
              "outlinewidth": 0,
              "ticks": ""
             }
            },
            "type": "scatterpolar"
           }
          ],
          "scatterpolargl": [
           {
            "marker": {
             "colorbar": {
              "outlinewidth": 0,
              "ticks": ""
             }
            },
            "type": "scatterpolargl"
           }
          ],
          "scatterternary": [
           {
            "marker": {
             "colorbar": {
              "outlinewidth": 0,
              "ticks": ""
             }
            },
            "type": "scatterternary"
           }
          ],
          "surface": [
           {
            "colorbar": {
             "outlinewidth": 0,
             "ticks": ""
            },
            "colorscale": [
             [
              0,
              "#0d0887"
             ],
             [
              0.1111111111111111,
              "#46039f"
             ],
             [
              0.2222222222222222,
              "#7201a8"
             ],
             [
              0.3333333333333333,
              "#9c179e"
             ],
             [
              0.4444444444444444,
              "#bd3786"
             ],
             [
              0.5555555555555556,
              "#d8576b"
             ],
             [
              0.6666666666666666,
              "#ed7953"
             ],
             [
              0.7777777777777778,
              "#fb9f3a"
             ],
             [
              0.8888888888888888,
              "#fdca26"
             ],
             [
              1,
              "#f0f921"
             ]
            ],
            "type": "surface"
           }
          ],
          "table": [
           {
            "cells": {
             "fill": {
              "color": "#506784"
             },
             "line": {
              "color": "rgb(17,17,17)"
             }
            },
            "header": {
             "fill": {
              "color": "#2a3f5f"
             },
             "line": {
              "color": "rgb(17,17,17)"
             }
            },
            "type": "table"
           }
          ]
         },
         "layout": {
          "annotationdefaults": {
           "arrowcolor": "#f2f5fa",
           "arrowhead": 0,
           "arrowwidth": 1
          },
          "autotypenumbers": "strict",
          "coloraxis": {
           "colorbar": {
            "outlinewidth": 0,
            "ticks": ""
           }
          },
          "colorscale": {
           "diverging": [
            [
             0,
             "#8e0152"
            ],
            [
             0.1,
             "#c51b7d"
            ],
            [
             0.2,
             "#de77ae"
            ],
            [
             0.3,
             "#f1b6da"
            ],
            [
             0.4,
             "#fde0ef"
            ],
            [
             0.5,
             "#f7f7f7"
            ],
            [
             0.6,
             "#e6f5d0"
            ],
            [
             0.7,
             "#b8e186"
            ],
            [
             0.8,
             "#7fbc41"
            ],
            [
             0.9,
             "#4d9221"
            ],
            [
             1,
             "#276419"
            ]
           ],
           "sequential": [
            [
             0,
             "#0d0887"
            ],
            [
             0.1111111111111111,
             "#46039f"
            ],
            [
             0.2222222222222222,
             "#7201a8"
            ],
            [
             0.3333333333333333,
             "#9c179e"
            ],
            [
             0.4444444444444444,
             "#bd3786"
            ],
            [
             0.5555555555555556,
             "#d8576b"
            ],
            [
             0.6666666666666666,
             "#ed7953"
            ],
            [
             0.7777777777777778,
             "#fb9f3a"
            ],
            [
             0.8888888888888888,
             "#fdca26"
            ],
            [
             1,
             "#f0f921"
            ]
           ],
           "sequentialminus": [
            [
             0,
             "#0d0887"
            ],
            [
             0.1111111111111111,
             "#46039f"
            ],
            [
             0.2222222222222222,
             "#7201a8"
            ],
            [
             0.3333333333333333,
             "#9c179e"
            ],
            [
             0.4444444444444444,
             "#bd3786"
            ],
            [
             0.5555555555555556,
             "#d8576b"
            ],
            [
             0.6666666666666666,
             "#ed7953"
            ],
            [
             0.7777777777777778,
             "#fb9f3a"
            ],
            [
             0.8888888888888888,
             "#fdca26"
            ],
            [
             1,
             "#f0f921"
            ]
           ]
          },
          "colorway": [
           "#636efa",
           "#EF553B",
           "#00cc96",
           "#ab63fa",
           "#FFA15A",
           "#19d3f3",
           "#FF6692",
           "#B6E880",
           "#FF97FF",
           "#FECB52"
          ],
          "font": {
           "color": "#f2f5fa"
          },
          "geo": {
           "bgcolor": "rgb(17,17,17)",
           "lakecolor": "rgb(17,17,17)",
           "landcolor": "rgb(17,17,17)",
           "showlakes": true,
           "showland": true,
           "subunitcolor": "#506784"
          },
          "hoverlabel": {
           "align": "left"
          },
          "hovermode": "closest",
          "mapbox": {
           "style": "dark"
          },
          "paper_bgcolor": "rgb(17,17,17)",
          "plot_bgcolor": "rgb(17,17,17)",
          "polar": {
           "angularaxis": {
            "gridcolor": "#506784",
            "linecolor": "#506784",
            "ticks": ""
           },
           "bgcolor": "rgb(17,17,17)",
           "radialaxis": {
            "gridcolor": "#506784",
            "linecolor": "#506784",
            "ticks": ""
           }
          },
          "scene": {
           "xaxis": {
            "backgroundcolor": "rgb(17,17,17)",
            "gridcolor": "#506784",
            "gridwidth": 2,
            "linecolor": "#506784",
            "showbackground": true,
            "ticks": "",
            "zerolinecolor": "#C8D4E3"
           },
           "yaxis": {
            "backgroundcolor": "rgb(17,17,17)",
            "gridcolor": "#506784",
            "gridwidth": 2,
            "linecolor": "#506784",
            "showbackground": true,
            "ticks": "",
            "zerolinecolor": "#C8D4E3"
           },
           "zaxis": {
            "backgroundcolor": "rgb(17,17,17)",
            "gridcolor": "#506784",
            "gridwidth": 2,
            "linecolor": "#506784",
            "showbackground": true,
            "ticks": "",
            "zerolinecolor": "#C8D4E3"
           }
          },
          "shapedefaults": {
           "line": {
            "color": "#f2f5fa"
           }
          },
          "sliderdefaults": {
           "bgcolor": "#C8D4E3",
           "bordercolor": "rgb(17,17,17)",
           "borderwidth": 1,
           "tickwidth": 0
          },
          "ternary": {
           "aaxis": {
            "gridcolor": "#506784",
            "linecolor": "#506784",
            "ticks": ""
           },
           "baxis": {
            "gridcolor": "#506784",
            "linecolor": "#506784",
            "ticks": ""
           },
           "bgcolor": "rgb(17,17,17)",
           "caxis": {
            "gridcolor": "#506784",
            "linecolor": "#506784",
            "ticks": ""
           }
          },
          "title": {
           "x": 0.05
          },
          "updatemenudefaults": {
           "bgcolor": "#506784",
           "borderwidth": 0
          },
          "xaxis": {
           "automargin": true,
           "gridcolor": "#283442",
           "linecolor": "#506784",
           "ticks": "",
           "title": {
            "standoff": 15
           },
           "zerolinecolor": "#283442",
           "zerolinewidth": 2
          },
          "yaxis": {
           "automargin": true,
           "gridcolor": "#283442",
           "linecolor": "#506784",
           "ticks": "",
           "title": {
            "standoff": 15
           },
           "zerolinecolor": "#283442",
           "zerolinewidth": 2
          }
         }
        },
        "title": {
         "font": {
          "color": "gray"
         },
         "text": "Weight vs MPG"
        },
        "xaxis": {
         "anchor": "y",
         "domain": [
          0,
          1
         ],
         "linecolor": "gray",
         "range": [
          1500,
          5250
         ],
         "showgrid": false,
         "showspikes": true,
         "spikedash": "solid",
         "spikesnap": "cursor",
         "spikethickness": 1,
         "tickcolor": "gray",
         "tickfont": {
          "color": "gray"
         },
         "title": {
          "font": {
           "color": "gray"
          },
          "text": "Weight"
         }
        },
        "yaxis": {
         "anchor": "x",
         "domain": [
          0,
          1
         ],
         "linecolor": "gray",
         "range": [
          5,
          50
         ],
         "showgrid": false,
         "showspikes": true,
         "spikedash": "solid",
         "spikesnap": "cursor",
         "spikethickness": 1,
         "tickcolor": "gray",
         "tickfont": {
          "color": "gray"
         },
         "title": {
          "font": {
           "color": "gray"
          },
          "text": "MPG"
         }
        }
       }
      }
     },
     "metadata": {}
    }
   ],
   "source": [
    "fig = px.scatter(\n",
    "    df,\n",
    "    x=\"Weight\", \n",
    "    y=\"MPG\",\n",
    "    opacity=0.5,\n",
    "    size=\"WeightCategory\",\n",
    "    size_max=12,\n",
    "    color=\"Manufacturer\",\n",
    "    hover_name=\"Car\", \n",
    "    hover_data={\n",
    "        'WeightCategory':False,\n",
    "        'Cylinders':True,\n",
    "        'Displacement':True,\n",
    "        'Horsepower':True,\n",
    "        'Acceleration':True,\n",
    "        'ModelYear':True\n",
    "    },\n",
    "    template = \"plotly_dark\",\n",
    "    color_discrete_sequence=px.colors.qualitative.Bold\n",
    "    # config_displayModeBar=False\n",
    ")\n",
    "fig.update_layout(\n",
    "    title=dict(\n",
    "        text='Weight vs MPG',\n",
    "        font=dict(color='gray')\n",
    "    ),\n",
    "    legend=dict(\n",
    "        itemclick=\"toggle\",\n",
    "        title_font_color='gray',\n",
    "        font_color='gray'\n",
    "    ),\n",
    "    hoverdistance=1 #hover disappears when you move away from the point\n",
    ")\n",
    "fig.update_xaxes(\n",
    "    showspikes=True, \n",
    "    spikethickness=1,\n",
    "    spikedash=\"solid\",\n",
    "    spikesnap=\"cursor\",\n",
    "    linecolor=\"gray\",\n",
    "    tickcolor='gray',\n",
    "    tickfont_color='gray',\n",
    "    title_font_color='gray',\n",
    "    range=[1500, 5250],\n",
    "    showgrid=False\n",
    ")\n",
    "fig.update_yaxes(\n",
    "    showspikes=True, \n",
    "    spikethickness=1,\n",
    "    spikedash=\"solid\",\n",
    "    spikesnap=\"cursor\",\n",
    "    linecolor=\"gray\",\n",
    "    tickcolor='gray',\n",
    "    tickfont_color='gray',\n",
    "    title_font_color='gray',\n",
    "    range=[5, 50],\n",
    "    showgrid=False\n",
    ")\n",
    "fig.show()"
   ]
  },
  {
   "cell_type": "markdown",
   "metadata": {},
   "source": [
    "# Seaborn"
   ]
  },
  {
   "source": [
    "Sources\n",
    "- https://seaborn.pydata.org/tutorial/relational.html#relating-variables-with-scatter-plots"
   ],
   "cell_type": "markdown",
   "metadata": {}
  },
  {
   "cell_type": "code",
   "execution_count": 125,
   "metadata": {},
   "outputs": [],
   "source": [
    "import pandas as pd\n",
    "import seaborn as sns"
   ]
  },
  {
   "cell_type": "code",
   "execution_count": 126,
   "metadata": {},
   "outputs": [
    {
     "output_type": "display_data",
     "data": {
      "text/plain": "<Figure size 463.35x360 with 1 Axes>",
      "image/svg+xml": "<?xml version=\"1.0\" encoding=\"utf-8\" standalone=\"no\"?>\n<!DOCTYPE svg PUBLIC \"-//W3C//DTD SVG 1.1//EN\"\n  \"http://www.w3.org/Graphics/SVG/1.1/DTD/svg11.dtd\">\n<!-- Created with matplotlib (https://matplotlib.org/) -->\n<svg height=\"363.654844pt\" version=\"1.1\" viewBox=\"0 0 464.283775 363.654844\" width=\"464.283775pt\" xmlns=\"http://www.w3.org/2000/svg\" xmlns:xlink=\"http://www.w3.org/1999/xlink\">\n <metadata>\n  <rdf:RDF xmlns:cc=\"http://creativecommons.org/ns#\" xmlns:dc=\"http://purl.org/dc/elements/1.1/\" xmlns:rdf=\"http://www.w3.org/1999/02/22-rdf-syntax-ns#\">\n   <cc:Work>\n    <dc:type rdf:resource=\"http://purl.org/dc/dcmitype/StillImage\"/>\n    <dc:date>2021-02-25T20:02:54.549294</dc:date>\n    <dc:format>image/svg+xml</dc:format>\n    <dc:creator>\n     <cc:Agent>\n      <dc:title>Matplotlib v3.3.2, https://matplotlib.org/</dc:title>\n     </cc:Agent>\n    </dc:creator>\n   </cc:Work>\n  </rdf:RDF>\n </metadata>\n <defs>\n  <style type=\"text/css\">*{stroke-linecap:butt;stroke-linejoin:round;}</style>\n </defs>\n <g id=\"figure_1\">\n  <g id=\"patch_1\">\n   <path d=\"M 0 363.654844 \nL 464.283775 363.654844 \nL 464.283775 0 \nL 0 0 \nz\n\" style=\"fill:#ffffff;\"/>\n  </g>\n  <g id=\"axes_1\">\n   <g id=\"patch_2\">\n    <path d=\"M 43.908437 321.78 \nL 354.600275 321.78 \nL 354.600275 7.2 \nL 43.908437 7.2 \nz\n\" style=\"fill:#eaeaf2;\"/>\n   </g>\n   <g id=\"matplotlib.axis_1\">\n    <g id=\"xtick_1\">\n     <g id=\"text_1\">\n      <!-- 1500 -->\n      <g style=\"fill:#262626;\" transform=\"translate(32.875447 339.153594)scale(0.11 -0.11)\">\n       <defs>\n        <path d=\"M 37.25 0 \nL 28.46875 0 \nL 28.46875 56 \nQ 25.296875 52.984375 20.140625 49.953125 \nQ 14.984375 46.921875 10.890625 45.40625 \nL 10.890625 53.90625 \nQ 18.265625 57.375 23.78125 62.296875 \nQ 29.296875 67.234375 31.59375 71.875 \nL 37.25 71.875 \nz\n\" id=\"ArialMT-49\"/>\n        <path d=\"M 4.15625 18.75 \nL 13.375 19.53125 \nQ 14.40625 12.796875 18.140625 9.390625 \nQ 21.875 6 27.15625 6 \nQ 33.5 6 37.890625 10.78125 \nQ 42.28125 15.578125 42.28125 23.484375 \nQ 42.28125 31 38.0625 35.34375 \nQ 33.84375 39.703125 27 39.703125 \nQ 22.75 39.703125 19.328125 37.765625 \nQ 15.921875 35.84375 13.96875 32.765625 \nL 5.71875 33.84375 \nL 12.640625 70.609375 \nL 48.25 70.609375 \nL 48.25 62.203125 \nL 19.671875 62.203125 \nL 15.828125 42.96875 \nQ 22.265625 47.46875 29.34375 47.46875 \nQ 38.71875 47.46875 45.15625 40.96875 \nQ 51.609375 34.46875 51.609375 24.265625 \nQ 51.609375 14.546875 45.953125 7.46875 \nQ 39.0625 -1.21875 27.15625 -1.21875 \nQ 17.390625 -1.21875 11.203125 4.25 \nQ 5.03125 9.71875 4.15625 18.75 \nz\n\" id=\"ArialMT-53\"/>\n        <path d=\"M 4.15625 35.296875 \nQ 4.15625 48 6.765625 55.734375 \nQ 9.375 63.484375 14.515625 67.671875 \nQ 19.671875 71.875 27.484375 71.875 \nQ 33.25 71.875 37.59375 69.546875 \nQ 41.9375 67.234375 44.765625 62.859375 \nQ 47.609375 58.5 49.21875 52.21875 \nQ 50.828125 45.953125 50.828125 35.296875 \nQ 50.828125 22.703125 48.234375 14.96875 \nQ 45.65625 7.234375 40.5 3 \nQ 35.359375 -1.21875 27.484375 -1.21875 \nQ 17.140625 -1.21875 11.234375 6.203125 \nQ 4.15625 15.140625 4.15625 35.296875 \nz\nM 13.1875 35.296875 \nQ 13.1875 17.671875 17.3125 11.828125 \nQ 21.4375 6 27.484375 6 \nQ 33.546875 6 37.671875 11.859375 \nQ 41.796875 17.71875 41.796875 35.296875 \nQ 41.796875 52.984375 37.671875 58.78125 \nQ 33.546875 64.59375 27.390625 64.59375 \nQ 21.34375 64.59375 17.71875 59.46875 \nQ 13.1875 52.9375 13.1875 35.296875 \nz\n\" id=\"ArialMT-48\"/>\n       </defs>\n       <use xlink:href=\"#ArialMT-49\"/>\n       <use x=\"55.615234\" xlink:href=\"#ArialMT-53\"/>\n       <use x=\"111.230469\" xlink:href=\"#ArialMT-48\"/>\n       <use x=\"166.845703\" xlink:href=\"#ArialMT-48\"/>\n      </g>\n     </g>\n    </g>\n    <g id=\"xtick_2\">\n     <g id=\"text_2\">\n      <!-- 2000 -->\n      <g style=\"fill:#262626;\" transform=\"translate(76.23546 339.153594)scale(0.11 -0.11)\">\n       <defs>\n        <path d=\"M 50.34375 8.453125 \nL 50.34375 0 \nL 3.03125 0 \nQ 2.9375 3.171875 4.046875 6.109375 \nQ 5.859375 10.9375 9.828125 15.625 \nQ 13.8125 20.3125 21.34375 26.46875 \nQ 33.015625 36.03125 37.109375 41.625 \nQ 41.21875 47.21875 41.21875 52.203125 \nQ 41.21875 57.421875 37.46875 61 \nQ 33.734375 64.59375 27.734375 64.59375 \nQ 21.390625 64.59375 17.578125 60.78125 \nQ 13.765625 56.984375 13.71875 50.25 \nL 4.6875 51.171875 \nQ 5.609375 61.28125 11.65625 66.578125 \nQ 17.71875 71.875 27.9375 71.875 \nQ 38.234375 71.875 44.234375 66.15625 \nQ 50.25 60.453125 50.25 52 \nQ 50.25 47.703125 48.484375 43.546875 \nQ 46.734375 39.40625 42.65625 34.8125 \nQ 38.578125 30.21875 29.109375 22.21875 \nQ 21.1875 15.578125 18.9375 13.203125 \nQ 16.703125 10.84375 15.234375 8.453125 \nz\n\" id=\"ArialMT-50\"/>\n       </defs>\n       <use xlink:href=\"#ArialMT-50\"/>\n       <use x=\"55.615234\" xlink:href=\"#ArialMT-48\"/>\n       <use x=\"111.230469\" xlink:href=\"#ArialMT-48\"/>\n       <use x=\"166.845703\" xlink:href=\"#ArialMT-48\"/>\n      </g>\n     </g>\n    </g>\n    <g id=\"xtick_3\">\n     <g id=\"text_3\">\n      <!-- 2500 -->\n      <g style=\"fill:#262626;\" transform=\"translate(119.595473 339.153594)scale(0.11 -0.11)\">\n       <use xlink:href=\"#ArialMT-50\"/>\n       <use x=\"55.615234\" xlink:href=\"#ArialMT-53\"/>\n       <use x=\"111.230469\" xlink:href=\"#ArialMT-48\"/>\n       <use x=\"166.845703\" xlink:href=\"#ArialMT-48\"/>\n      </g>\n     </g>\n    </g>\n    <g id=\"xtick_4\">\n     <g id=\"text_4\">\n      <!-- 3000 -->\n      <g style=\"fill:#262626;\" transform=\"translate(162.955487 339.153594)scale(0.11 -0.11)\">\n       <defs>\n        <path d=\"M 4.203125 18.890625 \nL 12.984375 20.0625 \nQ 14.5 12.59375 18.140625 9.296875 \nQ 21.78125 6 27 6 \nQ 33.203125 6 37.46875 10.296875 \nQ 41.75 14.59375 41.75 20.953125 \nQ 41.75 27 37.796875 30.921875 \nQ 33.84375 34.859375 27.734375 34.859375 \nQ 25.25 34.859375 21.53125 33.890625 \nL 22.515625 41.609375 \nQ 23.390625 41.5 23.921875 41.5 \nQ 29.546875 41.5 34.03125 44.421875 \nQ 38.53125 47.359375 38.53125 53.46875 \nQ 38.53125 58.296875 35.25 61.46875 \nQ 31.984375 64.65625 26.8125 64.65625 \nQ 21.6875 64.65625 18.265625 61.421875 \nQ 14.84375 58.203125 13.875 51.765625 \nL 5.078125 53.328125 \nQ 6.6875 62.15625 12.390625 67.015625 \nQ 18.109375 71.875 26.609375 71.875 \nQ 32.46875 71.875 37.390625 69.359375 \nQ 42.328125 66.84375 44.9375 62.5 \nQ 47.5625 58.15625 47.5625 53.265625 \nQ 47.5625 48.640625 45.0625 44.828125 \nQ 42.578125 41.015625 37.703125 38.765625 \nQ 44.046875 37.3125 47.5625 32.6875 \nQ 51.078125 28.078125 51.078125 21.140625 \nQ 51.078125 11.765625 44.234375 5.25 \nQ 37.40625 -1.265625 26.953125 -1.265625 \nQ 17.53125 -1.265625 11.296875 4.34375 \nQ 5.078125 9.96875 4.203125 18.890625 \nz\n\" id=\"ArialMT-51\"/>\n       </defs>\n       <use xlink:href=\"#ArialMT-51\"/>\n       <use x=\"55.615234\" xlink:href=\"#ArialMT-48\"/>\n       <use x=\"111.230469\" xlink:href=\"#ArialMT-48\"/>\n       <use x=\"166.845703\" xlink:href=\"#ArialMT-48\"/>\n      </g>\n     </g>\n    </g>\n    <g id=\"xtick_5\">\n     <g id=\"text_5\">\n      <!-- 3500 -->\n      <g style=\"fill:#262626;\" transform=\"translate(206.3155 339.153594)scale(0.11 -0.11)\">\n       <use xlink:href=\"#ArialMT-51\"/>\n       <use x=\"55.615234\" xlink:href=\"#ArialMT-53\"/>\n       <use x=\"111.230469\" xlink:href=\"#ArialMT-48\"/>\n       <use x=\"166.845703\" xlink:href=\"#ArialMT-48\"/>\n      </g>\n     </g>\n    </g>\n    <g id=\"xtick_6\">\n     <g id=\"text_6\">\n      <!-- 4000 -->\n      <g style=\"fill:#262626;\" transform=\"translate(249.675513 339.153594)scale(0.11 -0.11)\">\n       <defs>\n        <path d=\"M 32.328125 0 \nL 32.328125 17.140625 \nL 1.265625 17.140625 \nL 1.265625 25.203125 \nL 33.9375 71.578125 \nL 41.109375 71.578125 \nL 41.109375 25.203125 \nL 50.78125 25.203125 \nL 50.78125 17.140625 \nL 41.109375 17.140625 \nL 41.109375 0 \nz\nM 32.328125 25.203125 \nL 32.328125 57.46875 \nL 9.90625 25.203125 \nz\n\" id=\"ArialMT-52\"/>\n       </defs>\n       <use xlink:href=\"#ArialMT-52\"/>\n       <use x=\"55.615234\" xlink:href=\"#ArialMT-48\"/>\n       <use x=\"111.230469\" xlink:href=\"#ArialMT-48\"/>\n       <use x=\"166.845703\" xlink:href=\"#ArialMT-48\"/>\n      </g>\n     </g>\n    </g>\n    <g id=\"xtick_7\">\n     <g id=\"text_7\">\n      <!-- 4500 -->\n      <g style=\"fill:#262626;\" transform=\"translate(293.035526 339.153594)scale(0.11 -0.11)\">\n       <use xlink:href=\"#ArialMT-52\"/>\n       <use x=\"55.615234\" xlink:href=\"#ArialMT-53\"/>\n       <use x=\"111.230469\" xlink:href=\"#ArialMT-48\"/>\n       <use x=\"166.845703\" xlink:href=\"#ArialMT-48\"/>\n      </g>\n     </g>\n    </g>\n    <g id=\"xtick_8\">\n     <g id=\"text_8\">\n      <!-- 5000 -->\n      <g style=\"fill:#262626;\" transform=\"translate(336.395539 339.153594)scale(0.11 -0.11)\">\n       <use xlink:href=\"#ArialMT-53\"/>\n       <use x=\"55.615234\" xlink:href=\"#ArialMT-48\"/>\n       <use x=\"111.230469\" xlink:href=\"#ArialMT-48\"/>\n       <use x=\"166.845703\" xlink:href=\"#ArialMT-48\"/>\n      </g>\n     </g>\n    </g>\n    <g id=\"text_9\">\n     <!-- Weight -->\n     <g style=\"fill:#262626;\" transform=\"translate(180.686231 353.929219)scale(0.12 -0.12)\">\n      <defs>\n       <path d=\"M 20.21875 0 \nL 1.21875 71.578125 \nL 10.9375 71.578125 \nL 21.828125 24.65625 \nQ 23.578125 17.28125 24.859375 10.015625 \nQ 27.59375 21.484375 28.078125 23.25 \nL 41.703125 71.578125 \nL 53.125 71.578125 \nL 63.375 35.359375 \nQ 67.234375 21.875 68.953125 10.015625 \nQ 70.3125 16.796875 72.515625 25.59375 \nL 83.734375 71.578125 \nL 93.265625 71.578125 \nL 73.640625 0 \nL 64.5 0 \nL 49.421875 54.546875 \nQ 47.515625 61.375 47.171875 62.9375 \nQ 46.046875 58.015625 45.0625 54.546875 \nL 29.890625 0 \nz\n\" id=\"ArialMT-87\"/>\n       <path d=\"M 42.09375 16.703125 \nL 51.171875 15.578125 \nQ 49.03125 7.625 43.21875 3.21875 \nQ 37.40625 -1.171875 28.375 -1.171875 \nQ 17 -1.171875 10.328125 5.828125 \nQ 3.65625 12.84375 3.65625 25.484375 \nQ 3.65625 38.578125 10.390625 45.796875 \nQ 17.140625 53.03125 27.875 53.03125 \nQ 38.28125 53.03125 44.875 45.953125 \nQ 51.46875 38.875 51.46875 26.03125 \nQ 51.46875 25.25 51.421875 23.6875 \nL 12.75 23.6875 \nQ 13.234375 15.140625 17.578125 10.59375 \nQ 21.921875 6.0625 28.421875 6.0625 \nQ 33.25 6.0625 36.671875 8.59375 \nQ 40.09375 11.140625 42.09375 16.703125 \nz\nM 13.234375 30.90625 \nL 42.1875 30.90625 \nQ 41.609375 37.453125 38.875 40.71875 \nQ 34.671875 45.796875 27.984375 45.796875 \nQ 21.921875 45.796875 17.796875 41.75 \nQ 13.671875 37.703125 13.234375 30.90625 \nz\n\" id=\"ArialMT-101\"/>\n       <path d=\"M 6.640625 61.46875 \nL 6.640625 71.578125 \nL 15.4375 71.578125 \nL 15.4375 61.46875 \nz\nM 6.640625 0 \nL 6.640625 51.859375 \nL 15.4375 51.859375 \nL 15.4375 0 \nz\n\" id=\"ArialMT-105\"/>\n       <path d=\"M 4.984375 -4.296875 \nL 13.53125 -5.5625 \nQ 14.0625 -9.515625 16.5 -11.328125 \nQ 19.78125 -13.765625 25.4375 -13.765625 \nQ 31.546875 -13.765625 34.859375 -11.328125 \nQ 38.1875 -8.890625 39.359375 -4.5 \nQ 40.046875 -1.8125 39.984375 6.78125 \nQ 34.234375 0 25.640625 0 \nQ 14.9375 0 9.078125 7.71875 \nQ 3.21875 15.4375 3.21875 26.21875 \nQ 3.21875 33.640625 5.90625 39.90625 \nQ 8.59375 46.1875 13.6875 49.609375 \nQ 18.796875 53.03125 25.6875 53.03125 \nQ 34.859375 53.03125 40.828125 45.609375 \nL 40.828125 51.859375 \nL 48.921875 51.859375 \nL 48.921875 7.03125 \nQ 48.921875 -5.078125 46.453125 -10.125 \nQ 44 -15.1875 38.640625 -18.109375 \nQ 33.296875 -21.046875 25.484375 -21.046875 \nQ 16.21875 -21.046875 10.5 -16.875 \nQ 4.78125 -12.703125 4.984375 -4.296875 \nz\nM 12.25 26.859375 \nQ 12.25 16.65625 16.296875 11.96875 \nQ 20.359375 7.28125 26.46875 7.28125 \nQ 32.515625 7.28125 36.609375 11.9375 \nQ 40.71875 16.609375 40.71875 26.5625 \nQ 40.71875 36.078125 36.5 40.90625 \nQ 32.28125 45.75 26.3125 45.75 \nQ 20.453125 45.75 16.34375 40.984375 \nQ 12.25 36.234375 12.25 26.859375 \nz\n\" id=\"ArialMT-103\"/>\n       <path d=\"M 6.59375 0 \nL 6.59375 71.578125 \nL 15.375 71.578125 \nL 15.375 45.90625 \nQ 21.53125 53.03125 30.90625 53.03125 \nQ 36.671875 53.03125 40.921875 50.75 \nQ 45.171875 48.484375 47 44.484375 \nQ 48.828125 40.484375 48.828125 32.859375 \nL 48.828125 0 \nL 40.046875 0 \nL 40.046875 32.859375 \nQ 40.046875 39.453125 37.1875 42.453125 \nQ 34.328125 45.453125 29.109375 45.453125 \nQ 25.203125 45.453125 21.75 43.421875 \nQ 18.3125 41.40625 16.84375 37.9375 \nQ 15.375 34.46875 15.375 28.375 \nL 15.375 0 \nz\n\" id=\"ArialMT-104\"/>\n       <path d=\"M 25.78125 7.859375 \nL 27.046875 0.09375 \nQ 23.34375 -0.6875 20.40625 -0.6875 \nQ 15.625 -0.6875 12.984375 0.828125 \nQ 10.359375 2.34375 9.28125 4.8125 \nQ 8.203125 7.28125 8.203125 15.1875 \nL 8.203125 45.015625 \nL 1.765625 45.015625 \nL 1.765625 51.859375 \nL 8.203125 51.859375 \nL 8.203125 64.703125 \nL 16.9375 69.96875 \nL 16.9375 51.859375 \nL 25.78125 51.859375 \nL 25.78125 45.015625 \nL 16.9375 45.015625 \nL 16.9375 14.703125 \nQ 16.9375 10.9375 17.40625 9.859375 \nQ 17.875 8.796875 18.921875 8.15625 \nQ 19.96875 7.515625 21.921875 7.515625 \nQ 23.390625 7.515625 25.78125 7.859375 \nz\n\" id=\"ArialMT-116\"/>\n      </defs>\n      <use xlink:href=\"#ArialMT-87\"/>\n      <use x=\"92.634766\" xlink:href=\"#ArialMT-101\"/>\n      <use x=\"148.25\" xlink:href=\"#ArialMT-105\"/>\n      <use x=\"170.466797\" xlink:href=\"#ArialMT-103\"/>\n      <use x=\"226.082031\" xlink:href=\"#ArialMT-104\"/>\n      <use x=\"281.697266\" xlink:href=\"#ArialMT-116\"/>\n     </g>\n    </g>\n   </g>\n   <g id=\"matplotlib.axis_2\">\n    <g id=\"ytick_1\">\n     <g id=\"text_10\">\n      <!-- 10 -->\n      <g style=\"fill:#262626;\" transform=\"translate(22.174375 311.417706)scale(0.11 -0.11)\">\n       <use xlink:href=\"#ArialMT-49\"/>\n       <use x=\"55.615234\" xlink:href=\"#ArialMT-48\"/>\n      </g>\n     </g>\n    </g>\n    <g id=\"ytick_2\">\n     <g id=\"text_11\">\n      <!-- 15 -->\n      <g style=\"fill:#262626;\" transform=\"translate(22.174375 270.090854)scale(0.11 -0.11)\">\n       <use xlink:href=\"#ArialMT-49\"/>\n       <use x=\"55.615234\" xlink:href=\"#ArialMT-53\"/>\n      </g>\n     </g>\n    </g>\n    <g id=\"ytick_3\">\n     <g id=\"text_12\">\n      <!-- 20 -->\n      <g style=\"fill:#262626;\" transform=\"translate(22.174375 228.764001)scale(0.11 -0.11)\">\n       <use xlink:href=\"#ArialMT-50\"/>\n       <use x=\"55.615234\" xlink:href=\"#ArialMT-48\"/>\n      </g>\n     </g>\n    </g>\n    <g id=\"ytick_4\">\n     <g id=\"text_13\">\n      <!-- 25 -->\n      <g style=\"fill:#262626;\" transform=\"translate(22.174375 187.437149)scale(0.11 -0.11)\">\n       <use xlink:href=\"#ArialMT-50\"/>\n       <use x=\"55.615234\" xlink:href=\"#ArialMT-53\"/>\n      </g>\n     </g>\n    </g>\n    <g id=\"ytick_5\">\n     <g id=\"text_14\">\n      <!-- 30 -->\n      <g style=\"fill:#262626;\" transform=\"translate(22.174375 146.110297)scale(0.11 -0.11)\">\n       <use xlink:href=\"#ArialMT-51\"/>\n       <use x=\"55.615234\" xlink:href=\"#ArialMT-48\"/>\n      </g>\n     </g>\n    </g>\n    <g id=\"ytick_6\">\n     <g id=\"text_15\">\n      <!-- 35 -->\n      <g style=\"fill:#262626;\" transform=\"translate(22.174375 104.783444)scale(0.11 -0.11)\">\n       <use xlink:href=\"#ArialMT-51\"/>\n       <use x=\"55.615234\" xlink:href=\"#ArialMT-53\"/>\n      </g>\n     </g>\n    </g>\n    <g id=\"ytick_7\">\n     <g id=\"text_16\">\n      <!-- 40 -->\n      <g style=\"fill:#262626;\" transform=\"translate(22.174375 63.456592)scale(0.11 -0.11)\">\n       <use xlink:href=\"#ArialMT-52\"/>\n       <use x=\"55.615234\" xlink:href=\"#ArialMT-48\"/>\n      </g>\n     </g>\n    </g>\n    <g id=\"ytick_8\">\n     <g id=\"text_17\">\n      <!-- 45 -->\n      <g style=\"fill:#262626;\" transform=\"translate(22.174375 22.12974)scale(0.11 -0.11)\">\n       <use xlink:href=\"#ArialMT-52\"/>\n       <use x=\"55.615234\" xlink:href=\"#ArialMT-53\"/>\n      </g>\n     </g>\n    </g>\n    <g id=\"text_18\">\n     <!-- MPG -->\n     <g style=\"fill:#262626;\" transform=\"translate(15.789375 178.156875)rotate(-90)scale(0.12 -0.12)\">\n      <defs>\n       <path d=\"M 7.421875 0 \nL 7.421875 71.578125 \nL 21.6875 71.578125 \nL 38.625 20.90625 \nQ 40.96875 13.8125 42.046875 10.296875 \nQ 43.265625 14.203125 45.84375 21.78125 \nL 62.984375 71.578125 \nL 75.734375 71.578125 \nL 75.734375 0 \nL 66.609375 0 \nL 66.609375 59.90625 \nL 45.796875 0 \nL 37.25 0 \nL 16.546875 60.9375 \nL 16.546875 0 \nz\n\" id=\"ArialMT-77\"/>\n       <path d=\"M 7.71875 0 \nL 7.71875 71.578125 \nL 34.71875 71.578125 \nQ 41.84375 71.578125 45.609375 70.90625 \nQ 50.875 70.015625 54.4375 67.546875 \nQ 58.015625 65.09375 60.1875 60.640625 \nQ 62.359375 56.203125 62.359375 50.875 \nQ 62.359375 41.75 56.546875 35.421875 \nQ 50.734375 29.109375 35.546875 29.109375 \nL 17.1875 29.109375 \nL 17.1875 0 \nz\nM 17.1875 37.546875 \nL 35.6875 37.546875 \nQ 44.875 37.546875 48.734375 40.96875 \nQ 52.59375 44.390625 52.59375 50.59375 \nQ 52.59375 55.078125 50.3125 58.265625 \nQ 48.046875 61.46875 44.34375 62.5 \nQ 41.9375 63.140625 35.5 63.140625 \nL 17.1875 63.140625 \nz\n\" id=\"ArialMT-80\"/>\n       <path d=\"M 41.21875 28.078125 \nL 41.21875 36.46875 \nL 71.53125 36.53125 \nL 71.53125 9.96875 \nQ 64.546875 4.390625 57.125 1.578125 \nQ 49.703125 -1.21875 41.890625 -1.21875 \nQ 31.34375 -1.21875 22.71875 3.296875 \nQ 14.109375 7.8125 9.71875 16.359375 \nQ 5.328125 24.90625 5.328125 35.453125 \nQ 5.328125 45.90625 9.6875 54.953125 \nQ 14.0625 64.015625 22.265625 68.40625 \nQ 30.46875 72.796875 41.15625 72.796875 \nQ 48.921875 72.796875 55.1875 70.28125 \nQ 61.46875 67.78125 65.03125 63.28125 \nQ 68.609375 58.796875 70.453125 51.5625 \nL 61.921875 49.21875 \nQ 60.296875 54.6875 57.90625 57.8125 \nQ 55.515625 60.9375 51.0625 62.8125 \nQ 46.625 64.703125 41.21875 64.703125 \nQ 34.71875 64.703125 29.984375 62.71875 \nQ 25.25 60.75 22.34375 57.515625 \nQ 19.4375 54.296875 17.828125 50.4375 \nQ 15.09375 43.796875 15.09375 36.03125 \nQ 15.09375 26.46875 18.390625 20.015625 \nQ 21.6875 13.578125 27.984375 10.453125 \nQ 34.28125 7.328125 41.359375 7.328125 \nQ 47.515625 7.328125 53.375 9.6875 \nQ 59.234375 12.0625 62.25 14.75 \nL 62.25 28.078125 \nz\n\" id=\"ArialMT-71\"/>\n      </defs>\n      <use xlink:href=\"#ArialMT-77\"/>\n      <use x=\"83.300781\" xlink:href=\"#ArialMT-80\"/>\n      <use x=\"150\" xlink:href=\"#ArialMT-71\"/>\n     </g>\n    </g>\n   </g>\n   <g id=\"PathCollection_1\">\n    <path clip-path=\"url(#p5bc01d8347)\" d=\"M 214.126841 255.504075 \nC 215.686436 255.504075 217.182365 254.884441 218.285166 253.781641 \nC 219.387966 252.67884 220.0076 251.182911 220.0076 249.623316 \nC 220.0076 248.06372 219.387966 246.567792 218.285166 245.464991 \nC 217.182365 244.36219 215.686436 243.742556 214.126841 243.742556 \nC 212.567245 243.742556 211.071316 244.36219 209.968516 245.464991 \nC 208.865715 246.567792 208.246081 248.06372 208.246081 249.623316 \nC 208.246081 251.182911 208.865715 252.67884 209.968516 253.781641 \nC 211.071316 254.884441 212.567245 255.504075 214.126841 255.504075 \nz\n\" style=\"fill:#4c72b0;fill-opacity:0.5;stroke:#ffffff;stroke-opacity:0.5;stroke-width:0.309839;\"/>\n    <path clip-path=\"url(#p5bc01d8347)\" d=\"M 291.481104 273.225125 \nC 293.356373 273.225125 295.155089 272.480072 296.481104 271.154057 \nC 297.80712 269.828041 298.552172 268.029326 298.552172 266.154057 \nC 298.552172 264.278788 297.80712 262.480072 296.481104 261.154057 \nC 295.155089 259.828041 293.356373 259.082989 291.481104 259.082989 \nC 289.605835 259.082989 287.80712 259.828041 286.481104 261.154057 \nC 285.155089 262.480072 284.410036 264.278788 284.410036 266.154057 \nC 284.410036 268.029326 285.155089 269.828041 286.481104 271.154057 \nC 287.80712 272.480072 289.605835 273.225125 291.481104 273.225125 \nz\n\" style=\"fill:#4c72b0;fill-opacity:0.5;stroke:#ffffff;stroke-opacity:0.5;stroke-width:0.309839;\"/>\n    <path clip-path=\"url(#p5bc01d8347)\" d=\"M 120.729373 196.143698 \nC 121.890425 196.143698 123.00408 195.682407 123.825069 194.861418 \nC 124.646057 194.04043 125.107348 192.926775 125.107348 191.765723 \nC 125.107348 190.60467 124.646057 189.491015 123.825069 188.670027 \nC 123.00408 187.849038 121.890425 187.387747 120.729373 187.387747 \nC 119.56832 187.387747 118.454665 187.849038 117.633677 188.670027 \nC 116.812689 189.491015 116.351397 190.60467 116.351397 191.765723 \nC 116.351397 192.926775 116.812689 194.04043 117.633677 194.861418 \nC 118.454665 195.682407 119.56832 196.143698 120.729373 196.143698 \nz\n\" style=\"fill:#dd8452;fill-opacity:0.5;stroke:#ffffff;stroke-opacity:0.5;stroke-width:0.309839;\"/>\n    <path clip-path=\"url(#p5bc01d8347)\" d=\"M 139.374178 220.939809 \nC 140.535231 220.939809 141.648886 220.478518 142.469874 219.65753 \nC 143.290862 218.836542 143.752153 217.722887 143.752153 216.561834 \nC 143.752153 215.400781 143.290862 214.287126 142.469874 213.466138 \nC 141.648886 212.64515 140.535231 212.183859 139.374178 212.183859 \nC 138.213126 212.183859 137.09947 212.64515 136.278482 213.466138 \nC 135.457494 214.287126 134.996203 215.400781 134.996203 216.561834 \nC 134.996203 217.722887 135.457494 218.836542 136.278482 219.65753 \nC 137.09947 220.478518 138.213126 220.939809 139.374178 220.939809 \nz\n\" style=\"fill:#4c72b0;fill-opacity:0.5;stroke:#ffffff;stroke-opacity:0.5;stroke-width:0.309839;\"/>\n    <path clip-path=\"url(#p5bc01d8347)\" d=\"M 108.762009 179.612957 \nC 109.923062 179.612957 111.036717 179.151666 111.857705 178.330678 \nC 112.678693 177.509689 113.139984 176.396034 113.139984 175.234982 \nC 113.139984 174.073929 112.678693 172.960274 111.857705 172.139286 \nC 111.036717 171.318298 109.923062 170.857006 108.762009 170.857006 \nC 107.600956 170.857006 106.487301 171.318298 105.666313 172.139286 \nC 104.845325 172.960274 104.384034 174.073929 104.384034 175.234982 \nC 104.384034 176.396034 104.845325 177.509689 105.666313 178.330678 \nC 106.487301 179.151666 107.600956 179.612957 108.762009 179.612957 \nz\n\" style=\"fill:#55a868;fill-opacity:0.5;stroke:#ffffff;stroke-opacity:0.5;stroke-width:0.309839;\"/>\n    <path clip-path=\"url(#p5bc01d8347)\" d=\"M 315.242391 314.551977 \nC 317.11766 314.551977 318.916376 313.806925 320.242391 312.480909 \nC 321.568407 311.154894 322.313459 309.356178 322.313459 307.480909 \nC 322.313459 305.60564 321.568407 303.806925 320.242391 302.480909 \nC 318.916376 301.154894 317.11766 300.409841 315.242391 300.409841 \nC 313.367122 300.409841 311.568407 301.154894 310.242391 302.480909 \nC 308.916376 303.806925 308.171323 305.60564 308.171323 307.480909 \nC 308.171323 309.356178 308.916376 311.154894 310.242391 312.480909 \nC 311.568407 313.806925 313.367122 314.551977 315.242391 314.551977 \nz\n\" style=\"fill:#4c72b0;fill-opacity:0.5;stroke:#ffffff;stroke-opacity:0.5;stroke-width:0.309839;\"/>\n    <path clip-path=\"url(#p5bc01d8347)\" d=\"M 108.241689 187.878327 \nC 109.402741 187.878327 110.516397 187.417036 111.337385 186.596048 \nC 112.158373 185.77506 112.619664 184.661405 112.619664 183.500352 \nC 112.619664 182.339299 112.158373 181.225644 111.337385 180.404656 \nC 110.516397 179.583668 109.402741 179.122377 108.241689 179.122377 \nC 107.080636 179.122377 105.966981 179.583668 105.145993 180.404656 \nC 104.325005 181.225644 103.863714 182.339299 103.863714 183.500352 \nC 103.863714 184.661405 104.325005 185.77506 105.145993 186.596048 \nC 105.966981 187.417036 107.080636 187.878327 108.241689 187.878327 \nz\n\" style=\"fill:#dd8452;fill-opacity:0.5;stroke:#ffffff;stroke-opacity:0.5;stroke-width:0.309839;\"/>\n    <path clip-path=\"url(#p5bc01d8347)\" d=\"M 201.378997 238.973334 \nC 202.938593 238.973334 204.434521 238.353701 205.537322 237.2509 \nC 206.640123 236.148099 207.259756 234.652171 207.259756 233.092575 \nC 207.259756 231.532979 206.640123 230.037051 205.537322 228.93425 \nC 204.434521 227.831449 202.938593 227.211815 201.378997 227.211815 \nC 199.819401 227.211815 198.323473 227.831449 197.220672 228.93425 \nC 196.117871 230.037051 195.498237 231.532979 195.498237 233.092575 \nC 195.498237 234.652171 196.117871 236.148099 197.220672 237.2509 \nC 198.323473 238.353701 199.819401 238.973334 201.378997 238.973334 \nz\n\" style=\"fill:#4c72b0;fill-opacity:0.5;stroke:#ffffff;stroke-opacity:0.5;stroke-width:0.309839;\"/>\n    <path clip-path=\"url(#p5bc01d8347)\" d=\"M 275.264459 281.490495 \nC 277.139728 281.490495 278.938444 280.745443 280.264459 279.419427 \nC 281.590475 278.093412 282.335527 276.294696 282.335527 274.419427 \nC 282.335527 272.544158 281.590475 270.745443 280.264459 269.419427 \nC 278.938444 268.093412 277.139728 267.348359 275.264459 267.348359 \nC 273.38919 267.348359 271.590475 268.093412 270.264459 269.419427 \nC 268.938444 270.745443 268.193391 272.544158 268.193391 274.419427 \nC 268.193391 276.294696 268.938444 278.093412 270.264459 279.419427 \nC 271.590475 280.745443 273.38919 281.490495 275.264459 281.490495 \nz\n\" style=\"fill:#4c72b0;fill-opacity:0.5;stroke:#ffffff;stroke-opacity:0.5;stroke-width:0.309839;\"/>\n    <path clip-path=\"url(#p5bc01d8347)\" d=\"M 326.602715 289.755865 \nC 328.477984 289.755865 330.276699 289.010813 331.602715 287.684798 \nC 332.92873 286.358782 333.673782 284.560067 333.673782 282.684798 \nC 333.673782 280.809529 332.92873 279.010813 331.602715 277.684798 \nC 330.276699 276.358782 328.477984 275.61373 326.602715 275.61373 \nC 324.727445 275.61373 322.92873 276.358782 321.602715 277.684798 \nC 320.276699 279.010813 319.531647 280.809529 319.531647 282.684798 \nC 319.531647 284.560067 320.276699 286.358782 321.602715 287.684798 \nC 322.92873 289.010813 324.727445 289.755865 326.602715 289.755865 \nz\n\" style=\"fill:#4c72b0;fill-opacity:0.5;stroke:#ffffff;stroke-opacity:0.5;stroke-width:0.309839;\"/>\n    <path clip-path=\"url(#p5bc01d8347)\" d=\"M 187.243633 247.238705 \nC 188.803228 247.238705 190.299157 246.619071 191.401958 245.51627 \nC 192.504758 244.41347 193.124392 242.917541 193.124392 241.357945 \nC 193.124392 239.79835 192.504758 238.302421 191.401958 237.19962 \nC 190.299157 236.09682 188.803228 235.477186 187.243633 235.477186 \nC 185.684037 235.477186 184.188108 236.09682 183.085308 237.19962 \nC 181.982507 238.302421 181.362873 239.79835 181.362873 241.357945 \nC 181.362873 242.917541 181.982507 244.41347 183.085308 245.51627 \nC 184.188108 246.619071 185.684037 247.238705 187.243633 247.238705 \nz\n\" style=\"fill:#4c72b0;fill-opacity:0.5;stroke:#ffffff;stroke-opacity:0.5;stroke-width:0.309839;\"/>\n    <path clip-path=\"url(#p5bc01d8347)\" d=\"M 68.784077 135.844621 \nC 69.297641 135.844621 69.790239 135.64058 70.153383 135.277436 \nC 70.516528 134.914291 70.720569 134.421693 70.720569 133.908129 \nC 70.720569 133.394566 70.516528 132.901967 70.153383 132.538823 \nC 69.790239 132.175679 69.297641 131.971638 68.784077 131.971638 \nC 68.270513 131.971638 67.777915 132.175679 67.414771 132.538823 \nC 67.051626 132.901967 66.847585 133.394566 66.847585 133.908129 \nC 66.847585 134.421693 67.051626 134.914291 67.414771 135.277436 \nC 67.777915 135.64058 68.270513 135.844621 68.784077 135.844621 \nz\n\" style=\"fill:#dd8452;fill-opacity:0.5;stroke:#ffffff;stroke-opacity:0.5;stroke-width:0.309839;\"/>\n    <path clip-path=\"url(#p5bc01d8347)\" d=\"M 112.57769 196.143698 \nC 113.738743 196.143698 114.852398 195.682407 115.673386 194.861418 \nC 116.494374 194.04043 116.955665 192.926775 116.955665 191.765723 \nC 116.955665 190.60467 116.494374 189.491015 115.673386 188.670027 \nC 114.852398 187.849038 113.738743 187.387747 112.57769 187.387747 \nC 111.416638 187.387747 110.302982 187.849038 109.481994 188.670027 \nC 108.661006 189.491015 108.199715 190.60467 108.199715 191.765723 \nC 108.199715 192.926775 108.661006 194.04043 109.481994 194.861418 \nC 110.302982 195.682407 111.416638 196.143698 112.57769 196.143698 \nz\n\" style=\"fill:#dd8452;fill-opacity:0.5;stroke:#ffffff;stroke-opacity:0.5;stroke-width:0.309839;\"/>\n    <path clip-path=\"url(#p5bc01d8347)\" d=\"M 108.068249 220.939809 \nC 109.229301 220.939809 110.342957 220.478518 111.163945 219.65753 \nC 111.984933 218.836542 112.446224 217.722887 112.446224 216.561834 \nC 112.446224 215.400781 111.984933 214.287126 111.163945 213.466138 \nC 110.342957 212.64515 109.229301 212.183859 108.068249 212.183859 \nC 106.907196 212.183859 105.793541 212.64515 104.972553 213.466138 \nC 104.151565 214.287126 103.690274 215.400781 103.690274 216.561834 \nC 103.690274 217.722887 104.151565 218.836542 104.972553 219.65753 \nC 105.793541 220.478518 106.907196 220.939809 108.068249 220.939809 \nz\n\" style=\"fill:#4c72b0;fill-opacity:0.5;stroke:#ffffff;stroke-opacity:0.5;stroke-width:0.309839;\"/>\n    <path clip-path=\"url(#p5bc01d8347)\" d=\"M 273.096458 281.490495 \nC 274.971728 281.490495 276.770443 280.745443 278.096458 279.419427 \nC 279.422474 278.093412 280.167526 276.294696 280.167526 274.419427 \nC 280.167526 272.544158 279.422474 270.745443 278.096458 269.419427 \nC 276.770443 268.093412 274.971728 267.348359 273.096458 267.348359 \nC 271.221189 267.348359 269.422474 268.093412 268.096458 269.419427 \nC 266.770443 270.745443 266.025391 272.544158 266.025391 274.419427 \nC 266.025391 276.294696 266.770443 278.093412 268.096458 279.419427 \nC 269.422474 280.745443 271.221189 281.490495 273.096458 281.490495 \nz\n\" style=\"fill:#4c72b0;fill-opacity:0.5;stroke:#ffffff;stroke-opacity:0.5;stroke-width:0.309839;\"/>\n    <path clip-path=\"url(#p5bc01d8347)\" d=\"M 287.405263 289.755865 \nC 289.280532 289.755865 291.079247 289.010813 292.405263 287.684798 \nC 293.731278 286.358782 294.476331 284.560067 294.476331 282.684798 \nC 294.476331 280.809529 293.731278 279.010813 292.405263 277.684798 \nC 291.079247 276.358782 289.280532 275.61373 287.405263 275.61373 \nC 285.529994 275.61373 283.731278 276.358782 282.405263 277.684798 \nC 281.079247 279.010813 280.334195 280.809529 280.334195 282.684798 \nC 280.334195 284.560067 281.079247 286.358782 282.405263 287.684798 \nC 283.731278 289.010813 285.529994 289.755865 287.405263 289.755865 \nz\n\" style=\"fill:#4c72b0;fill-opacity:0.5;stroke:#ffffff;stroke-opacity:0.5;stroke-width:0.309839;\"/>\n    <path clip-path=\"url(#p5bc01d8347)\" d=\"M 122.723933 212.674439 \nC 123.884986 212.674439 124.998641 212.213148 125.819629 211.392159 \nC 126.640617 210.571171 127.101908 209.457516 127.101908 208.296463 \nC 127.101908 207.135411 126.640617 206.021756 125.819629 205.200768 \nC 124.998641 204.379779 123.884986 203.918488 122.723933 203.918488 \nC 121.562881 203.918488 120.449225 204.379779 119.628237 205.200768 \nC 118.807249 206.021756 118.345958 207.135411 118.345958 208.296463 \nC 118.345958 209.457516 118.807249 210.571171 119.628237 211.392159 \nC 120.449225 212.213148 121.562881 212.674439 122.723933 212.674439 \nz\n\" style=\"fill:#4c72b0;fill-opacity:0.5;stroke:#ffffff;stroke-opacity:0.5;stroke-width:0.309839;\"/>\n    <path clip-path=\"url(#p5bc01d8347)\" d=\"M 132.349856 204.409068 \nC 133.510909 204.409068 134.624564 203.947777 135.445552 203.126789 \nC 136.26654 202.305801 136.727831 201.192146 136.727831 200.031093 \nC 136.727831 198.87004 136.26654 197.756385 135.445552 196.935397 \nC 134.624564 196.114409 133.510909 195.653118 132.349856 195.653118 \nC 131.188804 195.653118 130.075148 196.114409 129.25416 196.935397 \nC 128.433172 197.756385 127.971881 198.87004 127.971881 200.031093 \nC 127.971881 201.192146 128.433172 202.305801 129.25416 203.126789 \nC 130.075148 203.947777 131.188804 204.409068 132.349856 204.409068 \nz\n\" style=\"fill:#dd8452;fill-opacity:0.5;stroke:#ffffff;stroke-opacity:0.5;stroke-width:0.309839;\"/>\n    <path clip-path=\"url(#p5bc01d8347)\" d=\"M 97.141526 171.347586 \nC 98.302578 171.347586 99.416233 170.886295 100.237221 170.065307 \nC 101.05821 169.244319 101.519501 168.130664 101.519501 166.969611 \nC 101.519501 165.808559 101.05821 164.694903 100.237221 163.873915 \nC 99.416233 163.052927 98.302578 162.591636 97.141526 162.591636 \nC 95.980473 162.591636 94.866818 163.052927 94.04583 163.873915 \nC 93.224841 164.694903 92.76355 165.808559 92.76355 166.969611 \nC 92.76355 168.130664 93.224841 169.244319 94.04583 170.065307 \nC 94.866818 170.886295 95.980473 171.347586 97.141526 171.347586 \nz\n\" style=\"fill:#dd8452;fill-opacity:0.5;stroke:#ffffff;stroke-opacity:0.5;stroke-width:0.309839;\"/>\n    <path clip-path=\"url(#p5bc01d8347)\" d=\"M 265.551816 281.490495 \nC 267.427085 281.490495 269.225801 280.745443 270.551816 279.419427 \nC 271.877832 278.093412 272.622884 276.294696 272.622884 274.419427 \nC 272.622884 272.544158 271.877832 270.745443 270.551816 269.419427 \nC 269.225801 268.093412 267.427085 267.348359 265.551816 267.348359 \nC 263.676547 267.348359 261.877832 268.093412 260.551816 269.419427 \nC 259.225801 270.745443 258.480748 272.544158 258.480748 274.419427 \nC 258.480748 276.294696 259.225801 278.093412 260.551816 279.419427 \nC 261.877832 280.745443 263.676547 281.490495 265.551816 281.490495 \nz\n\" style=\"fill:#4c72b0;fill-opacity:0.5;stroke:#ffffff;stroke-opacity:0.5;stroke-width:0.309839;\"/>\n    <path clip-path=\"url(#p5bc01d8347)\" d=\"M 293.388945 289.755865 \nC 295.264214 289.755865 297.062929 289.010813 298.388945 287.684798 \nC 299.71496 286.358782 300.460012 284.560067 300.460012 282.684798 \nC 300.460012 280.809529 299.71496 279.010813 298.388945 277.684798 \nC 297.062929 276.358782 295.264214 275.61373 293.388945 275.61373 \nC 291.513675 275.61373 289.71496 276.358782 288.388945 277.684798 \nC 287.062929 279.010813 286.317877 280.809529 286.317877 282.684798 \nC 286.317877 284.560067 287.062929 286.358782 288.388945 287.684798 \nC 289.71496 289.010813 291.513675 289.755865 293.388945 289.755865 \nz\n\" style=\"fill:#4c72b0;fill-opacity:0.5;stroke:#ffffff;stroke-opacity:0.5;stroke-width:0.309839;\"/>\n    <path clip-path=\"url(#p5bc01d8347)\" d=\"M 177.01067 247.238705 \nC 178.570265 247.238705 180.066194 246.619071 181.168995 245.51627 \nC 182.271795 244.41347 182.891429 242.917541 182.891429 241.357945 \nC 182.891429 239.79835 182.271795 238.302421 181.168995 237.19962 \nC 180.066194 236.09682 178.570265 235.477186 177.01067 235.477186 \nC 175.451074 235.477186 173.955145 236.09682 172.852345 237.19962 \nC 171.749544 238.302421 171.12991 239.79835 171.12991 241.357945 \nC 171.12991 242.917541 171.749544 244.41347 172.852345 245.51627 \nC 173.955145 246.619071 175.451074 247.238705 177.01067 247.238705 \nz\n\" style=\"fill:#4c72b0;fill-opacity:0.5;stroke:#ffffff;stroke-opacity:0.5;stroke-width:0.309839;\"/>\n    <path clip-path=\"url(#p5bc01d8347)\" d=\"M 340.477919 298.021236 \nC 342.353188 298.021236 344.151903 297.276184 345.477919 295.950168 \nC 346.803934 294.624153 347.548987 292.825437 347.548987 290.950168 \nC 347.548987 289.074899 346.803934 287.276184 345.477919 285.950168 \nC 344.151903 284.624153 342.353188 283.8791 340.477919 283.8791 \nC 338.60265 283.8791 336.803934 284.624153 335.477919 285.950168 \nC 334.151903 287.276184 333.406851 289.074899 333.406851 290.950168 \nC 333.406851 292.825437 334.151903 294.624153 335.477919 295.950168 \nC 336.803934 297.276184 338.60265 298.021236 340.477919 298.021236 \nz\n\" style=\"fill:#4c72b0;fill-opacity:0.5;stroke:#ffffff;stroke-opacity:0.5;stroke-width:0.309839;\"/>\n    <path clip-path=\"url(#p5bc01d8347)\" d=\"M 112.66441 229.20518 \nC 113.825463 229.20518 114.939118 228.743889 115.760106 227.9229 \nC 116.581094 227.101912 117.042385 225.988257 117.042385 224.827204 \nC 117.042385 223.666152 116.581094 222.552497 115.760106 221.731508 \nC 114.939118 220.91052 113.825463 220.449229 112.66441 220.449229 \nC 111.503358 220.449229 110.389702 220.91052 109.568714 221.731508 \nC 108.747726 222.552497 108.286435 223.666152 108.286435 224.827204 \nC 108.286435 225.988257 108.747726 227.101912 109.568714 227.9229 \nC 110.389702 228.743889 111.503358 229.20518 112.66441 229.20518 \nz\n\" style=\"fill:#dd8452;fill-opacity:0.5;stroke:#ffffff;stroke-opacity:0.5;stroke-width:0.309839;\"/>\n    <path clip-path=\"url(#p5bc01d8347)\" d=\"M 115.352731 237.47055 \nC 116.513784 237.47055 117.627439 237.009259 118.448427 236.188271 \nC 119.269415 235.367283 119.730706 234.253627 119.730706 233.092575 \nC 119.730706 231.931522 119.269415 230.817867 118.448427 229.996879 \nC 117.627439 229.175891 116.513784 228.7146 115.352731 228.7146 \nC 114.191678 228.7146 113.078023 229.175891 112.257035 229.996879 \nC 111.436047 230.817867 110.974756 231.931522 110.974756 233.092575 \nC 110.974756 234.253627 111.436047 235.367283 112.257035 236.188271 \nC 113.078023 237.009259 114.191678 237.47055 115.352731 237.47055 \nz\n\" style=\"fill:#4c72b0;fill-opacity:0.5;stroke:#ffffff;stroke-opacity:0.5;stroke-width:0.309839;\"/>\n    <path clip-path=\"url(#p5bc01d8347)\" d=\"M 158.452584 229.20518 \nC 159.613637 229.20518 160.727292 228.743889 161.54828 227.9229 \nC 162.369268 227.101912 162.830559 225.988257 162.830559 224.827204 \nC 162.830559 223.666152 162.369268 222.552497 161.54828 221.731508 \nC 160.727292 220.91052 159.613637 220.449229 158.452584 220.449229 \nC 157.291531 220.449229 156.177876 220.91052 155.356888 221.731508 \nC 154.5359 222.552497 154.074609 223.666152 154.074609 224.827204 \nC 154.074609 225.988257 154.5359 227.101912 155.356888 227.9229 \nC 156.177876 228.743889 157.291531 229.20518 158.452584 229.20518 \nz\n\" style=\"fill:#dd8452;fill-opacity:0.5;stroke:#ffffff;stroke-opacity:0.5;stroke-width:0.309839;\"/>\n    <path clip-path=\"url(#p5bc01d8347)\" d=\"M 127.580255 179.612957 \nC 128.741307 179.612957 129.854962 179.151666 130.675951 178.330678 \nC 131.496939 177.509689 131.95823 176.396034 131.95823 175.234982 \nC 131.95823 174.073929 131.496939 172.960274 130.675951 172.139286 \nC 129.854962 171.318298 128.741307 170.857006 127.580255 170.857006 \nC 126.419202 170.857006 125.305547 171.318298 124.484559 172.139286 \nC 123.663571 172.960274 123.20228 174.073929 123.20228 175.234982 \nC 123.20228 176.396034 123.663571 177.509689 124.484559 178.330678 \nC 125.305547 179.151666 126.419202 179.612957 127.580255 179.612957 \nz\n\" style=\"fill:#4c72b0;fill-opacity:0.5;stroke:#ffffff;stroke-opacity:0.5;stroke-width:0.309839;\"/>\n    <path clip-path=\"url(#p5bc01d8347)\" d=\"M 74.247439 127.57925 \nC 74.761002 127.57925 75.253601 127.375209 75.616745 127.012065 \nC 75.979889 126.648921 76.18393 126.156322 76.18393 125.642759 \nC 76.18393 125.129195 75.979889 124.636597 75.616745 124.273452 \nC 75.253601 123.910308 74.761002 123.706267 74.247439 123.706267 \nC 73.733875 123.706267 73.241277 123.910308 72.878132 124.273452 \nC 72.514988 124.636597 72.310947 125.129195 72.310947 125.642759 \nC 72.310947 126.156322 72.514988 126.648921 72.878132 127.012065 \nC 73.241277 127.375209 73.733875 127.57925 74.247439 127.57925 \nz\n\" style=\"fill:#dd8452;fill-opacity:0.5;stroke:#ffffff;stroke-opacity:0.5;stroke-width:0.309839;\"/>\n    <path clip-path=\"url(#p5bc01d8347)\" d=\"M 274.137099 264.959754 \nC 276.012368 264.959754 277.811083 264.214702 279.137099 262.888686 \nC 280.463114 261.562671 281.208167 259.763955 281.208167 257.888686 \nC 281.208167 256.013417 280.463114 254.214702 279.137099 252.888686 \nC 277.811083 251.562671 276.012368 250.817618 274.137099 250.817618 \nC 272.26183 250.817618 270.463114 251.562671 269.137099 252.888686 \nC 267.811083 254.214702 267.066031 256.013417 267.066031 257.888686 \nC 267.066031 259.763955 267.811083 261.562671 269.137099 262.888686 \nC 270.463114 264.214702 272.26183 264.959754 274.137099 264.959754 \nz\n\" style=\"fill:#4c72b0;fill-opacity:0.5;stroke:#ffffff;stroke-opacity:0.5;stroke-width:0.309839;\"/>\n    <path clip-path=\"url(#p5bc01d8347)\" d=\"M 317.236952 281.490495 \nC 319.112221 281.490495 320.910936 280.745443 322.236952 279.419427 \nC 323.562967 278.093412 324.30802 276.294696 324.30802 274.419427 \nC 324.30802 272.544158 323.562967 270.745443 322.236952 269.419427 \nC 320.910936 268.093412 319.112221 267.348359 317.236952 267.348359 \nC 315.361683 267.348359 313.562967 268.093412 312.236952 269.419427 \nC 310.910936 270.745443 310.165884 272.544158 310.165884 274.419427 \nC 310.165884 276.294696 310.910936 278.093412 312.236952 279.419427 \nC 313.562967 280.745443 315.361683 281.490495 317.236952 281.490495 \nz\n\" style=\"fill:#4c72b0;fill-opacity:0.5;stroke:#ffffff;stroke-opacity:0.5;stroke-width:0.309839;\"/>\n    <path clip-path=\"url(#p5bc01d8347)\" d=\"M 58.030794 135.844621 \nC 58.544357 135.844621 59.036956 135.64058 59.4001 135.277436 \nC 59.763244 134.914291 59.967285 134.421693 59.967285 133.908129 \nC 59.967285 133.394566 59.763244 132.901967 59.4001 132.538823 \nC 59.036956 132.175679 58.544357 131.971638 58.030794 131.971638 \nC 57.51723 131.971638 57.024632 132.175679 56.661487 132.538823 \nC 56.298343 132.901967 56.094302 133.394566 56.094302 133.908129 \nC 56.094302 134.421693 56.298343 134.914291 56.661487 135.277436 \nC 57.024632 135.64058 57.51723 135.844621 58.030794 135.844621 \nz\n\" style=\"fill:#dd8452;fill-opacity:0.5;stroke:#ffffff;stroke-opacity:0.5;stroke-width:0.309839;\"/>\n    <path clip-path=\"url(#p5bc01d8347)\" d=\"M 130.875616 196.143698 \nC 132.036668 196.143698 133.150323 195.682407 133.971312 194.861418 \nC 134.7923 194.04043 135.253591 192.926775 135.253591 191.765723 \nC 135.253591 190.60467 134.7923 189.491015 133.971312 188.670027 \nC 133.150323 187.849038 132.036668 187.387747 130.875616 187.387747 \nC 129.714563 187.387747 128.600908 187.849038 127.77992 188.670027 \nC 126.958932 189.491015 126.49764 190.60467 126.49764 191.765723 \nC 126.49764 192.926775 126.958932 194.04043 127.77992 194.861418 \nC 128.600908 195.682407 129.714563 196.143698 130.875616 196.143698 \nz\n\" style=\"fill:#c44e52;fill-opacity:0.5;stroke:#ffffff;stroke-opacity:0.5;stroke-width:0.309839;\"/>\n    <path clip-path=\"url(#p5bc01d8347)\" d=\"M 188.891313 272.034816 \nC 190.450909 272.034816 191.946837 271.415182 193.049638 270.312382 \nC 194.152439 269.209581 194.772073 267.713652 194.772073 266.154057 \nC 194.772073 264.594461 194.152439 263.098532 193.049638 261.995732 \nC 191.946837 260.892931 190.450909 260.273297 188.891313 260.273297 \nC 187.331717 260.273297 185.835789 260.892931 184.732988 261.995732 \nC 183.630187 263.098532 183.010554 264.594461 183.010554 266.154057 \nC 183.010554 267.713652 183.630187 269.209581 184.732988 270.312382 \nC 185.835789 271.415182 187.331717 272.034816 188.891313 272.034816 \nz\n\" style=\"fill:#4c72b0;fill-opacity:0.5;stroke:#ffffff;stroke-opacity:0.5;stroke-width:0.309839;\"/>\n    <path clip-path=\"url(#p5bc01d8347)\" d=\"M 318.884632 281.490495 \nC 320.759901 281.490495 322.558617 280.745443 323.884632 279.419427 \nC 325.210648 278.093412 325.9557 276.294696 325.9557 274.419427 \nC 325.9557 272.544158 325.210648 270.745443 323.884632 269.419427 \nC 322.558617 268.093412 320.759901 267.348359 318.884632 267.348359 \nC 317.009363 267.348359 315.210648 268.093412 313.884632 269.419427 \nC 312.558617 270.745443 311.813564 272.544158 311.813564 274.419427 \nC 311.813564 276.294696 312.558617 278.093412 313.884632 279.419427 \nC 315.210648 280.745443 317.009363 281.490495 318.884632 281.490495 \nz\n\" style=\"fill:#4c72b0;fill-opacity:0.5;stroke:#ffffff;stroke-opacity:0.5;stroke-width:0.309839;\"/>\n    <path clip-path=\"url(#p5bc01d8347)\" d=\"M 189.845233 288.565557 \nC 191.404829 288.565557 192.900758 287.945923 194.003558 286.843123 \nC 195.106359 285.740322 195.725993 284.244393 195.725993 282.684798 \nC 195.725993 281.125202 195.106359 279.629273 194.003558 278.526473 \nC 192.900758 277.423672 191.404829 276.804038 189.845233 276.804038 \nC 188.285638 276.804038 186.789709 277.423672 185.686908 278.526473 \nC 184.584108 279.629273 183.964474 281.125202 183.964474 282.684798 \nC 183.964474 284.244393 184.584108 285.740322 185.686908 286.843123 \nC 186.789709 287.945923 188.285638 288.565557 189.845233 288.565557 \nz\n\" style=\"fill:#4c72b0;fill-opacity:0.5;stroke:#ffffff;stroke-opacity:0.5;stroke-width:0.309839;\"/>\n    <path clip-path=\"url(#p5bc01d8347)\" d=\"M 103.298647 154.816845 \nC 104.4597 154.816845 105.573355 154.355554 106.394343 153.534566 \nC 107.215331 152.713578 107.676623 151.599923 107.676623 150.43887 \nC 107.676623 149.277818 107.215331 148.164162 106.394343 147.343174 \nC 105.573355 146.522186 104.4597 146.060895 103.298647 146.060895 \nC 102.137595 146.060895 101.02394 146.522186 100.202951 147.343174 \nC 99.381963 148.164162 98.920672 149.277818 98.920672 150.43887 \nC 98.920672 151.599923 99.381963 152.713578 100.202951 153.534566 \nC 101.02394 154.355554 102.137595 154.816845 103.298647 154.816845 \nz\n\" style=\"fill:#dd8452;fill-opacity:0.5;stroke:#ffffff;stroke-opacity:0.5;stroke-width:0.309839;\"/>\n    <path clip-path=\"url(#p5bc01d8347)\" d=\"M 143.88362 204.409068 \nC 145.044672 204.409068 146.158327 203.947777 146.979316 203.126789 \nC 147.800304 202.305801 148.261595 201.192146 148.261595 200.031093 \nC 148.261595 198.87004 147.800304 197.756385 146.979316 196.935397 \nC 146.158327 196.114409 145.044672 195.653118 143.88362 195.653118 \nC 142.722567 195.653118 141.608912 196.114409 140.787924 196.935397 \nC 139.966935 197.756385 139.505644 198.87004 139.505644 200.031093 \nC 139.505644 201.192146 139.966935 202.305801 140.787924 203.126789 \nC 141.608912 203.947777 142.722567 204.409068 143.88362 204.409068 \nz\n\" style=\"fill:#4c72b0;fill-opacity:0.5;stroke:#ffffff;stroke-opacity:0.5;stroke-width:0.309839;\"/>\n    <path clip-path=\"url(#p5bc01d8347)\" d=\"M 149.346981 196.143698 \nC 150.508034 196.143698 151.621689 195.682407 152.442677 194.861418 \nC 153.263665 194.04043 153.724956 192.926775 153.724956 191.765723 \nC 153.724956 190.60467 153.263665 189.491015 152.442677 188.670027 \nC 151.621689 187.849038 150.508034 187.387747 149.346981 187.387747 \nC 148.185929 187.387747 147.072273 187.849038 146.251285 188.670027 \nC 145.430297 189.491015 144.969006 190.60467 144.969006 191.765723 \nC 144.969006 192.926775 145.430297 194.04043 146.251285 194.861418 \nC 147.072273 195.682407 148.185929 196.143698 149.346981 196.143698 \nz\n\" style=\"fill:#dd8452;fill-opacity:0.5;stroke:#ffffff;stroke-opacity:0.5;stroke-width:0.309839;\"/>\n    <path clip-path=\"url(#p5bc01d8347)\" d=\"M 173.802029 245.735921 \nC 174.963081 245.735921 176.076736 245.274629 176.897725 244.453641 \nC 177.718713 243.632653 178.180004 242.518998 178.180004 241.357945 \nC 178.180004 240.196893 177.718713 239.083238 176.897725 238.262249 \nC 176.076736 237.441261 174.963081 236.97997 173.802029 236.97997 \nC 172.640976 236.97997 171.527321 237.441261 170.706333 238.262249 \nC 169.885344 239.083238 169.424053 240.196893 169.424053 241.357945 \nC 169.424053 242.518998 169.885344 243.632653 170.706333 244.453641 \nC 171.527321 245.274629 172.640976 245.735921 173.802029 245.735921 \nz\n\" style=\"fill:#4c72b0;fill-opacity:0.5;stroke:#ffffff;stroke-opacity:0.5;stroke-width:0.309839;\"/>\n    <path clip-path=\"url(#p5bc01d8347)\" d=\"M 70.691918 119.31388 \nC 71.205481 119.31388 71.69808 119.109839 72.061224 118.746695 \nC 72.424368 118.38355 72.628409 117.890952 72.628409 117.377388 \nC 72.628409 116.863825 72.424368 116.371226 72.061224 116.008082 \nC 71.69808 115.644938 71.205481 115.440897 70.691918 115.440897 \nC 70.178354 115.440897 69.685755 115.644938 69.322611 116.008082 \nC 68.959467 116.371226 68.755426 116.863825 68.755426 117.377388 \nC 68.755426 117.890952 68.959467 118.38355 69.322611 118.746695 \nC 69.685755 119.109839 70.178354 119.31388 70.691918 119.31388 \nz\n\" style=\"fill:#c44e52;fill-opacity:0.5;stroke:#ffffff;stroke-opacity:0.5;stroke-width:0.309839;\"/>\n    <path clip-path=\"url(#p5bc01d8347)\" d=\"M 280.554381 277.35781 \nC 282.42965 277.35781 284.228365 276.612757 285.554381 275.286742 \nC 286.880396 273.960726 287.625449 272.162011 287.625449 270.286742 \nC 287.625449 268.411473 286.880396 266.612757 285.554381 265.286742 \nC 284.228365 263.960726 282.42965 263.215674 280.554381 263.215674 \nC 278.679112 263.215674 276.880396 263.960726 275.554381 265.286742 \nC 274.228365 266.612757 273.483313 268.411473 273.483313 270.286742 \nC 273.483313 272.162011 274.228365 273.960726 275.554381 275.286742 \nC 276.880396 276.612757 278.679112 277.35781 280.554381 277.35781 \nz\n\" style=\"fill:#4c72b0;fill-opacity:0.5;stroke:#ffffff;stroke-opacity:0.5;stroke-width:0.309839;\"/>\n    <path clip-path=\"url(#p5bc01d8347)\" d=\"M 176.230189 197.646482 \nC 177.789785 197.646482 179.285714 197.026848 180.388514 195.924048 \nC 181.491315 194.821247 182.110949 193.325318 182.110949 191.765723 \nC 182.110949 190.206127 181.491315 188.710198 180.388514 187.607398 \nC 179.285714 186.504597 177.789785 185.884963 176.230189 185.884963 \nC 174.670594 185.884963 173.174665 186.504597 172.071864 187.607398 \nC 170.969064 188.710198 170.34943 190.206127 170.34943 191.765723 \nC 170.34943 193.325318 170.969064 194.821247 172.071864 195.924048 \nC 173.174665 197.026848 174.670594 197.646482 176.230189 197.646482 \nz\n\" style=\"fill:#4c72b0;fill-opacity:0.5;stroke:#ffffff;stroke-opacity:0.5;stroke-width:0.309839;\"/>\n    <path clip-path=\"url(#p5bc01d8347)\" d=\"M 70.691918 119.31388 \nC 71.205481 119.31388 71.69808 119.109839 72.061224 118.746695 \nC 72.424368 118.38355 72.628409 117.890952 72.628409 117.377388 \nC 72.628409 116.863825 72.424368 116.371226 72.061224 116.008082 \nC 71.69808 115.644938 71.205481 115.440897 70.691918 115.440897 \nC 70.178354 115.440897 69.685755 115.644938 69.322611 116.008082 \nC 68.959467 116.371226 68.755426 116.863825 68.755426 117.377388 \nC 68.755426 117.890952 68.959467 118.38355 69.322611 118.746695 \nC 69.685755 119.109839 70.178354 119.31388 70.691918 119.31388 \nz\n\" style=\"fill:#c44e52;fill-opacity:0.5;stroke:#ffffff;stroke-opacity:0.5;stroke-width:0.309839;\"/>\n    <path clip-path=\"url(#p5bc01d8347)\" d=\"M 224.966844 247.238705 \nC 226.52644 247.238705 228.022368 246.619071 229.125169 245.51627 \nC 230.22797 244.41347 230.847604 242.917541 230.847604 241.357945 \nC 230.847604 239.79835 230.22797 238.302421 229.125169 237.19962 \nC 228.022368 236.09682 226.52644 235.477186 224.966844 235.477186 \nC 223.407248 235.477186 221.91132 236.09682 220.808519 237.19962 \nC 219.705718 238.302421 219.086084 239.79835 219.086084 241.357945 \nC 219.086084 242.917541 219.705718 244.41347 220.808519 245.51627 \nC 221.91132 246.619071 223.407248 247.238705 224.966844 247.238705 \nz\n\" style=\"fill:#4c72b0;fill-opacity:0.5;stroke:#ffffff;stroke-opacity:0.5;stroke-width:0.309839;\"/>\n    <path clip-path=\"url(#p5bc01d8347)\" d=\"M 101.911127 163.082216 \nC 103.07218 163.082216 104.185835 162.620925 105.006823 161.799937 \nC 105.827811 160.978948 106.289102 159.865293 106.289102 158.704241 \nC 106.289102 157.543188 105.827811 156.429533 105.006823 155.608545 \nC 104.185835 154.787557 103.07218 154.326265 101.911127 154.326265 \nC 100.750074 154.326265 99.636419 154.787557 98.815431 155.608545 \nC 97.994443 156.429533 97.533152 157.543188 97.533152 158.704241 \nC 97.533152 159.865293 97.994443 160.978948 98.815431 161.799937 \nC 99.636419 162.620925 100.750074 163.082216 101.911127 163.082216 \nz\n\" style=\"fill:#dd8452;fill-opacity:0.5;stroke:#ffffff;stroke-opacity:0.5;stroke-width:0.309839;\"/>\n    <path clip-path=\"url(#p5bc01d8347)\" d=\"M 137.466338 175.480272 \nC 138.62739 175.480272 139.741045 175.01898 140.562034 174.197992 \nC 141.383022 173.377004 141.844313 172.263349 141.844313 171.102296 \nC 141.844313 169.941244 141.383022 168.827589 140.562034 168.0066 \nC 139.741045 167.185612 138.62739 166.724321 137.466338 166.724321 \nC 136.305285 166.724321 135.19163 167.185612 134.370642 168.0066 \nC 133.549654 168.827589 133.088362 169.941244 133.088362 171.102296 \nC 133.088362 172.263349 133.549654 173.377004 134.370642 174.197992 \nC 135.19163 175.01898 136.305285 175.480272 137.466338 175.480272 \nz\n\" style=\"fill:#4c72b0;fill-opacity:0.5;stroke:#ffffff;stroke-opacity:0.5;stroke-width:0.309839;\"/>\n    <path clip-path=\"url(#p5bc01d8347)\" d=\"M 169.119147 237.47055 \nC 170.2802 237.47055 171.393855 237.009259 172.214843 236.188271 \nC 173.035831 235.367283 173.497122 234.253627 173.497122 233.092575 \nC 173.497122 231.931522 173.035831 230.817867 172.214843 229.996879 \nC 171.393855 229.175891 170.2802 228.7146 169.119147 228.7146 \nC 167.958095 228.7146 166.844439 229.175891 166.023451 229.996879 \nC 165.202463 230.817867 164.741172 231.931522 164.741172 233.092575 \nC 164.741172 234.253627 165.202463 235.367283 166.023451 236.188271 \nC 166.844439 237.009259 167.958095 237.47055 169.119147 237.47055 \nz\n\" style=\"fill:#dd8452;fill-opacity:0.5;stroke:#ffffff;stroke-opacity:0.5;stroke-width:0.309839;\"/>\n    <path clip-path=\"url(#p5bc01d8347)\" d=\"M 246.29997 259.636761 \nC 247.859566 259.636761 249.355495 259.017127 250.458295 257.914326 \nC 251.561096 256.811525 252.18073 255.315597 252.18073 253.756001 \nC 252.18073 252.196405 251.561096 250.700477 250.458295 249.597676 \nC 249.355495 248.494875 247.859566 247.875241 246.29997 247.875241 \nC 244.740375 247.875241 243.244446 248.494875 242.141645 249.597676 \nC 241.038845 250.700477 240.419211 252.196405 240.419211 253.756001 \nC 240.419211 255.315597 241.038845 256.811525 242.141645 257.914326 \nC 243.244446 259.017127 244.740375 259.636761 246.29997 259.636761 \nz\n\" style=\"fill:#8172b3;fill-opacity:0.5;stroke:#ffffff;stroke-opacity:0.5;stroke-width:0.309839;\"/>\n    <path clip-path=\"url(#p5bc01d8347)\" d=\"M 250.635972 288.565557 \nC 252.195567 288.565557 253.691496 287.945923 254.794297 286.843123 \nC 255.897097 285.740322 256.516731 284.244393 256.516731 282.684798 \nC 256.516731 281.125202 255.897097 279.629273 254.794297 278.526473 \nC 253.691496 277.423672 252.195567 276.804038 250.635972 276.804038 \nC 249.076376 276.804038 247.580447 277.423672 246.477647 278.526473 \nC 245.374846 279.629273 244.755212 281.125202 244.755212 282.684798 \nC 244.755212 284.244393 245.374846 285.740322 246.477647 286.843123 \nC 247.580447 287.945923 249.076376 288.565557 250.635972 288.565557 \nz\n\" style=\"fill:#4c72b0;fill-opacity:0.5;stroke:#ffffff;stroke-opacity:0.5;stroke-width:0.309839;\"/>\n    <path clip-path=\"url(#p5bc01d8347)\" d=\"M 92.371924 134.153419 \nC 93.532977 134.153419 94.646632 133.692128 95.46762 132.87114 \nC 96.288608 132.050152 96.749899 130.936497 96.749899 129.775444 \nC 96.749899 128.614391 96.288608 127.500736 95.46762 126.679748 \nC 94.646632 125.85876 93.532977 125.397469 92.371924 125.397469 \nC 91.210871 125.397469 90.097216 125.85876 89.276228 126.679748 \nC 88.45524 127.500736 87.993949 128.614391 87.993949 129.775444 \nC 87.993949 130.936497 88.45524 132.050152 89.276228 132.87114 \nC 90.097216 133.692128 91.210871 134.153419 92.371924 134.153419 \nz\n\" style=\"fill:#c44e52;fill-opacity:0.5;stroke:#ffffff;stroke-opacity:0.5;stroke-width:0.309839;\"/>\n    <path clip-path=\"url(#p5bc01d8347)\" d=\"M 220.717563 243.10602 \nC 222.277158 243.10602 223.773087 242.486386 224.875888 241.383585 \nC 225.978688 240.280784 226.598322 238.784856 226.598322 237.22526 \nC 226.598322 235.665664 225.978688 234.169736 224.875888 233.066935 \nC 223.773087 231.964134 222.277158 231.344501 220.717563 231.344501 \nC 219.157967 231.344501 217.662038 231.964134 216.559238 233.066935 \nC 215.456437 234.169736 214.836803 235.665664 214.836803 237.22526 \nC 214.836803 238.784856 215.456437 240.280784 216.559238 241.383585 \nC 217.662038 242.486386 219.157967 243.10602 220.717563 243.10602 \nz\n\" style=\"fill:#4c72b0;fill-opacity:0.5;stroke:#ffffff;stroke-opacity:0.5;stroke-width:0.309839;\"/>\n    <path clip-path=\"url(#p5bc01d8347)\" d=\"M 290.960784 264.959754 \nC 292.836053 264.959754 294.634768 264.214702 295.960784 262.888686 \nC 297.286799 261.562671 298.031852 259.763955 298.031852 257.888686 \nC 298.031852 256.013417 297.286799 254.214702 295.960784 252.888686 \nC 294.634768 251.562671 292.836053 250.817618 290.960784 250.817618 \nC 289.085515 250.817618 287.286799 251.562671 285.960784 252.888686 \nC 284.634768 254.214702 283.889716 256.013417 283.889716 257.888686 \nC 283.889716 259.763955 284.634768 261.562671 285.960784 262.888686 \nC 287.286799 264.214702 289.085515 264.959754 290.960784 264.959754 \nz\n\" style=\"fill:#4c72b0;fill-opacity:0.5;stroke:#ffffff;stroke-opacity:0.5;stroke-width:0.309839;\"/>\n    <path clip-path=\"url(#p5bc01d8347)\" d=\"M 111.45033 179.612957 \nC 112.611382 179.612957 113.725038 179.151666 114.546026 178.330678 \nC 115.367014 177.509689 115.828305 176.396034 115.828305 175.234982 \nC 115.828305 174.073929 115.367014 172.960274 114.546026 172.139286 \nC 113.725038 171.318298 112.611382 170.857006 111.45033 170.857006 \nC 110.289277 170.857006 109.175622 171.318298 108.354634 172.139286 \nC 107.533646 172.960274 107.072355 174.073929 107.072355 175.234982 \nC 107.072355 176.396034 107.533646 177.509689 108.354634 178.330678 \nC 109.175622 179.151666 110.289277 179.612957 111.45033 179.612957 \nz\n\" style=\"fill:#dd8452;fill-opacity:0.5;stroke:#ffffff;stroke-opacity:0.5;stroke-width:0.309839;\"/>\n    <path clip-path=\"url(#p5bc01d8347)\" d=\"M 153.943143 183.745642 \nC 155.104195 183.745642 156.21785 183.284351 157.038839 182.463363 \nC 157.859827 181.642375 158.321118 180.528719 158.321118 179.367667 \nC 158.321118 178.206614 157.859827 177.092959 157.038839 176.271971 \nC 156.21785 175.450983 155.104195 174.989692 153.943143 174.989692 \nC 152.78209 174.989692 151.668435 175.450983 150.847447 176.271971 \nC 150.026459 177.092959 149.565167 178.206614 149.565167 179.367667 \nC 149.565167 180.528719 150.026459 181.642375 150.847447 182.463363 \nC 151.668435 183.284351 152.78209 183.745642 153.943143 183.745642 \nz\n\" style=\"fill:#4c72b0;fill-opacity:0.5;stroke:#ffffff;stroke-opacity:0.5;stroke-width:0.309839;\"/>\n    <path clip-path=\"url(#p5bc01d8347)\" d=\"M 140.501539 216.807124 \nC 141.662591 216.807124 142.776246 216.345833 143.597235 215.524845 \nC 144.418223 214.703856 144.879514 213.590201 144.879514 212.429149 \nC 144.879514 211.268096 144.418223 210.154441 143.597235 209.333453 \nC 142.776246 208.512465 141.662591 208.051174 140.501539 208.051174 \nC 139.340486 208.051174 138.226831 208.512465 137.405843 209.333453 \nC 136.584854 210.154441 136.123563 211.268096 136.123563 212.429149 \nC 136.123563 213.590201 136.584854 214.703856 137.405843 215.524845 \nC 138.226831 216.345833 139.340486 216.807124 140.501539 216.807124 \nz\n\" style=\"fill:#55a868;fill-opacity:0.5;stroke:#ffffff;stroke-opacity:0.5;stroke-width:0.309839;\"/>\n    <path clip-path=\"url(#p5bc01d8347)\" d=\"M 71.125518 93.691232 \nC 71.639081 93.691232 72.13168 93.487191 72.494824 93.124046 \nC 72.857968 92.760902 73.062009 92.268303 73.062009 91.75474 \nC 73.062009 91.241176 72.857968 90.748578 72.494824 90.385433 \nC 72.13168 90.022289 71.639081 89.818248 71.125518 89.818248 \nC 70.611954 89.818248 70.119356 90.022289 69.756211 90.385433 \nC 69.393067 90.748578 69.189026 91.241176 69.189026 91.75474 \nC 69.189026 92.268303 69.393067 92.760902 69.756211 93.124046 \nC 70.119356 93.487191 70.611954 93.691232 71.125518 93.691232 \nz\n\" style=\"fill:#4c72b0;fill-opacity:0.5;stroke:#ffffff;stroke-opacity:0.5;stroke-width:0.309839;\"/>\n    <path clip-path=\"url(#p5bc01d8347)\" d=\"M 71.125518 93.691232 \nC 71.639081 93.691232 72.13168 93.487191 72.494824 93.124046 \nC 72.857968 92.760902 73.062009 92.268303 73.062009 91.75474 \nC 73.062009 91.241176 72.857968 90.748578 72.494824 90.385433 \nC 72.13168 90.022289 71.639081 89.818248 71.125518 89.818248 \nC 70.611954 89.818248 70.119356 90.022289 69.756211 90.385433 \nC 69.393067 90.748578 69.189026 91.241176 69.189026 91.75474 \nC 69.189026 92.268303 69.393067 92.760902 69.756211 93.124046 \nC 70.119356 93.487191 70.611954 93.691232 71.125518 93.691232 \nz\n\" style=\"fill:#c44e52;fill-opacity:0.5;stroke:#ffffff;stroke-opacity:0.5;stroke-width:0.309839;\"/>\n    <path clip-path=\"url(#p5bc01d8347)\" d=\"M 172.154348 227.552105 \nC 173.315401 227.552105 174.429056 227.090814 175.250044 226.269826 \nC 176.071032 225.448838 176.532323 224.335183 176.532323 223.17413 \nC 176.532323 222.013078 176.071032 220.899423 175.250044 220.078434 \nC 174.429056 219.257446 173.315401 218.796155 172.154348 218.796155 \nC 170.993296 218.796155 169.87964 219.257446 169.058652 220.078434 \nC 168.237664 220.899423 167.776373 222.013078 167.776373 223.17413 \nC 167.776373 224.335183 168.237664 225.448838 169.058652 226.269826 \nC 169.87964 227.090814 170.993296 227.552105 172.154348 227.552105 \nz\n\" style=\"fill:#4c72b0;fill-opacity:0.5;stroke:#ffffff;stroke-opacity:0.5;stroke-width:0.309839;\"/>\n    <path clip-path=\"url(#p5bc01d8347)\" d=\"M 150.907942 187.05179 \nC 152.068994 187.05179 153.182649 186.590499 154.003638 185.769511 \nC 154.824626 184.948523 155.285917 183.834868 155.285917 182.673815 \nC 155.285917 181.512762 154.824626 180.399107 154.003638 179.578119 \nC 153.182649 178.757131 152.068994 178.29584 150.907942 178.29584 \nC 149.746889 178.29584 148.633234 178.757131 147.812246 179.578119 \nC 146.991258 180.399107 146.529967 181.512762 146.529967 182.673815 \nC 146.529967 183.834868 146.991258 184.948523 147.812246 185.769511 \nC 148.633234 186.590499 149.746889 187.05179 150.907942 187.05179 \nz\n\" style=\"fill:#4c72b0;fill-opacity:0.5;stroke:#ffffff;stroke-opacity:0.5;stroke-width:0.309839;\"/>\n    <path clip-path=\"url(#p5bc01d8347)\" d=\"M 192.967154 246.412168 \nC 194.52675 246.412168 196.022679 245.792534 197.125479 244.689733 \nC 198.22828 243.586933 198.847914 242.091004 198.847914 240.531408 \nC 198.847914 238.971813 198.22828 237.475884 197.125479 236.373083 \nC 196.022679 235.270283 194.52675 234.650649 192.967154 234.650649 \nC 191.407559 234.650649 189.91163 235.270283 188.808829 236.373083 \nC 187.706029 237.475884 187.086395 238.971813 187.086395 240.531408 \nC 187.086395 242.091004 187.706029 243.586933 188.808829 244.689733 \nC 189.91163 245.792534 191.407559 246.412168 192.967154 246.412168 \nz\n\" style=\"fill:#4c72b0;fill-opacity:0.5;stroke:#ffffff;stroke-opacity:0.5;stroke-width:0.309839;\"/>\n    <path clip-path=\"url(#p5bc01d8347)\" d=\"M 137.032738 167.214901 \nC 138.19379 167.214901 139.307445 166.75361 140.128433 165.932622 \nC 140.949422 165.111634 141.410713 163.997978 141.410713 162.836926 \nC 141.410713 161.675873 140.949422 160.562218 140.128433 159.74123 \nC 139.307445 158.920242 138.19379 158.458951 137.032738 158.458951 \nC 135.871685 158.458951 134.75803 158.920242 133.937042 159.74123 \nC 133.116053 160.562218 132.654762 161.675873 132.654762 162.836926 \nC 132.654762 163.997978 133.116053 165.111634 133.937042 165.932622 \nC 134.75803 166.75361 135.871685 167.214901 137.032738 167.214901 \nz\n\" style=\"fill:#dd8452;fill-opacity:0.5;stroke:#ffffff;stroke-opacity:0.5;stroke-width:0.309839;\"/>\n    <path clip-path=\"url(#p5bc01d8347)\" d=\"M 133.130336 220.113272 \nC 134.291389 220.113272 135.405044 219.651981 136.226032 218.830993 \nC 137.04702 218.010005 137.508312 216.896349 137.508312 215.735297 \nC 137.508312 214.574244 137.04702 213.460589 136.226032 212.639601 \nC 135.405044 211.818613 134.291389 211.357322 133.130336 211.357322 \nC 131.969284 211.357322 130.855629 211.818613 130.03464 212.639601 \nC 129.213652 213.460589 128.752361 214.574244 128.752361 215.735297 \nC 128.752361 216.896349 129.213652 218.010005 130.03464 218.830993 \nC 130.855629 219.651981 131.969284 220.113272 133.130336 220.113272 \nz\n\" style=\"fill:#dd8452;fill-opacity:0.5;stroke:#ffffff;stroke-opacity:0.5;stroke-width:0.309839;\"/>\n    <path clip-path=\"url(#p5bc01d8347)\" d=\"M 100.176726 150.68416 \nC 101.337779 150.68416 102.451434 150.222869 103.272422 149.401881 \nC 104.093411 148.580893 104.554702 147.467238 104.554702 146.306185 \nC 104.554702 145.145132 104.093411 144.031477 103.272422 143.210489 \nC 102.451434 142.389501 101.337779 141.92821 100.176726 141.92821 \nC 99.015674 141.92821 97.902019 142.389501 97.08103 143.210489 \nC 96.260042 144.031477 95.798751 145.145132 95.798751 146.306185 \nC 95.798751 147.467238 96.260042 148.580893 97.08103 149.401881 \nC 97.902019 150.222869 99.015674 150.68416 100.176726 150.68416 \nz\n\" style=\"fill:#c44e52;fill-opacity:0.5;stroke:#ffffff;stroke-opacity:0.5;stroke-width:0.309839;\"/>\n    <path clip-path=\"url(#p5bc01d8347)\" d=\"M 165.650346 210.194828 \nC 166.811399 210.194828 167.925054 209.733536 168.746042 208.912548 \nC 169.56703 208.09156 170.028321 206.977905 170.028321 205.816852 \nC 170.028321 204.6558 169.56703 203.542145 168.746042 202.721156 \nC 167.925054 201.900168 166.811399 201.438877 165.650346 201.438877 \nC 164.489294 201.438877 163.375638 201.900168 162.55465 202.721156 \nC 161.733662 203.542145 161.272371 204.6558 161.272371 205.816852 \nC 161.272371 206.977905 161.733662 208.09156 162.55465 208.912548 \nC 163.375638 209.733536 164.489294 210.194828 165.650346 210.194828 \nz\n\" style=\"fill:#4c72b0;fill-opacity:0.5;stroke:#ffffff;stroke-opacity:0.5;stroke-width:0.309839;\"/>\n    <path clip-path=\"url(#p5bc01d8347)\" d=\"M 238.061568 250.544853 \nC 239.621164 250.544853 241.117092 249.925219 242.219893 248.822419 \nC 243.322694 247.719618 243.942328 246.223689 243.942328 244.664094 \nC 243.942328 243.104498 243.322694 241.608569 242.219893 240.505769 \nC 241.117092 239.402968 239.621164 238.783334 238.061568 238.783334 \nC 236.501972 238.783334 235.006044 239.402968 233.903243 240.505769 \nC 232.800442 241.608569 232.180808 243.104498 232.180808 244.664094 \nC 232.180808 246.223689 232.800442 247.719618 233.903243 248.822419 \nC 235.006044 249.925219 236.501972 250.544853 238.061568 250.544853 \nz\n\" style=\"fill:#4c72b0;fill-opacity:0.5;stroke:#ffffff;stroke-opacity:0.5;stroke-width:0.309839;\"/>\n    <path clip-path=\"url(#p5bc01d8347)\" d=\"M 266.592457 269.092439 \nC 268.467726 269.092439 270.266441 268.347387 271.592457 267.021372 \nC 272.918472 265.695356 273.663524 263.896641 273.663524 262.021372 \nC 273.663524 260.146102 272.918472 258.347387 271.592457 257.021372 \nC 270.266441 255.695356 268.467726 254.950304 266.592457 254.950304 \nC 264.717187 254.950304 262.918472 255.695356 261.592457 257.021372 \nC 260.266441 258.347387 259.521389 260.146102 259.521389 262.021372 \nC 259.521389 263.896641 260.266441 265.695356 261.592457 267.021372 \nC 262.918472 268.347387 264.717187 269.092439 266.592457 269.092439 \nz\n\" style=\"fill:#4c72b0;fill-opacity:0.5;stroke:#ffffff;stroke-opacity:0.5;stroke-width:0.309839;\"/>\n    <path clip-path=\"url(#p5bc01d8347)\" d=\"M 221.151163 186.074963 \nC 222.710759 186.074963 224.206687 185.45533 225.309488 184.352529 \nC 226.412288 183.249728 227.031922 181.7538 227.031922 180.194204 \nC 227.031922 178.634608 226.412288 177.13868 225.309488 176.035879 \nC 224.206687 174.933078 222.710759 174.313444 221.151163 174.313444 \nC 219.591567 174.313444 218.095639 174.933078 216.992838 176.035879 \nC 215.890037 177.13868 215.270403 178.634608 215.270403 180.194204 \nC 215.270403 181.7538 215.890037 183.249728 216.992838 184.352529 \nC 218.095639 185.45533 219.591567 186.074963 221.151163 186.074963 \nz\n\" style=\"fill:#8172b3;fill-opacity:0.5;stroke:#ffffff;stroke-opacity:0.5;stroke-width:0.309839;\"/>\n    <path clip-path=\"url(#p5bc01d8347)\" d=\"M 85.694482 77.160491 \nC 86.208046 77.160491 86.700644 76.95645 87.063788 76.593305 \nC 87.426933 76.230161 87.630974 75.737563 87.630974 75.223999 \nC 87.630974 74.710435 87.426933 74.217837 87.063788 73.854693 \nC 86.700644 73.491548 86.208046 73.287507 85.694482 73.287507 \nC 85.180918 73.287507 84.68832 73.491548 84.325176 73.854693 \nC 83.962031 74.217837 83.75799 74.710435 83.75799 75.223999 \nC 83.75799 75.737563 83.962031 76.230161 84.325176 76.593305 \nC 84.68832 76.95645 85.180918 77.160491 85.694482 77.160491 \nz\n\" style=\"fill:#dd8452;fill-opacity:0.5;stroke:#ffffff;stroke-opacity:0.5;stroke-width:0.309839;\"/>\n    <path clip-path=\"url(#p5bc01d8347)\" d=\"M 163.915946 176.306809 \nC 165.076998 176.306809 166.190653 175.845518 167.011642 175.024529 \nC 167.83263 174.203541 168.293921 173.089886 168.293921 171.928833 \nC 168.293921 170.767781 167.83263 169.654126 167.011642 168.833137 \nC 166.190653 168.012149 165.076998 167.550858 163.915946 167.550858 \nC 162.754893 167.550858 161.641238 168.012149 160.82025 168.833137 \nC 159.999262 169.654126 159.53797 170.767781 159.53797 171.928833 \nC 159.53797 173.089886 159.999262 174.203541 160.82025 175.024529 \nC 161.641238 175.845518 162.754893 176.306809 163.915946 176.306809 \nz\n\" style=\"fill:#4c72b0;fill-opacity:0.5;stroke:#ffffff;stroke-opacity:0.5;stroke-width:0.309839;\"/>\n    <path clip-path=\"url(#p5bc01d8347)\" d=\"M 150.127461 148.204549 \nC 151.288514 148.204549 152.402169 147.743258 153.223157 146.92227 \nC 154.044146 146.101282 154.505437 144.987626 154.505437 143.826574 \nC 154.505437 142.665521 154.044146 141.551866 153.223157 140.730878 \nC 152.402169 139.90989 151.288514 139.448599 150.127461 139.448599 \nC 148.966409 139.448599 147.852754 139.90989 147.031766 140.730878 \nC 146.210777 141.551866 145.749486 142.665521 145.749486 143.826574 \nC 145.749486 144.987626 146.210777 146.101282 147.031766 146.92227 \nC 147.852754 147.743258 148.966409 148.204549 150.127461 148.204549 \nz\n\" style=\"fill:#dd8452;fill-opacity:0.5;stroke:#ffffff;stroke-opacity:0.5;stroke-width:0.309839;\"/>\n    <path clip-path=\"url(#p5bc01d8347)\" d=\"M 111.45033 128.36766 \nC 112.611382 128.36766 113.725038 127.906369 114.546026 127.085381 \nC 115.367014 126.264392 115.828305 125.150737 115.828305 123.989685 \nC 115.828305 122.828632 115.367014 121.714977 114.546026 120.893989 \nC 113.725038 120.073001 112.611382 119.61171 111.45033 119.61171 \nC 110.289277 119.61171 109.175622 120.073001 108.354634 120.893989 \nC 107.533646 121.714977 107.072355 122.828632 107.072355 123.989685 \nC 107.072355 125.150737 107.533646 126.264392 108.354634 127.085381 \nC 109.175622 127.906369 110.289277 128.36766 111.45033 128.36766 \nz\n\" style=\"fill:#dd8452;fill-opacity:0.5;stroke:#ffffff;stroke-opacity:0.5;stroke-width:0.309839;\"/>\n    <path clip-path=\"url(#p5bc01d8347)\" d=\"M 196.869556 148.054259 \nC 198.429151 148.054259 199.92508 147.434625 201.027881 146.331825 \nC 202.130681 145.229024 202.750315 143.733095 202.750315 142.1735 \nC 202.750315 140.613904 202.130681 139.117975 201.027881 138.015175 \nC 199.92508 136.912374 198.429151 136.29274 196.869556 136.29274 \nC 195.30996 136.29274 193.814031 136.912374 192.711231 138.015175 \nC 191.60843 139.117975 190.988796 140.613904 190.988796 142.1735 \nC 190.988796 143.733095 191.60843 145.229024 192.711231 146.331825 \nC 193.814031 147.434625 195.30996 148.054259 196.869556 148.054259 \nz\n\" style=\"fill:#8172b3;fill-opacity:0.5;stroke:#ffffff;stroke-opacity:0.5;stroke-width:0.309839;\"/>\n    <path clip-path=\"url(#p5bc01d8347)\" d=\"M 75.461519 23.435583 \nC 75.975083 23.435583 76.467681 23.231542 76.830825 22.868397 \nC 77.19397 22.505253 77.398011 22.012655 77.398011 21.499091 \nC 77.398011 20.985527 77.19397 20.492929 76.830825 20.129785 \nC 76.467681 19.76664 75.975083 19.562599 75.461519 19.562599 \nC 74.947955 19.562599 74.455357 19.76664 74.092213 20.129785 \nC 73.729068 20.492929 73.525027 20.985527 73.525027 21.499091 \nC 73.525027 22.012655 73.729068 22.505253 74.092213 22.868397 \nC 74.455357 23.231542 74.947955 23.435583 75.461519 23.435583 \nz\n\" style=\"fill:#c44e52;fill-opacity:0.5;stroke:#ffffff;stroke-opacity:0.5;stroke-width:0.309839;\"/>\n    <path clip-path=\"url(#p5bc01d8347)\" d=\"M 113.61833 126.714586 \nC 114.779383 126.714586 115.893038 126.253295 116.714026 125.432307 \nC 117.535015 124.611318 117.996306 123.497663 117.996306 122.336611 \nC 117.996306 121.175558 117.535015 120.061903 116.714026 119.240915 \nC 115.893038 118.419927 114.779383 117.958635 113.61833 117.958635 \nC 112.457278 117.958635 111.343623 118.419927 110.522635 119.240915 \nC 109.701646 120.061903 109.240355 121.175558 109.240355 122.336611 \nC 109.240355 123.497663 109.701646 124.611318 110.522635 125.432307 \nC 111.343623 126.253295 112.457278 126.714586 113.61833 126.714586 \nz\n\" style=\"fill:#c44e52;fill-opacity:0.5;stroke:#ffffff;stroke-opacity:0.5;stroke-width:0.309839;\"/>\n    <path clip-path=\"url(#p5bc01d8347)\" d=\"M 67.223117 68.89512 \nC 67.73668 68.89512 68.229279 68.691079 68.592423 68.327935 \nC 68.955567 67.964791 69.159608 67.472192 69.159608 66.958628 \nC 69.159608 66.445065 68.955567 65.952466 68.592423 65.589322 \nC 68.229279 65.226178 67.73668 65.022137 67.223117 65.022137 \nC 66.709553 65.022137 66.216954 65.226178 65.85381 65.589322 \nC 65.490666 65.952466 65.286625 66.445065 65.286625 66.958628 \nC 65.286625 67.472192 65.490666 67.964791 65.85381 68.327935 \nC 66.216954 68.691079 66.709553 68.89512 67.223117 68.89512 \nz\n\" style=\"fill:#dd8452;fill-opacity:0.5;stroke:#ffffff;stroke-opacity:0.5;stroke-width:0.309839;\"/>\n    <path clip-path=\"url(#p5bc01d8347)\" d=\"M 67.656717 101.956602 \nC 68.17028 101.956602 68.662879 101.752561 69.026023 101.389417 \nC 69.389167 101.026272 69.593208 100.533674 69.593208 100.02011 \nC 69.593208 99.506547 69.389167 99.013948 69.026023 98.650804 \nC 68.662879 98.28766 68.17028 98.083619 67.656717 98.083619 \nC 67.143153 98.083619 66.650555 98.28766 66.28741 98.650804 \nC 65.924266 99.013948 65.720225 99.506547 65.720225 100.02011 \nC 65.720225 100.533674 65.924266 101.026272 66.28741 101.389417 \nC 66.650555 101.752561 67.143153 101.956602 67.656717 101.956602 \nz\n\" style=\"fill:#c44e52;fill-opacity:0.5;stroke:#ffffff;stroke-opacity:0.5;stroke-width:0.309839;\"/>\n    <path clip-path=\"url(#p5bc01d8347)\" d=\"M 92.805524 82.908122 \nC 93.966577 82.908122 95.080232 82.446831 95.90122 81.625843 \nC 96.722208 80.804855 97.183499 79.6912 97.183499 78.530147 \nC 97.183499 77.369095 96.722208 76.255439 95.90122 75.434451 \nC 95.080232 74.613463 93.966577 74.152172 92.805524 74.152172 \nC 91.644472 74.152172 90.530816 74.613463 89.709828 75.434451 \nC 88.88884 76.255439 88.427549 77.369095 88.427549 78.530147 \nC 88.427549 79.6912 88.88884 80.804855 89.709828 81.625843 \nC 90.530816 82.446831 91.644472 82.908122 92.805524 82.908122 \nz\n\" style=\"fill:#dd8452;fill-opacity:0.5;stroke:#ffffff;stroke-opacity:0.5;stroke-width:0.309839;\"/>\n    <path clip-path=\"url(#p5bc01d8347)\" d=\"M 92.371924 110.183845 \nC 93.532977 110.183845 94.646632 109.722554 95.46762 108.901566 \nC 96.288608 108.080577 96.749899 106.966922 96.749899 105.80587 \nC 96.749899 104.644817 96.288608 103.531162 95.46762 102.710174 \nC 94.646632 101.889186 93.532977 101.427895 92.371924 101.427895 \nC 91.210871 101.427895 90.097216 101.889186 89.276228 102.710174 \nC 88.45524 103.531162 87.993949 104.644817 87.993949 105.80587 \nC 87.993949 106.966922 88.45524 108.080577 89.276228 108.901566 \nC 90.097216 109.722554 91.210871 110.183845 92.371924 110.183845 \nz\n\" style=\"fill:#4c72b0;fill-opacity:0.5;stroke:#ffffff;stroke-opacity:0.5;stroke-width:0.309839;\"/>\n    <path clip-path=\"url(#p5bc01d8347)\" d=\"M 121.423133 147.378012 \nC 122.584185 147.378012 123.697841 146.916721 124.518829 146.095733 \nC 125.339817 145.274745 125.801108 144.161089 125.801108 143.000037 \nC 125.801108 141.838984 125.339817 140.725329 124.518829 139.904341 \nC 123.697841 139.083353 122.584185 138.622062 121.423133 138.622062 \nC 120.26208 138.622062 119.148425 139.083353 118.327437 139.904341 \nC 117.506449 140.725329 117.045158 141.838984 117.045158 143.000037 \nC 117.045158 144.161089 117.506449 145.274745 118.327437 146.095733 \nC 119.148425 146.916721 120.26208 147.378012 121.423133 147.378012 \nz\n\" style=\"fill:#4c72b0;fill-opacity:0.5;stroke:#ffffff;stroke-opacity:0.5;stroke-width:0.309839;\"/>\n    <path clip-path=\"url(#p5bc01d8347)\" d=\"M 106.680728 115.969604 \nC 107.841781 115.969604 108.955436 115.508313 109.776424 114.687325 \nC 110.597412 113.866337 111.058704 112.752682 111.058704 111.591629 \nC 111.058704 110.430576 110.597412 109.316921 109.776424 108.495933 \nC 108.955436 107.674945 107.841781 107.213654 106.680728 107.213654 \nC 105.519676 107.213654 104.406021 107.674945 103.585032 108.495933 \nC 102.764044 109.316921 102.302753 110.430576 102.302753 111.591629 \nC 102.302753 112.752682 102.764044 113.866337 103.585032 114.687325 \nC 104.406021 115.508313 105.519676 115.969604 106.680728 115.969604 \nz\n\" style=\"fill:#c44e52;fill-opacity:0.5;stroke:#ffffff;stroke-opacity:0.5;stroke-width:0.309839;\"/>\n    <path clip-path=\"url(#p5bc01d8347)\" d=\"M 118.821532 126.714586 \nC 119.982585 126.714586 121.09624 126.253295 121.917228 125.432307 \nC 122.738216 124.611318 123.199507 123.497663 123.199507 122.336611 \nC 123.199507 121.175558 122.738216 120.061903 121.917228 119.240915 \nC 121.09624 118.419927 119.982585 117.958635 118.821532 117.958635 \nC 117.660479 117.958635 116.546824 118.419927 115.725836 119.240915 \nC 114.904848 120.061903 114.443557 121.175558 114.443557 122.336611 \nC 114.443557 123.497663 114.904848 124.611318 115.725836 125.432307 \nC 116.546824 126.253295 117.660479 126.714586 118.821532 126.714586 \nz\n\" style=\"fill:#dd8452;fill-opacity:0.5;stroke:#ffffff;stroke-opacity:0.5;stroke-width:0.309839;\"/>\n    <path clip-path=\"url(#p5bc01d8347)\" d=\"M 166.517546 184.572179 \nC 167.678599 184.572179 168.792254 184.110888 169.613242 183.2899 \nC 170.43423 182.468912 170.895522 181.355256 170.895522 180.194204 \nC 170.895522 179.033151 170.43423 177.919496 169.613242 177.098508 \nC 168.792254 176.27752 167.678599 175.816229 166.517546 175.816229 \nC 165.356494 175.816229 164.242839 176.27752 163.42185 177.098508 \nC 162.600862 177.919496 162.139571 179.033151 162.139571 180.194204 \nC 162.139571 181.355256 162.600862 182.468912 163.42185 183.2899 \nC 164.242839 184.110888 165.356494 184.572179 166.517546 184.572179 \nz\n\" style=\"fill:#dd8452;fill-opacity:0.5;stroke:#ffffff;stroke-opacity:0.5;stroke-width:0.309839;\"/>\n    <path clip-path=\"url(#p5bc01d8347)\" d=\"M 180.392751 229.05489 \nC 181.952346 229.05489 183.448275 228.435256 184.551076 227.332455 \nC 185.653876 226.229655 186.27351 224.733726 186.27351 223.17413 \nC 186.27351 221.614535 185.653876 220.118606 184.551076 219.015805 \nC 183.448275 217.913005 181.952346 217.293371 180.392751 217.293371 \nC 178.833155 217.293371 177.337226 217.913005 176.234426 219.015805 \nC 175.131625 220.118606 174.511991 221.614535 174.511991 223.17413 \nC 174.511991 224.733726 175.131625 226.229655 176.234426 227.332455 \nC 177.337226 228.435256 178.833155 229.05489 180.392751 229.05489 \nz\n\" style=\"fill:#4c72b0;fill-opacity:0.5;stroke:#ffffff;stroke-opacity:0.5;stroke-width:0.309839;\"/>\n    <path clip-path=\"url(#p5bc01d8347)\" d=\"M 163.482345 196.143698 \nC 164.643398 196.143698 165.757053 195.682407 166.578041 194.861418 \nC 167.39903 194.04043 167.860321 192.926775 167.860321 191.765723 \nC 167.860321 190.60467 167.39903 189.491015 166.578041 188.670027 \nC 165.757053 187.849038 164.643398 187.387747 163.482345 187.387747 \nC 162.321293 187.387747 161.207638 187.849038 160.38665 188.670027 \nC 159.565661 189.491015 159.10437 190.60467 159.10437 191.765723 \nC 159.10437 192.926775 159.565661 194.04043 160.38665 194.861418 \nC 161.207638 195.682407 162.321293 196.143698 163.482345 196.143698 \nz\n\" style=\"fill:#4c72b0;fill-opacity:0.5;stroke:#ffffff;stroke-opacity:0.5;stroke-width:0.309839;\"/>\n    <path clip-path=\"url(#p5bc01d8347)\" d=\"M 106.247128 96.959252 \nC 107.408181 96.959252 108.521836 96.497961 109.342824 95.676973 \nC 110.163812 94.855985 110.625103 93.74233 110.625103 92.581277 \nC 110.625103 91.420224 110.163812 90.306569 109.342824 89.485581 \nC 108.521836 88.664593 107.408181 88.203302 106.247128 88.203302 \nC 105.086076 88.203302 103.97242 88.664593 103.151432 89.485581 \nC 102.330444 90.306569 101.869153 91.420224 101.869153 92.581277 \nC 101.869153 93.74233 102.330444 94.855985 103.151432 95.676973 \nC 103.97242 96.497961 105.086076 96.959252 106.247128 96.959252 \nz\n\" style=\"fill:#c44e52;fill-opacity:0.5;stroke:#ffffff;stroke-opacity:0.5;stroke-width:0.309839;\"/>\n    <path clip-path=\"url(#p5bc01d8347)\" d=\"M 109.715929 113.489993 \nC 110.876982 113.489993 111.990637 113.028702 112.811625 112.207714 \nC 113.632613 111.386726 114.093904 110.27307 114.093904 109.112018 \nC 114.093904 107.950965 113.632613 106.83731 112.811625 106.016322 \nC 111.990637 105.195334 110.876982 104.734043 109.715929 104.734043 \nC 108.554877 104.734043 107.441222 105.195334 106.620233 106.016322 \nC 105.799245 106.83731 105.337954 107.950965 105.337954 109.112018 \nC 105.337954 110.27307 105.799245 111.386726 106.620233 112.207714 \nC 107.441222 113.028702 108.554877 113.489993 109.715929 113.489993 \nz\n\" style=\"fill:#dd8452;fill-opacity:0.5;stroke:#ffffff;stroke-opacity:0.5;stroke-width:0.309839;\"/>\n    <path clip-path=\"url(#p5bc01d8347)\" d=\"M 85.434322 77.987028 \nC 85.947886 77.987028 86.440484 77.782987 86.803628 77.419842 \nC 87.166773 77.056698 87.370814 76.5641 87.370814 76.050536 \nC 87.370814 75.536972 87.166773 75.044374 86.803628 74.68123 \nC 86.440484 74.318085 85.947886 74.114044 85.434322 74.114044 \nC 84.920758 74.114044 84.42816 74.318085 84.065016 74.68123 \nC 83.701871 75.044374 83.49783 75.536972 83.49783 76.050536 \nC 83.49783 76.5641 83.701871 77.056698 84.065016 77.419842 \nC 84.42816 77.782987 84.920758 77.987028 85.434322 77.987028 \nz\n\" style=\"fill:#c44e52;fill-opacity:0.5;stroke:#ffffff;stroke-opacity:0.5;stroke-width:0.309839;\"/>\n    <path clip-path=\"url(#p5bc01d8347)\" d=\"M 85.434322 127.57925 \nC 85.947886 127.57925 86.440484 127.375209 86.803628 127.012065 \nC 87.166773 126.648921 87.370814 126.156322 87.370814 125.642759 \nC 87.370814 125.129195 87.166773 124.636597 86.803628 124.273452 \nC 86.440484 123.910308 85.947886 123.706267 85.434322 123.706267 \nC 84.920758 123.706267 84.42816 123.910308 84.065016 124.273452 \nC 83.701871 124.636597 83.49783 125.129195 83.49783 125.642759 \nC 83.49783 126.156322 83.701871 126.648921 84.065016 127.012065 \nC 84.42816 127.375209 84.920758 127.57925 85.434322 127.57925 \nz\n\" style=\"fill:#c44e52;fill-opacity:0.5;stroke:#ffffff;stroke-opacity:0.5;stroke-width:0.309839;\"/>\n    <path clip-path=\"url(#p5bc01d8347)\" d=\"M 160.880745 212.674439 \nC 162.041797 212.674439 163.155452 212.213148 163.976441 211.392159 \nC 164.797429 210.571171 165.25872 209.457516 165.25872 208.296463 \nC 165.25872 207.135411 164.797429 206.021756 163.976441 205.200768 \nC 163.155452 204.379779 162.041797 203.918488 160.880745 203.918488 \nC 159.719692 203.918488 158.606037 204.379779 157.785049 205.200768 \nC 156.964061 206.021756 156.50277 207.135411 156.50277 208.296463 \nC 156.50277 209.457516 156.964061 210.571171 157.785049 211.392159 \nC 158.606037 212.213148 159.719692 212.674439 160.880745 212.674439 \nz\n\" style=\"fill:#4c72b0;fill-opacity:0.5;stroke:#ffffff;stroke-opacity:0.5;stroke-width:0.309839;\"/>\n    <path clip-path=\"url(#p5bc01d8347)\" d=\"M 146.13834 130.020734 \nC 147.299393 130.020734 148.413048 129.559443 149.234036 128.738455 \nC 150.055024 127.917467 150.516315 126.803811 150.516315 125.642759 \nC 150.516315 124.481706 150.055024 123.368051 149.234036 122.547063 \nC 148.413048 121.726075 147.299393 121.264784 146.13834 121.264784 \nC 144.977288 121.264784 143.863632 121.726075 143.042644 122.547063 \nC 142.221656 123.368051 141.760365 124.481706 141.760365 125.642759 \nC 141.760365 126.803811 142.221656 127.917467 143.042644 128.738455 \nC 143.863632 129.559443 144.977288 130.020734 146.13834 130.020734 \nz\n\" style=\"fill:#dd8452;fill-opacity:0.5;stroke:#ffffff;stroke-opacity:0.5;stroke-width:0.309839;\"/>\n    <path clip-path=\"url(#p5bc01d8347)\" d=\"M 156.978344 171.347586 \nC 158.139396 171.347586 159.253051 170.886295 160.074039 170.065307 \nC 160.895028 169.244319 161.356319 168.130664 161.356319 166.969611 \nC 161.356319 165.808559 160.895028 164.694903 160.074039 163.873915 \nC 159.253051 163.052927 158.139396 162.591636 156.978344 162.591636 \nC 155.817291 162.591636 154.703636 163.052927 153.882648 163.873915 \nC 153.061659 164.694903 152.600368 165.808559 152.600368 166.969611 \nC 152.600368 168.130664 153.061659 169.244319 153.882648 170.065307 \nC 154.703636 170.886295 155.817291 171.347586 156.978344 171.347586 \nz\n\" style=\"fill:#4c72b0;fill-opacity:0.5;stroke:#ffffff;stroke-opacity:0.5;stroke-width:0.309839;\"/>\n    <path clip-path=\"url(#p5bc01d8347)\" d=\"M 142.669539 163.082216 \nC 143.830592 163.082216 144.944247 162.620925 145.765235 161.799937 \nC 146.586223 160.978948 147.047514 159.865293 147.047514 158.704241 \nC 147.047514 157.543188 146.586223 156.429533 145.765235 155.608545 \nC 144.944247 154.787557 143.830592 154.326265 142.669539 154.326265 \nC 141.508487 154.326265 140.394831 154.787557 139.573843 155.608545 \nC 138.752855 156.429533 138.291564 157.543188 138.291564 158.704241 \nC 138.291564 159.865293 138.752855 160.978948 139.573843 161.799937 \nC 140.394831 162.620925 141.508487 163.082216 142.669539 163.082216 \nz\n\" style=\"fill:#4c72b0;fill-opacity:0.5;stroke:#ffffff;stroke-opacity:0.5;stroke-width:0.309839;\"/>\n   </g>\n   <g id=\"PathCollection_2\"/>\n   <g id=\"PathCollection_3\"/>\n   <g id=\"PathCollection_4\"/>\n   <g id=\"PathCollection_5\"/>\n   <g id=\"PathCollection_6\"/>\n   <g id=\"PathCollection_7\"/>\n   <g id=\"PathCollection_8\"/>\n   <g id=\"PathCollection_9\"/>\n   <g id=\"PathCollection_10\"/>\n   <g id=\"patch_3\">\n    <path d=\"M 43.908437 321.78 \nL 43.908437 7.2 \n\" style=\"fill:none;stroke:#ffffff;stroke-linecap:square;stroke-linejoin:miter;stroke-width:1.25;\"/>\n   </g>\n   <g id=\"patch_4\">\n    <path d=\"M 43.908437 321.78 \nL 354.600275 321.78 \n\" style=\"fill:none;stroke:#ffffff;stroke-linecap:square;stroke-linejoin:miter;stroke-width:1.25;\"/>\n   </g>\n  </g>\n  <g id=\"legend_1\">\n   <g id=\"text_19\">\n    <!-- Manufacturer -->\n    <g style=\"fill:#262626;\" transform=\"translate(368.5594 106.465234)scale(0.12 -0.12)\">\n     <defs>\n      <path d=\"M 40.4375 6.390625 \nQ 35.546875 2.25 31.03125 0.53125 \nQ 26.515625 -1.171875 21.34375 -1.171875 \nQ 12.796875 -1.171875 8.203125 3 \nQ 3.609375 7.171875 3.609375 13.671875 \nQ 3.609375 17.484375 5.34375 20.625 \nQ 7.078125 23.78125 9.890625 25.6875 \nQ 12.703125 27.59375 16.21875 28.5625 \nQ 18.796875 29.25 24.03125 29.890625 \nQ 34.671875 31.15625 39.703125 32.90625 \nQ 39.75 34.71875 39.75 35.203125 \nQ 39.75 40.578125 37.25 42.78125 \nQ 33.890625 45.75 27.25 45.75 \nQ 21.046875 45.75 18.09375 43.578125 \nQ 15.140625 41.40625 13.71875 35.890625 \nL 5.125 37.0625 \nQ 6.296875 42.578125 8.984375 45.96875 \nQ 11.671875 49.359375 16.75 51.1875 \nQ 21.828125 53.03125 28.515625 53.03125 \nQ 35.15625 53.03125 39.296875 51.46875 \nQ 43.453125 49.90625 45.40625 47.53125 \nQ 47.359375 45.171875 48.140625 41.546875 \nQ 48.578125 39.3125 48.578125 33.453125 \nL 48.578125 21.734375 \nQ 48.578125 9.46875 49.140625 6.21875 \nQ 49.703125 2.984375 51.375 0 \nL 42.1875 0 \nQ 40.828125 2.734375 40.4375 6.390625 \nz\nM 39.703125 26.03125 \nQ 34.90625 24.078125 25.34375 22.703125 \nQ 19.921875 21.921875 17.671875 20.9375 \nQ 15.4375 19.96875 14.203125 18.09375 \nQ 12.984375 16.21875 12.984375 13.921875 \nQ 12.984375 10.40625 15.640625 8.0625 \nQ 18.3125 5.71875 23.4375 5.71875 \nQ 28.515625 5.71875 32.46875 7.9375 \nQ 36.421875 10.15625 38.28125 14.015625 \nQ 39.703125 17 39.703125 22.796875 \nz\n\" id=\"ArialMT-97\"/>\n      <path d=\"M 6.59375 0 \nL 6.59375 51.859375 \nL 14.5 51.859375 \nL 14.5 44.484375 \nQ 20.21875 53.03125 31 53.03125 \nQ 35.6875 53.03125 39.625 51.34375 \nQ 43.5625 49.65625 45.515625 46.921875 \nQ 47.46875 44.1875 48.25 40.4375 \nQ 48.734375 37.984375 48.734375 31.890625 \nL 48.734375 0 \nL 39.9375 0 \nL 39.9375 31.546875 \nQ 39.9375 36.921875 38.90625 39.578125 \nQ 37.890625 42.234375 35.28125 43.8125 \nQ 32.671875 45.40625 29.15625 45.40625 \nQ 23.53125 45.40625 19.453125 41.84375 \nQ 15.375 38.28125 15.375 28.328125 \nL 15.375 0 \nz\n\" id=\"ArialMT-110\"/>\n      <path d=\"M 40.578125 0 \nL 40.578125 7.625 \nQ 34.515625 -1.171875 24.125 -1.171875 \nQ 19.53125 -1.171875 15.546875 0.578125 \nQ 11.578125 2.34375 9.640625 5 \nQ 7.71875 7.671875 6.9375 11.53125 \nQ 6.390625 14.109375 6.390625 19.734375 \nL 6.390625 51.859375 \nL 15.1875 51.859375 \nL 15.1875 23.09375 \nQ 15.1875 16.21875 15.71875 13.8125 \nQ 16.546875 10.359375 19.234375 8.375 \nQ 21.921875 6.390625 25.875 6.390625 \nQ 29.828125 6.390625 33.296875 8.421875 \nQ 36.765625 10.453125 38.203125 13.9375 \nQ 39.65625 17.4375 39.65625 24.078125 \nL 39.65625 51.859375 \nL 48.4375 51.859375 \nL 48.4375 0 \nz\n\" id=\"ArialMT-117\"/>\n      <path d=\"M 8.6875 0 \nL 8.6875 45.015625 \nL 0.921875 45.015625 \nL 0.921875 51.859375 \nL 8.6875 51.859375 \nL 8.6875 57.375 \nQ 8.6875 62.59375 9.625 65.140625 \nQ 10.890625 68.5625 14.078125 70.671875 \nQ 17.28125 72.796875 23.046875 72.796875 \nQ 26.765625 72.796875 31.25 71.921875 \nL 29.9375 64.265625 \nQ 27.203125 64.75 24.75 64.75 \nQ 20.75 64.75 19.09375 63.03125 \nQ 17.4375 61.328125 17.4375 56.640625 \nL 17.4375 51.859375 \nL 27.546875 51.859375 \nL 27.546875 45.015625 \nL 17.4375 45.015625 \nL 17.4375 0 \nz\n\" id=\"ArialMT-102\"/>\n      <path d=\"M 40.4375 19 \nL 49.078125 17.875 \nQ 47.65625 8.9375 41.8125 3.875 \nQ 35.984375 -1.171875 27.484375 -1.171875 \nQ 16.84375 -1.171875 10.375 5.78125 \nQ 3.90625 12.75 3.90625 25.734375 \nQ 3.90625 34.125 6.6875 40.421875 \nQ 9.46875 46.734375 15.15625 49.875 \nQ 20.84375 53.03125 27.546875 53.03125 \nQ 35.984375 53.03125 41.359375 48.75 \nQ 46.734375 44.484375 48.25 36.625 \nL 39.703125 35.296875 \nQ 38.484375 40.53125 35.375 43.15625 \nQ 32.28125 45.796875 27.875 45.796875 \nQ 21.234375 45.796875 17.078125 41.03125 \nQ 12.9375 36.28125 12.9375 25.984375 \nQ 12.9375 15.53125 16.9375 10.796875 \nQ 20.953125 6.0625 27.390625 6.0625 \nQ 32.5625 6.0625 36.03125 9.234375 \nQ 39.5 12.40625 40.4375 19 \nz\n\" id=\"ArialMT-99\"/>\n      <path d=\"M 6.5 0 \nL 6.5 51.859375 \nL 14.40625 51.859375 \nL 14.40625 44 \nQ 17.4375 49.515625 20 51.265625 \nQ 22.5625 53.03125 25.640625 53.03125 \nQ 30.078125 53.03125 34.671875 50.203125 \nL 31.640625 42.046875 \nQ 28.421875 43.953125 25.203125 43.953125 \nQ 22.3125 43.953125 20.015625 42.21875 \nQ 17.71875 40.484375 16.75 37.40625 \nQ 15.28125 32.71875 15.28125 27.15625 \nL 15.28125 0 \nz\n\" id=\"ArialMT-114\"/>\n     </defs>\n     <use xlink:href=\"#ArialMT-77\"/>\n     <use x=\"83.300781\" xlink:href=\"#ArialMT-97\"/>\n     <use x=\"138.916016\" xlink:href=\"#ArialMT-110\"/>\n     <use x=\"194.53125\" xlink:href=\"#ArialMT-117\"/>\n     <use x=\"250.146484\" xlink:href=\"#ArialMT-102\"/>\n     <use x=\"277.929688\" xlink:href=\"#ArialMT-97\"/>\n     <use x=\"333.544922\" xlink:href=\"#ArialMT-99\"/>\n     <use x=\"383.544922\" xlink:href=\"#ArialMT-116\"/>\n     <use x=\"411.328125\" xlink:href=\"#ArialMT-117\"/>\n     <use x=\"466.943359\" xlink:href=\"#ArialMT-114\"/>\n     <use x=\"500.244141\" xlink:href=\"#ArialMT-101\"/>\n     <use x=\"555.859375\" xlink:href=\"#ArialMT-114\"/>\n    </g>\n   </g>\n   <g id=\"PathCollection_11\">\n    <defs>\n     <path d=\"M 0 3 \nC 0.795609 3 1.55874 2.683901 2.12132 2.12132 \nC 2.683901 1.55874 3 0.795609 3 0 \nC 3 -0.795609 2.683901 -1.55874 2.12132 -2.12132 \nC 1.55874 -2.683901 0.795609 -3 0 -3 \nC -0.795609 -3 -1.55874 -2.683901 -2.12132 -2.12132 \nC -2.683901 -1.55874 -3 -0.795609 -3 0 \nC -3 0.795609 -2.683901 1.55874 -2.12132 2.12132 \nC -1.55874 2.683901 -0.795609 3 0 3 \nz\n\" id=\"ma3b09bb3bb\" style=\"stroke:#4c72b0;\"/>\n    </defs>\n    <g>\n     <use style=\"fill:#4c72b0;stroke:#4c72b0;\" x=\"370.7594\" xlink:href=\"#ma3b09bb3bb\" y=\"119.336328\"/>\n    </g>\n   </g>\n   <g id=\"text_20\">\n    <!-- Ford -->\n    <g style=\"fill:#262626;\" transform=\"translate(390.5594 122.223828)scale(0.11 -0.11)\">\n     <defs>\n      <path d=\"M 8.203125 0 \nL 8.203125 71.578125 \nL 56.5 71.578125 \nL 56.5 63.140625 \nL 17.671875 63.140625 \nL 17.671875 40.96875 \nL 51.265625 40.96875 \nL 51.265625 32.515625 \nL 17.671875 32.515625 \nL 17.671875 0 \nz\n\" id=\"ArialMT-70\"/>\n      <path d=\"M 3.328125 25.921875 \nQ 3.328125 40.328125 11.328125 47.265625 \nQ 18.015625 53.03125 27.640625 53.03125 \nQ 38.328125 53.03125 45.109375 46.015625 \nQ 51.90625 39.015625 51.90625 26.65625 \nQ 51.90625 16.65625 48.90625 10.90625 \nQ 45.90625 5.171875 40.15625 2 \nQ 34.421875 -1.171875 27.640625 -1.171875 \nQ 16.75 -1.171875 10.03125 5.8125 \nQ 3.328125 12.796875 3.328125 25.921875 \nz\nM 12.359375 25.921875 \nQ 12.359375 15.96875 16.703125 11.015625 \nQ 21.046875 6.0625 27.640625 6.0625 \nQ 34.1875 6.0625 38.53125 11.03125 \nQ 42.875 16.015625 42.875 26.21875 \nQ 42.875 35.84375 38.5 40.796875 \nQ 34.125 45.75 27.640625 45.75 \nQ 21.046875 45.75 16.703125 40.8125 \nQ 12.359375 35.890625 12.359375 25.921875 \nz\n\" id=\"ArialMT-111\"/>\n      <path d=\"M 40.234375 0 \nL 40.234375 6.546875 \nQ 35.296875 -1.171875 25.734375 -1.171875 \nQ 19.53125 -1.171875 14.328125 2.25 \nQ 9.125 5.671875 6.265625 11.796875 \nQ 3.421875 17.921875 3.421875 25.875 \nQ 3.421875 33.640625 6 39.96875 \nQ 8.59375 46.296875 13.765625 49.65625 \nQ 18.953125 53.03125 25.34375 53.03125 \nQ 30.03125 53.03125 33.6875 51.046875 \nQ 37.359375 49.078125 39.65625 45.90625 \nL 39.65625 71.578125 \nL 48.390625 71.578125 \nL 48.390625 0 \nz\nM 12.453125 25.875 \nQ 12.453125 15.921875 16.640625 10.984375 \nQ 20.84375 6.0625 26.5625 6.0625 \nQ 32.328125 6.0625 36.34375 10.765625 \nQ 40.375 15.484375 40.375 25.140625 \nQ 40.375 35.796875 36.265625 40.765625 \nQ 32.171875 45.75 26.171875 45.75 \nQ 20.3125 45.75 16.375 40.96875 \nQ 12.453125 36.1875 12.453125 25.875 \nz\n\" id=\"ArialMT-100\"/>\n     </defs>\n     <use xlink:href=\"#ArialMT-70\"/>\n     <use x=\"61.083984\" xlink:href=\"#ArialMT-111\"/>\n     <use x=\"116.699219\" xlink:href=\"#ArialMT-114\"/>\n     <use x=\"150\" xlink:href=\"#ArialMT-100\"/>\n    </g>\n   </g>\n   <g id=\"PathCollection_12\">\n    <defs>\n     <path d=\"M 0 3 \nC 0.795609 3 1.55874 2.683901 2.12132 2.12132 \nC 2.683901 1.55874 3 0.795609 3 0 \nC 3 -0.795609 2.683901 -1.55874 2.12132 -2.12132 \nC 1.55874 -2.683901 0.795609 -3 0 -3 \nC -0.795609 -3 -1.55874 -2.683901 -2.12132 -2.12132 \nC -2.683901 -1.55874 -3 -0.795609 -3 0 \nC -3 0.795609 -2.683901 1.55874 -2.12132 2.12132 \nC -1.55874 2.683901 -0.795609 3 0 3 \nz\n\" id=\"m359acb05c9\" style=\"stroke:#dd8452;\"/>\n    </defs>\n    <g>\n     <use style=\"fill:#dd8452;stroke:#dd8452;\" x=\"370.7594\" xlink:href=\"#m359acb05c9\" y=\"134.896172\"/>\n    </g>\n   </g>\n   <g id=\"text_21\">\n    <!-- Toyota -->\n    <g style=\"fill:#262626;\" transform=\"translate(390.5594 137.783672)scale(0.11 -0.11)\">\n     <defs>\n      <path d=\"M 25.921875 0 \nL 25.921875 63.140625 \nL 2.34375 63.140625 \nL 2.34375 71.578125 \nL 59.078125 71.578125 \nL 59.078125 63.140625 \nL 35.40625 63.140625 \nL 35.40625 0 \nz\n\" id=\"ArialMT-84\"/>\n      <path d=\"M 6.203125 -19.96875 \nL 5.21875 -11.71875 \nQ 8.109375 -12.5 10.25 -12.5 \nQ 13.1875 -12.5 14.9375 -11.515625 \nQ 16.703125 -10.546875 17.828125 -8.796875 \nQ 18.65625 -7.46875 20.515625 -2.25 \nQ 20.75 -1.515625 21.296875 -0.09375 \nL 1.609375 51.859375 \nL 11.078125 51.859375 \nL 21.875 21.828125 \nQ 23.96875 16.109375 25.640625 9.8125 \nQ 27.15625 15.875 29.25 21.625 \nL 40.328125 51.859375 \nL 49.125 51.859375 \nL 29.390625 -0.875 \nQ 26.21875 -9.421875 24.46875 -12.640625 \nQ 22.125 -17 19.09375 -19.015625 \nQ 16.0625 -21.046875 11.859375 -21.046875 \nQ 9.328125 -21.046875 6.203125 -19.96875 \nz\n\" id=\"ArialMT-121\"/>\n     </defs>\n     <use xlink:href=\"#ArialMT-84\"/>\n     <use x=\"49.958984\" xlink:href=\"#ArialMT-111\"/>\n     <use x=\"105.574219\" xlink:href=\"#ArialMT-121\"/>\n     <use x=\"155.574219\" xlink:href=\"#ArialMT-111\"/>\n     <use x=\"211.189453\" xlink:href=\"#ArialMT-116\"/>\n     <use x=\"238.972656\" xlink:href=\"#ArialMT-97\"/>\n    </g>\n   </g>\n   <g id=\"PathCollection_13\">\n    <defs>\n     <path d=\"M 0 3 \nC 0.795609 3 1.55874 2.683901 2.12132 2.12132 \nC 2.683901 1.55874 3 0.795609 3 0 \nC 3 -0.795609 2.683901 -1.55874 2.12132 -2.12132 \nC 1.55874 -2.683901 0.795609 -3 0 -3 \nC -0.795609 -3 -1.55874 -2.683901 -2.12132 -2.12132 \nC -2.683901 -1.55874 -3 -0.795609 -3 0 \nC -3 0.795609 -2.683901 1.55874 -2.12132 2.12132 \nC -1.55874 2.683901 -0.795609 3 0 3 \nz\n\" id=\"ma2be2695f7\" style=\"stroke:#55a868;\"/>\n    </defs>\n    <g>\n     <use style=\"fill:#55a868;stroke:#55a868;\" x=\"370.7594\" xlink:href=\"#ma2be2695f7\" y=\"150.584922\"/>\n    </g>\n   </g>\n   <g id=\"text_22\">\n    <!-- Bmw -->\n    <g style=\"fill:#262626;\" transform=\"translate(390.5594 153.472422)scale(0.11 -0.11)\">\n     <defs>\n      <path d=\"M 7.328125 0 \nL 7.328125 71.578125 \nL 34.1875 71.578125 \nQ 42.390625 71.578125 47.34375 69.40625 \nQ 52.296875 67.234375 55.09375 62.71875 \nQ 57.90625 58.203125 57.90625 53.265625 \nQ 57.90625 48.6875 55.421875 44.625 \nQ 52.9375 40.578125 47.90625 38.09375 \nQ 54.390625 36.1875 57.875 31.59375 \nQ 61.375 27 61.375 20.75 \nQ 61.375 15.71875 59.25 11.390625 \nQ 57.125 7.078125 54 4.734375 \nQ 50.875 2.390625 46.15625 1.1875 \nQ 41.453125 0 34.625 0 \nz\nM 16.796875 41.5 \nL 32.28125 41.5 \nQ 38.578125 41.5 41.3125 42.328125 \nQ 44.921875 43.40625 46.75 45.890625 \nQ 48.578125 48.390625 48.578125 52.15625 \nQ 48.578125 55.71875 46.875 58.421875 \nQ 45.171875 61.140625 41.984375 62.140625 \nQ 38.8125 63.140625 31.109375 63.140625 \nL 16.796875 63.140625 \nz\nM 16.796875 8.453125 \nL 34.625 8.453125 \nQ 39.203125 8.453125 41.0625 8.796875 \nQ 44.34375 9.375 46.53125 10.734375 \nQ 48.734375 12.109375 50.140625 14.71875 \nQ 51.5625 17.328125 51.5625 20.75 \nQ 51.5625 24.75 49.515625 27.703125 \nQ 47.46875 30.671875 43.828125 31.859375 \nQ 40.1875 33.0625 33.34375 33.0625 \nL 16.796875 33.0625 \nz\n\" id=\"ArialMT-66\"/>\n      <path d=\"M 6.59375 0 \nL 6.59375 51.859375 \nL 14.453125 51.859375 \nL 14.453125 44.578125 \nQ 16.890625 48.390625 20.9375 50.703125 \nQ 25 53.03125 30.171875 53.03125 \nQ 35.9375 53.03125 39.625 50.640625 \nQ 43.3125 48.25 44.828125 43.953125 \nQ 50.984375 53.03125 60.84375 53.03125 \nQ 68.5625 53.03125 72.703125 48.75 \nQ 76.859375 44.484375 76.859375 35.59375 \nL 76.859375 0 \nL 68.109375 0 \nL 68.109375 32.671875 \nQ 68.109375 37.9375 67.25 40.25 \nQ 66.40625 42.578125 64.15625 43.984375 \nQ 61.921875 45.40625 58.890625 45.40625 \nQ 53.421875 45.40625 49.796875 41.765625 \nQ 46.1875 38.140625 46.1875 30.125 \nL 46.1875 0 \nL 37.40625 0 \nL 37.40625 33.6875 \nQ 37.40625 39.546875 35.25 42.46875 \nQ 33.109375 45.40625 28.21875 45.40625 \nQ 24.515625 45.40625 21.359375 43.453125 \nQ 18.21875 41.5 16.796875 37.734375 \nQ 15.375 33.984375 15.375 26.90625 \nL 15.375 0 \nz\n\" id=\"ArialMT-109\"/>\n      <path d=\"M 16.15625 0 \nL 0.296875 51.859375 \nL 9.375 51.859375 \nL 17.625 21.921875 \nL 20.703125 10.796875 \nQ 20.90625 11.625 23.390625 21.484375 \nL 31.640625 51.859375 \nL 40.671875 51.859375 \nL 48.4375 21.78125 \nL 51.03125 11.859375 \nL 54 21.875 \nL 62.890625 51.859375 \nL 71.4375 51.859375 \nL 55.21875 0 \nL 46.09375 0 \nL 37.84375 31.0625 \nL 35.84375 39.890625 \nL 25.34375 0 \nz\n\" id=\"ArialMT-119\"/>\n     </defs>\n     <use xlink:href=\"#ArialMT-66\"/>\n     <use x=\"66.699219\" xlink:href=\"#ArialMT-109\"/>\n     <use x=\"150\" xlink:href=\"#ArialMT-119\"/>\n    </g>\n   </g>\n   <g id=\"PathCollection_14\">\n    <defs>\n     <path d=\"M 0 3 \nC 0.795609 3 1.55874 2.683901 2.12132 2.12132 \nC 2.683901 1.55874 3 0.795609 3 0 \nC 3 -0.795609 2.683901 -1.55874 2.12132 -2.12132 \nC 1.55874 -2.683901 0.795609 -3 0 -3 \nC -0.795609 -3 -1.55874 -2.683901 -2.12132 -2.12132 \nC -2.683901 -1.55874 -3 -0.795609 -3 0 \nC -3 0.795609 -2.683901 1.55874 -2.12132 2.12132 \nC -1.55874 2.683901 -0.795609 3 0 3 \nz\n\" id=\"m179905323a\" style=\"stroke:#c44e52;\"/>\n    </defs>\n    <g>\n     <use style=\"fill:#c44e52;stroke:#c44e52;\" x=\"370.7594\" xlink:href=\"#m179905323a\" y=\"166.144766\"/>\n    </g>\n   </g>\n   <g id=\"text_23\">\n    <!-- Honda -->\n    <g style=\"fill:#262626;\" transform=\"translate(390.5594 169.032266)scale(0.11 -0.11)\">\n     <defs>\n      <path d=\"M 8.015625 0 \nL 8.015625 71.578125 \nL 17.484375 71.578125 \nL 17.484375 42.1875 \nL 54.6875 42.1875 \nL 54.6875 71.578125 \nL 64.15625 71.578125 \nL 64.15625 0 \nL 54.6875 0 \nL 54.6875 33.734375 \nL 17.484375 33.734375 \nL 17.484375 0 \nz\n\" id=\"ArialMT-72\"/>\n     </defs>\n     <use xlink:href=\"#ArialMT-72\"/>\n     <use x=\"72.216797\" xlink:href=\"#ArialMT-111\"/>\n     <use x=\"127.832031\" xlink:href=\"#ArialMT-110\"/>\n     <use x=\"183.447266\" xlink:href=\"#ArialMT-100\"/>\n     <use x=\"239.0625\" xlink:href=\"#ArialMT-97\"/>\n    </g>\n   </g>\n   <g id=\"PathCollection_15\">\n    <defs>\n     <path d=\"M 0 3 \nC 0.795609 3 1.55874 2.683901 2.12132 2.12132 \nC 2.683901 1.55874 3 0.795609 3 0 \nC 3 -0.795609 2.683901 -1.55874 2.12132 -2.12132 \nC 1.55874 -2.683901 0.795609 -3 0 -3 \nC -0.795609 -3 -1.55874 -2.683901 -2.12132 -2.12132 \nC -2.683901 -1.55874 -3 -0.795609 -3 0 \nC -3 0.795609 -2.683901 1.55874 -2.12132 2.12132 \nC -1.55874 2.683901 -0.795609 3 0 3 \nz\n\" id=\"mfc8ed632ba\" style=\"stroke:#8172b3;\"/>\n    </defs>\n    <g>\n     <use style=\"fill:#8172b3;stroke:#8172b3;\" x=\"370.7594\" xlink:href=\"#mfc8ed632ba\" y=\"181.704609\"/>\n    </g>\n   </g>\n   <g id=\"text_24\">\n    <!-- Mercedes -->\n    <g style=\"fill:#262626;\" transform=\"translate(390.5594 184.592109)scale(0.11 -0.11)\">\n     <defs>\n      <path d=\"M 3.078125 15.484375 \nL 11.765625 16.84375 \nQ 12.5 11.625 15.84375 8.84375 \nQ 19.1875 6.0625 25.203125 6.0625 \nQ 31.25 6.0625 34.171875 8.515625 \nQ 37.109375 10.984375 37.109375 14.3125 \nQ 37.109375 17.28125 34.515625 19 \nQ 32.71875 20.171875 25.53125 21.96875 \nQ 15.875 24.421875 12.140625 26.203125 \nQ 8.40625 27.984375 6.46875 31.125 \nQ 4.546875 34.28125 4.546875 38.09375 \nQ 4.546875 41.546875 6.125 44.5 \nQ 7.71875 47.46875 10.453125 49.421875 \nQ 12.5 50.921875 16.03125 51.96875 \nQ 19.578125 53.03125 23.640625 53.03125 \nQ 29.734375 53.03125 34.34375 51.265625 \nQ 38.96875 49.515625 41.15625 46.5 \nQ 43.359375 43.5 44.1875 38.484375 \nL 35.59375 37.3125 \nQ 35.015625 41.3125 32.203125 43.546875 \nQ 29.390625 45.796875 24.265625 45.796875 \nQ 18.21875 45.796875 15.625 43.796875 \nQ 13.03125 41.796875 13.03125 39.109375 \nQ 13.03125 37.40625 14.109375 36.03125 \nQ 15.1875 34.625 17.484375 33.6875 \nQ 18.796875 33.203125 25.25 31.453125 \nQ 34.578125 28.953125 38.25 27.359375 \nQ 41.9375 25.78125 44.03125 22.75 \nQ 46.140625 19.734375 46.140625 15.234375 \nQ 46.140625 10.84375 43.578125 6.953125 \nQ 41.015625 3.078125 36.171875 0.953125 \nQ 31.34375 -1.171875 25.25 -1.171875 \nQ 15.140625 -1.171875 9.84375 3.03125 \nQ 4.546875 7.234375 3.078125 15.484375 \nz\n\" id=\"ArialMT-115\"/>\n     </defs>\n     <use xlink:href=\"#ArialMT-77\"/>\n     <use x=\"83.300781\" xlink:href=\"#ArialMT-101\"/>\n     <use x=\"138.916016\" xlink:href=\"#ArialMT-114\"/>\n     <use x=\"172.216797\" xlink:href=\"#ArialMT-99\"/>\n     <use x=\"222.216797\" xlink:href=\"#ArialMT-101\"/>\n     <use x=\"277.832031\" xlink:href=\"#ArialMT-100\"/>\n     <use x=\"333.447266\" xlink:href=\"#ArialMT-101\"/>\n     <use x=\"389.0625\" xlink:href=\"#ArialMT-115\"/>\n    </g>\n   </g>\n   <g id=\"text_25\">\n    <!-- WeightCategory -->\n    <g style=\"fill:#262626;\" transform=\"translate(368.5594 201.013984)scale(0.12 -0.12)\">\n     <defs>\n      <path d=\"M 58.796875 25.09375 \nL 68.265625 22.703125 \nQ 65.28125 11.03125 57.546875 4.90625 \nQ 49.8125 -1.21875 38.625 -1.21875 \nQ 27.046875 -1.21875 19.796875 3.484375 \nQ 12.546875 8.203125 8.765625 17.140625 \nQ 4.984375 26.078125 4.984375 36.328125 \nQ 4.984375 47.515625 9.25 55.828125 \nQ 13.53125 64.15625 21.40625 68.46875 \nQ 29.296875 72.796875 38.765625 72.796875 \nQ 49.515625 72.796875 56.828125 67.328125 \nQ 64.15625 61.859375 67.046875 51.953125 \nL 57.71875 49.75 \nQ 55.21875 57.5625 50.484375 61.125 \nQ 45.75 64.703125 38.578125 64.703125 \nQ 30.328125 64.703125 24.78125 60.734375 \nQ 19.234375 56.78125 16.984375 50.109375 \nQ 14.75 43.453125 14.75 36.375 \nQ 14.75 27.25 17.40625 20.4375 \nQ 20.0625 13.625 25.671875 10.25 \nQ 31.296875 6.890625 37.84375 6.890625 \nQ 45.796875 6.890625 51.3125 11.46875 \nQ 56.84375 16.0625 58.796875 25.09375 \nz\n\" id=\"ArialMT-67\"/>\n     </defs>\n     <use xlink:href=\"#ArialMT-87\"/>\n     <use x=\"92.634766\" xlink:href=\"#ArialMT-101\"/>\n     <use x=\"148.25\" xlink:href=\"#ArialMT-105\"/>\n     <use x=\"170.466797\" xlink:href=\"#ArialMT-103\"/>\n     <use x=\"226.082031\" xlink:href=\"#ArialMT-104\"/>\n     <use x=\"281.697266\" xlink:href=\"#ArialMT-116\"/>\n     <use x=\"309.480469\" xlink:href=\"#ArialMT-67\"/>\n     <use x=\"381.697266\" xlink:href=\"#ArialMT-97\"/>\n     <use x=\"437.3125\" xlink:href=\"#ArialMT-116\"/>\n     <use x=\"465.095703\" xlink:href=\"#ArialMT-101\"/>\n     <use x=\"520.710938\" xlink:href=\"#ArialMT-103\"/>\n     <use x=\"576.326172\" xlink:href=\"#ArialMT-111\"/>\n     <use x=\"631.941406\" xlink:href=\"#ArialMT-114\"/>\n     <use x=\"665.242188\" xlink:href=\"#ArialMT-121\"/>\n    </g>\n   </g>\n   <g id=\"PathCollection_16\">\n    <defs>\n     <path d=\"M 0 1.936492 \nC 0.513564 1.936492 1.006162 1.732451 1.369306 1.369306 \nC 1.732451 1.006162 1.936492 0.513564 1.936492 0 \nC 1.936492 -0.513564 1.732451 -1.006162 1.369306 -1.369306 \nC 1.006162 -1.732451 0.513564 -1.936492 0 -1.936492 \nC -0.513564 -1.936492 -1.006162 -1.732451 -1.369306 -1.369306 \nC -1.732451 -1.006162 -1.936492 -0.513564 -1.936492 0 \nC -1.936492 0.513564 -1.732451 1.006162 -1.369306 1.369306 \nC -1.006162 1.732451 -0.513564 1.936492 0 1.936492 \nz\n\" id=\"mb3c9bea092\" style=\"stroke:#333333;\"/>\n    </defs>\n    <g>\n     <use style=\"fill:#333333;stroke:#333333;\" x=\"370.7594\" xlink:href=\"#mb3c9bea092\" y=\"214.025703\"/>\n    </g>\n   </g>\n   <g id=\"text_26\">\n    <!-- 1000 -->\n    <g style=\"fill:#262626;\" transform=\"translate(390.5594 216.913203)scale(0.11 -0.11)\">\n     <use xlink:href=\"#ArialMT-49\"/>\n     <use x=\"55.615234\" xlink:href=\"#ArialMT-48\"/>\n     <use x=\"111.230469\" xlink:href=\"#ArialMT-48\"/>\n     <use x=\"166.845703\" xlink:href=\"#ArialMT-48\"/>\n    </g>\n   </g>\n   <g id=\"PathCollection_17\">\n    <defs>\n     <path d=\"M 0 4.377975 \nC 1.161053 4.377975 2.274708 3.916684 3.095696 3.095696 \nC 3.916684 2.274708 4.377975 1.161053 4.377975 0 \nC 4.377975 -1.161053 3.916684 -2.274708 3.095696 -3.095696 \nC 2.274708 -3.916684 1.161053 -4.377975 0 -4.377975 \nC -1.161053 -4.377975 -2.274708 -3.916684 -3.095696 -3.095696 \nC -3.916684 -2.274708 -4.377975 -1.161053 -4.377975 0 \nC -4.377975 1.161053 -3.916684 2.274708 -3.095696 3.095696 \nC -2.274708 3.916684 -1.161053 4.377975 0 4.377975 \nz\n\" id=\"ma553357d0f\" style=\"stroke:#333333;\"/>\n    </defs>\n    <g>\n     <use style=\"fill:#333333;stroke:#333333;\" x=\"370.7594\" xlink:href=\"#ma553357d0f\" y=\"229.585547\"/>\n    </g>\n   </g>\n   <g id=\"text_27\">\n    <!-- 2000 -->\n    <g style=\"fill:#262626;\" transform=\"translate(390.5594 232.473047)scale(0.11 -0.11)\">\n     <use xlink:href=\"#ArialMT-50\"/>\n     <use x=\"55.615234\" xlink:href=\"#ArialMT-48\"/>\n     <use x=\"111.230469\" xlink:href=\"#ArialMT-48\"/>\n     <use x=\"166.845703\" xlink:href=\"#ArialMT-48\"/>\n    </g>\n   </g>\n   <g id=\"PathCollection_18\">\n    <defs>\n     <path d=\"M 0 5.88076 \nC 1.559596 5.88076 3.055524 5.261126 4.158325 4.158325 \nC 5.261126 3.055524 5.88076 1.559596 5.88076 0 \nC 5.88076 -1.559596 5.261126 -3.055524 4.158325 -4.158325 \nC 3.055524 -5.261126 1.559596 -5.88076 0 -5.88076 \nC -1.559596 -5.88076 -3.055524 -5.261126 -4.158325 -4.158325 \nC -5.261126 -3.055524 -5.88076 -1.559596 -5.88076 0 \nC -5.88076 1.559596 -5.261126 3.055524 -4.158325 4.158325 \nC -3.055524 5.261126 -1.559596 5.88076 0 5.88076 \nz\n\" id=\"mbda3b2c01a\" style=\"stroke:#333333;\"/>\n    </defs>\n    <g>\n     <use style=\"fill:#333333;stroke:#333333;\" x=\"370.7594\" xlink:href=\"#mbda3b2c01a\" y=\"245.145391\"/>\n    </g>\n   </g>\n   <g id=\"text_28\">\n    <!-- 3000 -->\n    <g style=\"fill:#262626;\" transform=\"translate(390.5594 248.032891)scale(0.11 -0.11)\">\n     <use xlink:href=\"#ArialMT-51\"/>\n     <use x=\"55.615234\" xlink:href=\"#ArialMT-48\"/>\n     <use x=\"111.230469\" xlink:href=\"#ArialMT-48\"/>\n     <use x=\"166.845703\" xlink:href=\"#ArialMT-48\"/>\n    </g>\n   </g>\n   <g id=\"PathCollection_19\">\n    <defs>\n     <path d=\"M 0 7.071068 \nC 1.875269 7.071068 3.673985 6.326016 5 5 \nC 6.326016 3.673985 7.071068 1.875269 7.071068 0 \nC 7.071068 -1.875269 6.326016 -3.673985 5 -5 \nC 3.673985 -6.326016 1.875269 -7.071068 0 -7.071068 \nC -1.875269 -7.071068 -3.673985 -6.326016 -5 -5 \nC -6.326016 -3.673985 -7.071068 -1.875269 -7.071068 0 \nC -7.071068 1.875269 -6.326016 3.673985 -5 5 \nC -3.673985 6.326016 -1.875269 7.071068 0 7.071068 \nz\n\" id=\"mac7c4dd7fc\" style=\"stroke:#333333;\"/>\n    </defs>\n    <g>\n     <use style=\"fill:#333333;stroke:#333333;\" x=\"370.7594\" xlink:href=\"#mac7c4dd7fc\" y=\"260.705234\"/>\n    </g>\n   </g>\n   <g id=\"text_29\">\n    <!-- 4000 -->\n    <g style=\"fill:#262626;\" transform=\"translate(390.5594 263.592734)scale(0.11 -0.11)\">\n     <use xlink:href=\"#ArialMT-52\"/>\n     <use x=\"55.615234\" xlink:href=\"#ArialMT-48\"/>\n     <use x=\"111.230469\" xlink:href=\"#ArialMT-48\"/>\n     <use x=\"166.845703\" xlink:href=\"#ArialMT-48\"/>\n    </g>\n   </g>\n  </g>\n </g>\n <defs>\n  <clipPath id=\"p5bc01d8347\">\n   <rect height=\"314.58\" width=\"310.691838\" x=\"43.908437\" y=\"7.2\"/>\n  </clipPath>\n </defs>\n</svg>\n",
      "image/png": "[encoded data removed]"
     },
     "metadata": {}
    }
   ],
   "source": [
    "sns.set_theme(style=\"dark\")\n",
    "sns.set_context(\"notebook\")\n",
    "\n",
    "sns.relplot(\n",
    "    x=\"Weight\", \n",
    "    y=\"MPG\", \n",
    "    hue='Manufacturer', \n",
    "    size=\"WeightCategory\", \n",
    "    sizes=(15, 200), \n",
    "    data=df,\n",
    "    alpha=0.5\n",
    ");"
   ]
  },
  {
   "source": [
    "# Bokeh"
   ],
   "cell_type": "markdown",
   "metadata": {}
  },
  {
   "source": [
    "Sources\n",
    "- https://docs.bokeh.org/en/latest/docs/first_steps/installation.html\n",
    "- https://stackoverflow.com/questions/43983039/color-points-in-scatter-plot-of-bokeh"
   ],
   "cell_type": "markdown",
   "metadata": {}
  },
  {
   "cell_type": "code",
   "execution_count": 232,
   "metadata": {},
   "outputs": [],
   "source": [
    "import bokeh.models as bmo\n",
    "from bokeh.plotting import figure, show\n",
    "from bokeh.io import output_file, curdoc\n",
    "from bokeh.models import ColumnDataSource, NumeralTickFormatter\n",
    "from bokeh.models.tools import HoverTool, CrosshairTool, ResetTool, LassoSelectTool\n",
    "from bokeh.transform import factor_cmap\n",
    "from bokeh.palettes import Dark2"
   ]
  },
  {
   "cell_type": "code",
   "execution_count": 234,
   "metadata": {},
   "outputs": [],
   "source": [
    "# curdoc().theme = 'contrast'\n",
    "curdoc().theme = 'caliber'\n",
    "\n",
    "# what you seen when you hover over a point\n",
    "car_tooltips = [\n",
    "    (\"Car\", \"@Car\"),\n",
    "    (\"Manufacturer\", \"@Manufacturer\"),\n",
    "    (\"Model Year\", \"@ModelYear\"),\n",
    "    (\"Weight\", \"@Weight\"),\n",
    "    (\"MPG\", \"@MPG\"),\n",
    "    (\"Cylinders\", \"@Cylinders\"),\n",
    "    (\"Displacement\", \"@Displacement\"),\n",
    "    (\"Horsepower\", \"@Horsepower\"),\n",
    "    (\"Acceleration\", \"@Acceleration\")\n",
    "]\n",
    "\n",
    "# color by manufacturer\n",
    "cmap = bmo.CategoricalColorMapper(factors=df['Manufacturer'].unique(),\n",
    "                                   palette=Dark2[5])\n",
    "\n",
    "# scale the weight categories so the points fit in the plot\n",
    "weight_categories_scaled = [weight / 125 for weight in df['WeightCategory'].values.tolist()]\n",
    "df['WeightCategoriesScaled'] = weight_categories_scaled\n",
    "\n",
    "# Create the figure\n",
    "fig = figure(\n",
    "    plot_height=600,\n",
    "    plot_width=800,\n",
    "    x_axis_label='Weight',\n",
    "    y_axis_label='MPG',\n",
    "    x_range=(1500, 5250),\n",
    "    y_range=(0, 50),\n",
    "    title='Weight vs MPG',\n",
    "    toolbar_location='below',\n",
    "    tools=[HoverTool(), CrosshairTool(), LassoSelectTool(), ResetTool()],\n",
    "    tooltips=car_tooltips\n",
    ")\n",
    "\n",
    "# get rid of grid lines\n",
    "fig.xgrid.grid_line_color = None\n",
    "fig.ygrid.grid_line_color = None\n",
    "\n",
    "# bubble plot\n",
    "fig.circle(\n",
    "    x='Weight',\n",
    "    y='MPG',\n",
    "    source=df,\n",
    "    color={'field': 'Manufacturer', 'transform': cmap},\n",
    "    size='WeightCategoriesScaled',\n",
    "    fill_alpha=0.5,\n",
    "    legend_field=\"Manufacturer\"\n",
    ")\n",
    "\n",
    "show(fig)"
   ]
  },
  {
   "cell_type": "code",
   "execution_count": null,
   "metadata": {},
   "outputs": [],
   "source": []
  }
 ],
 "metadata": {
  "kernelspec": {
   "display_name": "Python 3",
   "language": "python",
   "name": "python3"
  },
  "language_info": {
   "codemirror_mode": {
    "name": "ipython",
    "version": 3
   },
   "file_extension": ".py",
   "mimetype": "text/x-python",
   "name": "python",
   "nbconvert_exporter": "python",
   "pygments_lexer": "ipython3",
   "version": "3.8.5-final"
  }
 },
 "nbformat": 4,
 "nbformat_minor": 4
}